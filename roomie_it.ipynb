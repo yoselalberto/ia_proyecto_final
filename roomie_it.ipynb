{
 "metadata": {
  "orig_nbformat": 2,
  "kernelspec": {
   "name": "python3",
   "display_name": "Python 3",
   "language": "python"
  }
 },
 "nbformat": 4,
 "nbformat_minor": 2,
 "cells": [
  {
   "source": [
    "## Parte técnica de la evaluación"
   ],
   "cell_type": "markdown",
   "metadata": {}
  },
  {
   "cell_type": "code",
   "execution_count": 5,
   "metadata": {},
   "outputs": [],
   "source": [
    "# primeros parrafos de la entrada de wikipedia\n",
    "texto_ejemplo = \"\"\"Python is an interpreted, high-level and general-purpose programming language. Python's design philosophy emphasizes code readability with its notable use of significant whitespace. Its language constructs and object-oriented approach aim to help programmers write clear, logical code for small and large-scale projects.[28]\n",
    "Python is dynamically typed and garbage-collected. It supports multiple programming paradigms, including structured (particularly, procedural), object-oriented and functional programming. Python is often described as a \"batteries included\" language due to its comprehensive standard library.[29]\n",
    "Python was created in the late 1980s, and first released in 1991, by Guido van Rossum as a successor to the ABC programming language. Python 2.0, released in 2000, introduced new features, such as list comprehensions, and a garbage collection system with reference counting, and was discontinued with version 2.7 in 2020.[30] Python 3.0, released in 2008, was a major revision of the language that is not completely backward-compatible and much Python 2 code does not run unmodified on Python 3. With Python 2's end-of-life, only Python 3.6.x[31] and later are supported, with older versions still supporting e.g. Windows 7 (and old installers not restricted to 64-bit Windows).\n",
    "Python interpreters are supported for mainstream operating systems and available for a few more (and in the past supported many more). A global community of programmers develops and maintains CPython, a free and open-source[32] reference implementation. A non-profit organization, the Python Software Foundation, manages and directs resources for Python and CPython development.\n",
    "As of December 2020 Python ranked third in TIOBE’s index of most popular programming languages, behind C and Java.[33] \"\"\""
   ]
  },
  {
   "cell_type": "code",
   "execution_count": 28,
   "metadata": {},
   "outputs": [],
   "source": [
    "## funciones base\n",
    "import re\n",
    "# separación de la entrada en parrafos\n",
    "def separar_en_parrafos(texto, fin_parrafo = '\\n'):\n",
    "    \"\"\"separa el texto en parrafos, usando el separador (default a \\n)\n",
    "    \n",
    "    :texto str: texto inicial.\n",
    "    :fin_parrafo str: cadena usada para detectar finales de parrafo, default '\\n'\n",
    "    return list[str]: lista de strings, cada elemento es un parrafo\n",
    "    \"\"\"\n",
    "    parrafos = texto.split(fin_parrafo)\n",
    "    return parrafos\n",
    "# extracción de patrones\n",
    "def extraccion_patron(corpus, patron):\n",
    "    '''extrae extrae todas las subcadenas que cumplen el patron en cada uno de los parrafos.\n",
    "\n",
    "    :corpus list[str]: corpus de los parrafos\n",
    "    :patron str: patron a buscar en cada parrafo, e.g. cifras (r'\\d+'), palabras en mayusculas (r'[A-Z]+')\n",
    "    :return list[list[int, list[str]]]: cada sublista contiene el indice del parrafo como primer elemento, y las subcadenas encontradas en la segunda entrada\n",
    "    '''\n",
    "    salida = []\n",
    "    # iteracción\n",
    "    for indice, parrafo in enumerate(corpus):\n",
    "        # busca el patrón\n",
    "        encuentros = re.findall(patron, parrafo)\n",
    "        # añade los descubrimientos:\n",
    "        if(len(encuentros) >= 1):\n",
    "            # si encuentra el patrón, lo añade a la salida\n",
    "            salida.append([indice, encuentros])\n",
    "    return salida\n",
    "# extracción de patrones\n",
    "def deteccion_patron(corpus, patron):\n",
    "    '''detecta los parrafos que cumplen un patrón\n",
    "\n",
    "    :corpus list[str]: corpus de los parrafos\n",
    "    :patron str: patron a buscar en cada parrafo\n",
    "    :return list[list[int, str]]: lista donde cada entrada es una lista, indice y parrafo, de los parrafos que cumplen el patrón,\n",
    "    '''\n",
    "    # inicializo la lista de salida\n",
    "    salida = []\n",
    "    # iteracuión\n",
    "    for indice, parrafo in enumerate(corpus):\n",
    "        # busca el patron\n",
    "        encuentros = re.findall(patron, parrafo)\n",
    "        # añade los descubrimientos, indice y parrafo\n",
    "        if(len(encuentros) >= 1):\n",
    "            salida.append([indice, parrafo])\n",
    "    return salida\n",
    "# simplificación de un corpus transformado\n",
    "def simplificar(corpus_transformado, tipo):\n",
    "    \"\"\"simplifica un resultado, devuelve una lista con los indices, o con los valores\n",
    "\n",
    "    :corpus_transformado list[list[int, list[str]]]: resultado de una operación al corpus\n",
    "    :tipo str: tipo de simplificación, puede ser indice o valor, default a valor\n",
    "    : return\n",
    "    \"\"\"\n",
    "    if (tipo == 'indice'):\n",
    "        salida = [subelemento[0] for subelemento in corpus_transformado]\n",
    "    else:  \n",
    "        salida = [subelemento[1] for subelemento in corpus_transformado]\n",
    "    # salida\n",
    "    return salida"
   ]
  },
  {
   "source": [
    "# aprovechando las funciones base podemos crear otras que detecten si un patrón existe en un corpus, o extraer esos patrones"
   ],
   "cell_type": "code",
   "metadata": {},
   "execution_count": 2,
   "outputs": []
  },
  {
   "cell_type": "code",
   "execution_count": 13,
   "metadata": {},
   "outputs": [],
   "source": [
    "# detectar cifras\n",
    "def extraer_cifras(corpus):\n",
    "    return extraccion_patron(corpus, r'\\d+')\n",
    "# detectar palabras en mayusculas\n",
    "def extraer_palabras_en_mayusculas(corpus):\n",
    "    return extraccion_patron(corpus, patron = r'[A-Z]+')\n",
    "# detectar palabras que inician con mayusculas\n",
    "def extraer_palabras_que_empiezan_en_mayusculas(corpus):\n",
    "    return extraccion_patron(corpus, patron = r'[A-Z][a-z]+')\n",
    "# detectar frases entre parentesis\n",
    "def extraer_palabras_entre_parentesis(corpus):\n",
    "    return extraccion_patron(corpus, patron = r'\\(.+\\)')"
   ]
  },
  {
   "cell_type": "code",
   "execution_count": 25,
   "metadata": {},
   "outputs": [
    {
     "output_type": "stream",
     "name": "stdout",
     "text": [
      "[[1, ['(particularly, procedural)']], [2, ['(and old installers not restricted to 64-bit Windows)']], [3, ['(and in the past supported many more)']]]\n"
     ]
    }
   ],
   "source": [
    "# pruebo las funciones\n",
    "# separación en parrafos\n",
    "corpus_ejemplo = separar_en_parrafos(texto_ejemplo)\n",
    "#\n",
    "# print(extraer_cifras(corpus_ejemplo))\n",
    "# print(extraer_palabras_que_empiezan_en_mayusculas(corpus_ejemplo))\n",
    "# print(extraer_palabras_en_mayusculas(corpus_ejemplo))\n",
    "print(extraer_palabras_entre_parentesis(corpus_ejemplo))"
   ]
  },
  {
   "source": [
    "# del mismo modo se pueden crear funciones que detecten si el parrafo contiene el patrón"
   ],
   "cell_type": "code",
   "metadata": {},
   "execution_count": 21,
   "outputs": []
  },
  {
   "cell_type": "code",
   "execution_count": 22,
   "metadata": {},
   "outputs": [],
   "source": [
    "# detectar cifras\n",
    "def detectar_cifras(corpus):\n",
    "    return deteccion_patron(corpus, r'\\d+')\n",
    "# detectar palabras en mayusculas\n",
    "def detectar_palabras_en_mayusculas(corpus):\n",
    "    return deteccion_patron(corpus, patron = r'[A-Z]+')\n",
    "# detectar palabras que inician con mayusculas\n",
    "def detectar_palabras_que_empiezan_en_mayusculas(corpus):\n",
    "    return deteccion_patron(corpus, patron = r'[A-Z][a-z]+')\n",
    "# detectar frases entre parentesis\n",
    "def detectar_palabras_entre_parentesis(corpus):\n",
    "    return deteccion_patron(corpus, patron = r'\\(.+\\)')"
   ]
  },
  {
   "cell_type": "code",
   "execution_count": null,
   "metadata": {},
   "outputs": [],
   "source": []
  },
  {
   "cell_type": "code",
   "execution_count": 24,
   "metadata": {},
   "outputs": [
    {
     "output_type": "stream",
     "name": "stdout",
     "text": [
      "[[0, \"Python is an interpreted, high-level and general-purpose programming language. Python's design philosophy emphasizes code readability with its notable use of significant whitespace. Its language constructs and object-oriented approach aim to help programmers write clear, logical code for small and large-scale projects.[28]\"], [1, 'Python is dynamically typed and garbage-collected. It supports multiple programming paradigms, including structured (particularly, procedural), object-oriented and functional programming. Python is often described as a \"batteries included\" language due to its comprehensive standard library.[29]'], [2, \"Python was created in the late 1980s, and first released in 1991, by Guido van Rossum as a successor to the ABC programming language. Python 2.0, released in 2000, introduced new features, such as list comprehensions, and a garbage collection system with reference counting, and was discontinued with version 2.7 in 2020.[30] Python 3.0, released in 2008, was a major revision of the language that is not completely backward-compatible and much Python 2 code does not run unmodified on Python 3. With Python 2's end-of-life, only Python 3.6.x[31] and later are supported, with older versions still supporting e.g. Windows 7 (and old installers not restricted to 64-bit Windows).\"], [3, 'Python interpreters are supported for mainstream operating systems and available for a few more (and in the past supported many more). A global community of programmers develops and maintains CPython, a free and open-source[32] reference implementation. A non-profit organization, the Python Software Foundation, manages and directs resources for Python and CPython development.'], [4, 'As of December 2020 Python ranked third in TIOBE’s index of most popular programming languages, behind C and Java.[33] ']]\n"
     ]
    }
   ],
   "source": [
    "#\n",
    "print(detectar_cifras(corpus_ejemplo))\n",
    "# print(detectar_palabras_que_empiezan_en_mayusculas(corpus_ejemplo))\n",
    "# print(detectar_palabras_en_mayusculas(corpus_ejemplo))\n",
    "# print(detectar_palabras_entre_parentesis(corpus_ejemplo))"
   ]
  },
  {
   "cell_type": "code",
   "execution_count": 34,
   "metadata": {},
   "outputs": [
    {
     "output_type": "stream",
     "name": "stdout",
     "text": [
      "[['(particularly, procedural)'], ['(and old installers not restricted to 64-bit Windows)'], ['(and in the past supported many more)']]\n[0, 1, 2, 3, 4]\n"
     ]
    }
   ],
   "source": [
    "# simplificación de resultadoss\n",
    "parrafos_completos_parentesis = extraer_palabras_entre_parentesis(corpus_ejemplo)\n",
    "parrafos_cifras = detectar_cifras(corpus_ejemplo)\n",
    "#\n",
    "print(simplificar(parrafos_completos_parentesis, tipo = 'valor'))\n",
    "print(simplificar(parrafos_cifras, tipo = 'indice'))\n"
   ]
  },
  {
   "source": [
    "# Extensión por parte del un usuario futuro\n",
    "\n",
    "Aprovechando `extraccion_patron` y `deteccion_patron` se pueden crear más funciones, que extraigan o detecten (filtren), la clave es usar el patrón adecuado:\n",
    "\n",
    "#### Base para extraer subcadenas que cumplen algún patrón:\n",
    "```\n",
    "def extract_<algo>(corpus, patron):\n",
    "    return extraccion_patron(corpus, patron)\n",
    "```\n",
    "#### Base para detectar parrafos que cumplen un patrón:\n",
    "```\n",
    "def detectar_<algo>(corpus, patron):\n",
    "    return deteccion_patron(corpus, patron)\n",
    "```"
   ],
   "cell_type": "markdown",
   "metadata": {}
  },
  {
   "cell_type": "code",
   "execution_count": 1,
   "metadata": {},
   "outputs": [
    {
     "output_type": "execute_result",
     "data": {
      "text/plain": [
       "str"
      ]
     },
     "metadata": {},
     "execution_count": 1
    }
   ],
   "source": [
    "type(\"amarillo\")"
   ]
  },
  {
   "cell_type": "code",
   "execution_count": null,
   "metadata": {},
   "outputs": [],
   "source": []
  }
 ]
}