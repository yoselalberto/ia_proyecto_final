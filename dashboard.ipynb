{
 "cells": [
  {
   "cell_type": "code",
   "execution_count": 1,
   "id": "imposed-packaging",
   "metadata": {},
   "outputs": [],
   "source": [
    "# dependencies\n",
    "import pandas as pd\n",
    "# dashboard\n",
    "import plotly.express       as px\n",
    "from   jupyter_dash         import JupyterDash\n",
    "import dash_core_components as dcc\n",
    "import dash_html_components as html\n",
    "from   dash.dependencies    import Input, Output, State\n",
    "# ad hoc functions\n",
    "from   utils import *"
   ]
  },
  {
   "cell_type": "code",
   "execution_count": 2,
   "id": "blessed-detroit",
   "metadata": {},
   "outputs": [],
   "source": [
    "##  data\n",
    "# modeling\n",
    "path             = 'https://raw.githubusercontent.com/yoselalberto/ia_proyecto_final/main/data/processed/celulares_procesados.csv'\n",
    "# to show in interface\n",
    "path_formateados = 'https://raw.githubusercontent.com/yoselalberto/ia_proyecto_final/main/data/processed/celulares_formato.csv'"
   ]
  },
  {
   "cell_type": "code",
   "execution_count": 3,
   "id": "attached-iraqi",
   "metadata": {},
   "outputs": [],
   "source": [
    "# Load Data\n",
    "df_inicio     = pd.read_csv(path)\n",
    "df_formateado = pd.read_csv(path_formateados)"
   ]
  },
  {
   "cell_type": "code",
   "execution_count": 4,
   "id": "about-compromise",
   "metadata": {},
   "outputs": [],
   "source": [
    "## parametros para modelar\n",
    "# estas columnas serán ignoradas durante el modelado, pero serán mostradas en la recomendación\n",
    "columnas_ignorar     = {'color', 'pantalla'}\n",
    "# variable objetivo\n",
    "columna_objetivo     = 'producto_nombre'\n",
    "# columnas categoricas\n",
    "columnas_categoricas = ['marca', 'procesador', 'sistema_operativo', 'tecnologia']\n",
    "# columnas numericas\n",
    "columnas_numericas   = ['peso', 'camara_trasera', 'camara_frontal', 'ram', 'memoria', 'precio']\n",
    "# variables predictoras\n",
    "columnas_predictoras = columnas_numericas + columnas_categoricas"
   ]
  },
  {
   "cell_type": "code",
   "execution_count": 5,
   "id": "bacterial-confidence",
   "metadata": {},
   "outputs": [],
   "source": [
    "# elimino columnas, duplicados, y reordeno las columnas\n",
    "df = df_inicio.drop(columns = columnas_ignorar).drop_duplicates().reset_index(drop = True)[columnas_predictoras + [columna_objetivo]]"
   ]
  },
  {
   "cell_type": "code",
   "execution_count": 6,
   "id": "minus-trailer",
   "metadata": {},
   "outputs": [],
   "source": [
    "# train and test split\n",
    "predictores = df.drop(columns = columna_objetivo)\n",
    "objetivo    = df[[columna_objetivo]]"
   ]
  },
  {
   "cell_type": "markdown",
   "id": "sunset-hardwood",
   "metadata": {},
   "source": [
    "## Ingeniería de variables\n",
    "\n",
    "Para llenar valores faltantes usaremos el promedio para las variables númericas, y la moda para las variables categoricas; también estandarizamos las variables númericas, restamos la media, y dividimos entre la desviación estandar.  \n",
    "Para la variable objetivo, simplemente aplicamos el one hot encoding."
   ]
  },
  {
   "cell_type": "code",
   "execution_count": 7,
   "id": "annual-outside",
   "metadata": {},
   "outputs": [],
   "source": [
    "# transformo los predictores\n",
    "predictores_transformed = feature_engineer(predictores, columnas_numericas, columnas_categoricas)\n",
    "# tambien la variable objetivo, one hot encoding\n",
    "(objetivo_transformed, encoder_objetivo) = ohe_objetivo(objetivo)"
   ]
  },
  {
   "cell_type": "markdown",
   "id": "raising-boring",
   "metadata": {},
   "source": [
    "## Modelado\n",
    "\n",
    "Al final implementaremos un DecisionTreeClassifier, sus recomendaciones son subjetivamente mejor (el random forest recomendaba un modelo el 95% de las veces)."
   ]
  },
  {
   "cell_type": "code",
   "execution_count": 8,
   "id": "wanted-companion",
   "metadata": {},
   "outputs": [
    {
     "name": "stdout",
     "output_type": "stream",
     "text": [
      "0.38014705882352945 {'criterion': 'entropy', 'max_depth': 8, 'min_samples_leaf': 1}\n"
     ]
    }
   ],
   "source": [
    "# creo evaluador para el grid search, utilizaré el micro f1 score\n",
    "scorer_f1  = make_scorer(f1_score, average = 'micro')\n",
    "# valores a explorar\n",
    "# parameters = {'max_depth': [2, 4, 8], 'criterion': ['gini', 'entropy'], 'min_samples_leaf': [1, 2, 4], 'n_estimators': [5, 10, 20]}\n",
    "parameters = {'max_depth': [2, 4, 8], 'criterion': ['gini', 'entropy'], 'min_samples_leaf': [1, 2, 4]}\n",
    "# ajuste y evaluacion\n",
    "# modelo = GridSearchCV(RandomForestClassifier(random_state = 59, oob_score = True, max_features = 6, class_weight = \"balanced\"), parameters, n_jobs = 6, scoring = scorer_f1, cv = 4)\n",
    "modelo = GridSearchCV(DecisionTreeClassifier(random_state = 59, max_features = 6, class_weight = \"balanced\"), parameters, n_jobs = 6, scoring = scorer_f1, cv = 5)\n",
    "# ajuste modelo\n",
    "modelo.fit(X = predictores_transformed, y = objetivo_transformed)\n",
    "# extraigo el mejor\n",
    "modelo_mejor = modelo.best_estimator_\n",
    "# ojeada\n",
    "print(modelo.best_score_, modelo.best_params_) "
   ]
  },
  {
   "cell_type": "markdown",
   "id": "breathing-finding",
   "metadata": {},
   "source": [
    "## Interacción con el usuario\n",
    "\n",
    "El usuario introducirá característias deseadas. "
   ]
  },
  {
   "cell_type": "code",
   "execution_count": 9,
   "id": "sealed-alert",
   "metadata": {},
   "outputs": [],
   "source": [
    "# mostrar la salida en html\n",
    "def generate_table(dataframe, max_rows = 2):\n",
    "    #\n",
    "    df_html = html.Table([\n",
    "        html.Thead(html.Tr([html.Th(col) for col in dataframe.columns])),\n",
    "        html.Tbody([html.Tr([html.Td(dataframe.iloc[i][col]) for col in dataframe.columns]) for i in range(min(len(dataframe), max_rows))])\n",
    "    ])\n",
    "    #\n",
    "    return df_html"
   ]
  },
  {
   "cell_type": "code",
   "execution_count": 10,
   "id": "grave-empire",
   "metadata": {},
   "outputs": [
    {
     "name": "stdout",
     "output_type": "stream",
     "text": [
      "Dash app running on http://127.0.0.1:8050/\n"
     ]
    }
   ],
   "source": [
    "## interfaz\n",
    "# style\n",
    "external_stylesheets = ['https://codepen.io/chriddyp/pen/bWLwgP.css']\n",
    "# instance app\n",
    "app = JupyterDash(__name__, external_stylesheets = external_stylesheets)\n",
    "# layout\n",
    "app.layout = html.Div([\n",
    "    html.H1(children = 'Recomendación de un telefono inteligente',\n",
    "           style={'vertical-align': 'top', 'margin-left': '3vw'}),\n",
    "    html.Div(children='''\n",
    "    A partir de tus preferencias te recomendaremos un telefono:\n",
    "    ''', style={'vertical-align': 'top', 'margin-left': '3vw'}),\n",
    "    # first row\n",
    "    html.Div(children=[\n",
    "        # first column of first row\n",
    "        html.Div(children=[\n",
    "            html.Label('Marca'),\n",
    "            dcc.Dropdown(id = 'marca', options=[\n",
    "                {'label': 'Motorola', 'value': 'motorola'},\n",
    "                {'label': 'Samsung',  'value': 'samsung'},\n",
    "                {'label': 'Apple',    'value': 'apple'},\n",
    "                {'label': 'Xiaomi',   'value': 'xiaomi'},\n",
    "                {'label': 'Huawei',   'value': 'huawei'},\n",
    "                {'label': 'Nokia',    'value': 'nokia'},\n",
    "                {'label': 'TCL',      'value': 'tcl'}\n",
    "            ], value = ''),\n",
    "        ], style={'display': 'inline-block', 'vertical-align': 'top', 'margin-left': '3vw', 'margin-top': '3vw', \"width\": \"7vw\"}),\n",
    "        # second column of first row\n",
    "        html.Div(children=[\n",
    "            html.Label('Sistema Operativo'),\n",
    "            dcc.RadioItems(id = 'sistema_operativo',\n",
    "                options=[\n",
    "                    {'label': 'Android', 'value': 'android'},\n",
    "                    {'label': 'IOS',     'value': 'ios'}\n",
    "                ], value = ''),\n",
    "            \n",
    "        ], style={'display': 'inline-block', 'vertical-align': 'top', 'margin-left': '3vw', 'margin-top': '3vw',\n",
    "                 \"width\": \"10vw\"}),\n",
    "        # third column of first row\n",
    "        html.Div(children=[\n",
    "            html.Label('Red'),\n",
    "            dcc.RadioItems(id = 'tecnologia', options=[\n",
    "                {'label': '4G',    'value': '4g'},\n",
    "                {'label': '4GLte', 'value': '4glte'},\n",
    "                {'label': '5G',    'value': '5g'}], value = ''\n",
    "            ),\n",
    "        ], style={'display': 'inline-block', 'vertical-align': 'top', 'margin-left': '3vw', 'margin-right': '3vw', \n",
    "                  'margin-top': '3vw', \"width\": \"7vw\"}),\n",
    "        html.Div(children=[\n",
    "            # fourth column of first row\n",
    "            html.Label('Procesador'),\n",
    "            dcc.Dropdown(id = 'procesador', \n",
    "                options=[\n",
    "                    {'label': 'Qualcomm', 'value': 'qualcomm'},\n",
    "                    {'label': 'Samsung',  'value': 'samsung'},\n",
    "                    {'label': 'Apple',    'value': 'apple'},\n",
    "                    {'label': 'Mediatek', 'value': 'mediatek'},\n",
    "                    {'label': 'ARM',      'value': 'arm'}\n",
    "                ], value = ''),\n",
    "        ], style={'display': 'inline-block', 'vertical-align': 'top', 'margin-rigth': '3vw', 'margin-top': '3vw', \"width\": \"7vw\"}),\n",
    "    ], className='row'),\n",
    "    \n",
    "    #################################################################################################\n",
    "       # second row\n",
    "    html.Div(children=[\n",
    "        # first column of first row\n",
    "        html.Div(children=[\n",
    "            html.Label('Precio'),\n",
    "                dcc.Input(id = \"precio_pesos\", type = \"number\", debounce = True, placeholder = '$'),\n",
    "        ], style={'display': 'inline-block', 'vertical-align': 'top', 'margin-left': '3vw', 'margin-top': '3vw'}),\n",
    "        # five\n",
    "        html.Div(children=[\n",
    "               html.Label('Ram'),dcc.Input(id = \"ram\", type = \"number\", debounce = True, placeholder = 'Gb'),\n",
    "        ], style={'display': 'inline-block', 'vertical-align': 'top', 'margin-left': '3vw', 'margin-top': '3vw'}),\n",
    "        # six\n",
    "        html.Div(children=[\n",
    "               html.Label('Memoria'), dcc.Input(id = \"memoria\", type = \"number\", debounce = True, placeholder = 'Gb'),\n",
    "        ], style={'display': 'inline-block', 'vertical-align': 'top', 'margin-left': '3vw', 'margin-top': '3vw'}),\n",
    "        # third column of first row\n",
    "        html.Div(children=[\n",
    "            html.Label('Camara trasera'), dcc.Input(id = \"camara_trasera\", type = \"number\", debounce = True, placeholder = 'Mp'),\n",
    "        ], style={'display': 'inline-block', 'vertical-align': 'top', 'margin-left': '3vw','margin-top': '3vw'}),\n",
    "        # fourth column of first row\n",
    "        html.Div(children=[\n",
    "            html.Label('Camara delantera'), dcc.Input(id = \"camara_frontal\", type = \"number\", debounce = True, placeholder = 'Mp'),\n",
    "        ], style={'display': 'inline-block', 'vertical-align': 'top', 'margin-left': '3vw', 'margin-top': '3vw'}),\n",
    "        # second column of first row\n",
    "        html.Div(children=[\n",
    "            html.Label('Peso'),dcc.Input(id = \"peso\", type = \"number\", debounce = True, placeholder = 'gramos'),\n",
    "        ], style={'display': 'inline-block', 'vertical-align': 'top', 'margin-left': '3vw', 'margin-top': '3vw'}),\n",
    "    ], className='row'),\n",
    "        \n",
    "    #################################################################################################\n",
    "       # third row\n",
    "    html.Div(children=[\n",
    "        # first column of first row\n",
    "        html.Div(children=[\n",
    "            html.Button(id = 'button_submit', n_clicks = 0, children = 'Calcular')\n",
    "        ], style={'display': 'inline-block', 'vertical-align': 'top', 'margin-left': '3vw', 'margin-top': '3vw'}),\n",
    "    ], className='row'),\n",
    "    # salida test\n",
    "    html.Div(children = '''Nuestra recomendación:''', \n",
    "             style={'display': 'inline-block', 'vertical-align': 'top', 'margin-left': '3vw', 'margin-top': '3vw'}),\n",
    "    html.Div(id = 'recomendation',\n",
    "             style={'display': 'inline-block', 'vertical-align': 'top', 'margin-left': '3vw', 'margin-top': '3vw'}),\n",
    "])\n",
    "# interacción\n",
    "@app.callback(\n",
    "    Output('recomendation',    'children'),\n",
    "    Input('button_submit',     'n_clicks'),\n",
    "    State('precio_pesos',      'value'),\n",
    "    State('ram',               'value'),\n",
    "    State('memoria',           'value'),\n",
    "    State('camara_trasera',    'value'),\n",
    "    State('camara_frontal',    'value'),\n",
    "    State('peso',              'value'),   \n",
    "    State('marca',             'value'),\n",
    "    State('procesador',        'value'),\n",
    "    State('sistema_operativo', 'value'),\n",
    "    State('tecnologia',        'value')\n",
    "    )\n",
    "def make_recommendation(button_submit, precio_pesos, ram, memoria, camara_trasera, camara_frontal, peso,\n",
    "                        marca, procesador, sistema_operativo, tecnologia):\n",
    "    # valor inicial\n",
    "    if(button_submit == 0):\n",
    "        salida = ''\n",
    "    else:\n",
    "        # los valores son posicionales\n",
    "        df_raw = pd.DataFrame({'precio': precio_pesos, 'ram': ram, 'memoria': memoria, 'camara_trasera': camara_trasera,\n",
    "                     'camara_frontal': camara_frontal, 'peso': peso, 'marca': marca, 'procesador': procesador,\n",
    "                     'sistema_operativo': sistema_operativo, 'tecnologia': tecnologia}, index = [0])\n",
    "        # substituyo Nones por nan\n",
    "        df_imputed = df_raw.fillna(value = np.nan)\n",
    "        df_imputed['peso'] = df_imputed['peso'] / 1000\n",
    "        # predict, predict_phone\n",
    "        df_prediccion = predict_phone(df_imputed, predictores, columnas_numericas, columnas_categoricas, \n",
    "                                      modelo_mejor, encoder_objetivo, df_formateado)\n",
    "        # nombres\n",
    "        df_prediccion.columns = ['Nombre', 'Marca', 'Color', 'Sistema operativo', 'Memoria', 'Ram', 'Precio', 'Camara Trasera',\n",
    "                                 'Camara Frontal', 'Pantalla', 'Tecnologia', 'Procesador', 'Peso']\n",
    "        # formato\n",
    "        salida = generate_table(df_prediccion)\n",
    "    #\n",
    "    return salida\n",
    "#\n",
    "app.run_server(mode = 'external')"
   ]
  },
  {
   "cell_type": "code",
   "execution_count": null,
   "id": "genuine-greek",
   "metadata": {},
   "outputs": [],
   "source": []
  }
 ],
 "metadata": {
  "kernelspec": {
   "display_name": "Python 3",
   "language": "python",
   "name": "python3"
  },
  "language_info": {
   "codemirror_mode": {
    "name": "ipython",
    "version": 3
   },
   "file_extension": ".py",
   "mimetype": "text/x-python",
   "name": "python",
   "nbconvert_exporter": "python",
   "pygments_lexer": "ipython3",
   "version": "3.8.5"
  }
 },
 "nbformat": 4,
 "nbformat_minor": 5
}
