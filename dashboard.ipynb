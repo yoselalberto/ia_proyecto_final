{
 "cells": [
  {
   "cell_type": "code",
   "execution_count": 20,
   "id": "southwest-discretion",
   "metadata": {},
   "outputs": [],
   "source": [
    "# dependencies\n",
    "import pandas as pd\n",
    "# dashboard\n",
    "import plotly.express       as px\n",
    "from   jupyter_dash         import JupyterDash\n",
    "import dash_core_components as dcc\n",
    "import dash_html_components as html\n",
    "from   dash.dependencies    import Input, Output, State"
   ]
  },
  {
   "cell_type": "code",
   "execution_count": 2,
   "id": "racial-winner",
   "metadata": {},
   "outputs": [],
   "source": [
    "from utils import *"
   ]
  },
  {
   "cell_type": "code",
   "execution_count": 3,
   "id": "signal-printing",
   "metadata": {},
   "outputs": [],
   "source": [
    "# data\n",
    "path = 'https://raw.githubusercontent.com/yoselalberto/ia_proyecto_final/main/data/processed/celulares_procesados.csv'"
   ]
  },
  {
   "cell_type": "code",
   "execution_count": 4,
   "id": "lucky-contemporary",
   "metadata": {},
   "outputs": [],
   "source": [
    "# Load Data\n",
    "df_inicio = pd.read_csv(path)"
   ]
  },
  {
   "cell_type": "code",
   "execution_count": 5,
   "id": "angry-worry",
   "metadata": {},
   "outputs": [],
   "source": [
    "# variables globales\n",
    "# estas columnas serán ignoradas durante el modelado\n",
    "columnas_ignorar     = {'color', 'pantalla'}\n",
    "# variable objetivo\n",
    "columna_objetivo     = 'producto_nombre'\n",
    "# columnas categoricas\n",
    "columnas_categoricas = ['marca', 'procesador', 'sistema_operativo', 'tecnologia']\n",
    "# columnas numericas\n",
    "columnas_numericas   = ['peso', 'camara_trasera', 'camara_frontal', 'ram', 'memoria', 'precio']\n",
    "# variables predictoras\n",
    "columnas_predictoras = columnas_numericas + columnas_categoricas"
   ]
  },
  {
   "cell_type": "code",
   "execution_count": 6,
   "id": "wooden-relevance",
   "metadata": {},
   "outputs": [],
   "source": [
    "# elimino columnas, duplicados, y reordeno las columnas\n",
    "df = df_inicio.drop(columns = columnas_ignorar).drop_duplicates().reset_index(drop = True)[columnas_predictoras + [columna_objetivo]]"
   ]
  },
  {
   "cell_type": "code",
   "execution_count": 9,
   "id": "recognized-large",
   "metadata": {},
   "outputs": [],
   "source": [
    "# train and test split\n",
    "predictores = df.drop(columns = columna_objetivo)\n",
    "objetivo    = df[[columna_objetivo]]"
   ]
  },
  {
   "cell_type": "markdown",
   "id": "literary-injury",
   "metadata": {},
   "source": [
    "## Ingeniería de variables\n",
    "\n",
    "Para llenar valores faltantes usaremos el promedio para las variables númericas, y la moda para las variables categoricas; también estandarizamos las variables númericas, restamos la media, y dividimos entre la desviación estandar.  \n",
    "Para la variable objetivo, simplemente aplicamos el one hot encoding."
   ]
  },
  {
   "cell_type": "code",
   "execution_count": 10,
   "id": "other-timber",
   "metadata": {},
   "outputs": [],
   "source": [
    "# transformo los predictores\n",
    "predictores_transformed = feature_engineer(predictores, columnas_numericas, columnas_categoricas)\n",
    "# tambien la variable objetivo\n",
    "(objetivo_transformed, encoder_objetivo) = ohe_objetivo(objetivo)"
   ]
  },
  {
   "cell_type": "markdown",
   "id": "clear-intermediate",
   "metadata": {},
   "source": [
    "## Modelado\n",
    "\n",
    "Al final implementaremos un RandomForest, de la documentación oficial:\n",
    "\n",
    "<cite>A random forest is a meta estimator that fits a number of decision tree classifiers on various sub-samples of the dataset and uses averaging to improve the predictive accuracy and control over-fitting.</cite>"
   ]
  },
  {
   "cell_type": "code",
   "execution_count": 11,
   "id": "bigger-positive",
   "metadata": {},
   "outputs": [
    {
     "name": "stdout",
     "output_type": "stream",
     "text": [
      "0.38014705882352945 {'criterion': 'entropy', 'max_depth': 8, 'min_samples_leaf': 1}\n"
     ]
    }
   ],
   "source": [
    "# creo evaluador para el grid search, utilizaré el micro f1 score\n",
    "scorer_f1  = make_scorer(f1_score, average = 'micro')\n",
    "# valores a explorar\n",
    "# parameters = {'max_depth': [2, 4, 8], 'criterion': ['gini', 'entropy'], 'min_samples_leaf': [1, 2, 4], 'n_estimators': [5, 10, 20]}\n",
    "parameters = {'max_depth': [2, 4, 8], 'criterion': ['gini', 'entropy'], 'min_samples_leaf': [1, 2, 4]}\n",
    "# ajuste y evaluacion\n",
    "# modelo = GridSearchCV(RandomForestClassifier(random_state = 59, oob_score = True, max_features = 6, class_weight = \"balanced\"), parameters, n_jobs = 6, scoring = scorer_f1, cv = 4)\n",
    "modelo = GridSearchCV(DecisionTreeClassifier(random_state = 59, max_features = 6, class_weight = \"balanced\"), parameters, n_jobs = 6, scoring = scorer_f1, cv = 5)\n",
    "# ajuste modelo\n",
    "modelo.fit(X = predictores_transformed, y = objetivo_transformed)\n",
    "# extraigo el mejor\n",
    "modelo_mejor = modelo.best_estimator_\n",
    "# ojeada\n",
    "print(modelo.best_score_, modelo.best_params_) "
   ]
  },
  {
   "cell_type": "markdown",
   "id": "loved-writing",
   "metadata": {},
   "source": [
    "## Interacción con el usuario\n",
    "\n",
    "El usuario introducirá característias deseadas. "
   ]
  },
  {
   "cell_type": "code",
   "execution_count": 10,
   "id": "bigger-kazakhstan",
   "metadata": {},
   "outputs": [],
   "source": [
    "df_head = df.head(1)"
   ]
  },
  {
   "cell_type": "code",
   "execution_count": 11,
   "id": "cosmetic-anthropology",
   "metadata": {},
   "outputs": [
    {
     "name": "stdout",
     "output_type": "stream",
     "text": [
      "Dash app running on http://127.0.0.1:8050/\n"
     ]
    }
   ],
   "source": []
  },
  {
   "cell_type": "code",
   "execution_count": 11,
   "id": "supported-category",
   "metadata": {},
   "outputs": [],
   "source": [
    "def generate_table(dataframe, max_rows = 10):\n",
    "    #\n",
    "    df_html = html.Table([\n",
    "        html.Thead(html.Tr([html.Th(col) for col in dataframe.columns])),\n",
    "        html.Tbody([html.Tr([html.Td(dataframe.iloc[i][col]) for col in dataframe.columns]) for i in range(min(len(dataframe), max_rows))])\n",
    "    ])\n",
    "    #\n",
    "    return df_html"
   ]
  },
  {
   "cell_type": "code",
   "execution_count": null,
   "id": "egyptian-hunger",
   "metadata": {},
   "outputs": [],
   "source": []
  },
  {
   "cell_type": "code",
   "execution_count": 21,
   "id": "documentary-syndicate",
   "metadata": {},
   "outputs": [
    {
     "name": "stdout",
     "output_type": "stream",
     "text": [
      "Dash app running on http://127.0.0.1:8050/\n"
     ]
    }
   ],
   "source": [
    "external_stylesheets = ['https://codepen.io/chriddyp/pen/bWLwgP.css']\n",
    "app = JupyterDash(__name__, external_stylesheets = external_stylesheets)\n",
    "#\n",
    "app.layout = html.Div([\n",
    "    html.H1(children = 'Recomendación de un telefono inteligente'),\n",
    "    html.Div(children='''\n",
    "    A partir de las características elegidas te recomendaremos un telefono:\n",
    "    '''),\n",
    "    # first row\n",
    "    html.Div(children=[\n",
    "        # first column of first row\n",
    "        html.Div(children=[\n",
    "            html.Label('Marca'),\n",
    "            dcc.Dropdown(id = 'marca', options=[\n",
    "                {'label': 'Motorola', 'value': 'motorola'},\n",
    "                {'label': 'Samsung',  'value': 'samsung'},\n",
    "                {'label': 'Apple',    'value': 'apple'},\n",
    "                {'label': 'Xiaomi',   'value': 'xiaomi'},\n",
    "                {'label': 'Huawei',   'value': 'huawei'},\n",
    "                {'label': 'Nokia',    'value': 'nokia'},\n",
    "                {'label': 'TCL',      'value': 'tcl'}\n",
    "            ], value = ''),\n",
    "        ], style={'display': 'inline-block', 'vertical-align': 'top', 'margin-left': '3vw', 'margin-top': '3vw', \"width\": \"7vw\"}),\n",
    "        # second column of first row\n",
    "        html.Div(children=[\n",
    "            html.Label('Sistema Operativo'),\n",
    "            dcc.RadioItems(id = 'sistema_operativo',\n",
    "                options=[\n",
    "                    {'label': 'Android', 'value': 'android'},\n",
    "                    {'label': 'IOS',     'value': 'ios'}\n",
    "                ], value = ''),\n",
    "            \n",
    "        ], style={'display': 'inline-block', 'vertical-align': 'top', 'margin-left': '3vw', 'margin-top': '3vw',\n",
    "                 \"width\": \"10vw\"}),\n",
    "        # third column of first row\n",
    "        html.Div(children=[\n",
    "            html.Label('Red'),\n",
    "            dcc.RadioItems(id = 'tecnologia', options=[\n",
    "                {'label': '4G',    'value': '4g'},\n",
    "                {'label': '4GLte', 'value': '4glte'},\n",
    "                {'label': '5G',    'value': '5g'}], value = ''\n",
    "            ),\n",
    "        ], style={'display': 'inline-block', 'vertical-align': 'top', 'margin-left': '3vw', 'margin-right': '3vw', \n",
    "                  'margin-top': '3vw', \"width\": \"7vw\"}),\n",
    "        html.Div(children=[\n",
    "            # fourth column of first row\n",
    "            html.Label('Procesador'),\n",
    "            dcc.Dropdown(id = 'procesador', \n",
    "                options=[\n",
    "                    {'label': 'Qualcomm', 'value': 'qualcomm'},\n",
    "                    {'label': 'Samsung',  'value': 'samsung'},\n",
    "                    {'label': 'Apple',    'value': 'apple'},\n",
    "                    {'label': 'Mediatek', 'value': 'mediatek'},\n",
    "                    {'label': 'ARM',      'value': 'arm'}\n",
    "                ], value = ''),\n",
    "        ], style={'display': 'inline-block', 'vertical-align': 'top', 'margin-rigth': '3vw', 'margin-top': '3vw', \"width\": \"7vw\"}),\n",
    "    ], className='row'),\n",
    "    \n",
    "    #################################################################################################\n",
    "       # second row\n",
    "    html.Div(children=[\n",
    "        # first column of first row\n",
    "        html.Div(children=[\n",
    "            html.Label('Precio'),\n",
    "                dcc.Input(id = \"precio_pesos\", type = \"number\", debounce = True, placeholder = '$'),\n",
    "        ], style={'display': 'inline-block', 'vertical-align': 'top', 'margin-left': '3vw', 'margin-top': '3vw'}),\n",
    "        # five\n",
    "        html.Div(children=[\n",
    "               html.Label('Ram'),dcc.Input(id = \"ram\", type = \"number\", debounce = True, placeholder = 'Gb'),\n",
    "        ], style={'display': 'inline-block', 'vertical-align': 'top', 'margin-left': '3vw', 'margin-top': '3vw'}),\n",
    "        # six\n",
    "        html.Div(children=[\n",
    "               html.Label('Memoria'), dcc.Input(id = \"memoria\", type = \"number\", debounce = True, placeholder = 'Gb'),\n",
    "        ], style={'display': 'inline-block', 'vertical-align': 'top', 'margin-left': '3vw', 'margin-top': '3vw'}),\n",
    "        # third column of first row\n",
    "        html.Div(children=[\n",
    "            html.Label('Camara trasera'), dcc.Input(id = \"camara_trasera\", type = \"number\", debounce = True, placeholder = 'Mp'),\n",
    "        ], style={'display': 'inline-block', 'vertical-align': 'top', 'margin-left': '3vw','margin-top': '3vw'}),\n",
    "        # fourth column of first row\n",
    "        html.Div(children=[\n",
    "            html.Label('Camara delantera'), dcc.Input(id = \"camara_frontal\", type = \"number\", debounce = True, placeholder = 'Mp'),\n",
    "        ], style={'display': 'inline-block', 'vertical-align': 'top', 'margin-left': '3vw', 'margin-top': '3vw'}),\n",
    "        # second column of first row\n",
    "        html.Div(children=[\n",
    "            html.Label('Peso'),dcc.Input(id = \"peso\", type = \"number\", debounce = True, placeholder = 'gramos'),\n",
    "        ], style={'display': 'inline-block', 'vertical-align': 'top', 'margin-left': '3vw', 'margin-top': '3vw'}),\n",
    "    ], className='row'),\n",
    "    # salida test\n",
    "    html.Div(id = 'recomendation')\n",
    "    \n",
    "])\n",
    "# interacción\n",
    "@app.callback(\n",
    "    Output('recomendation',    'children'),\n",
    "    Input('precio_pesos',      'value'),\n",
    "    Input('ram',               'value'),\n",
    "    Input('memoria',           'value'),\n",
    "    Input('camara_trasera',    'value'),\n",
    "    Input('camara_frontal',    'value'),\n",
    "    Input('peso',              'value'),   \n",
    "    Input('marca',             'value'),\n",
    "    Input('procesador',        'value'),\n",
    "    Input('sistema_operativo', 'value'),\n",
    "    Input('tecnologia',        'value')\n",
    "    )\n",
    "def make_recommendation(precio_pesos, ram, memoria, camara_trasera, camara_frontal, peso,\n",
    "                        marca, procesador, sistema_operativo, tecnologia):\n",
    "    # los valores son pocisionales\n",
    "    # gather inputs in a single dataframe, \n",
    "    # fill missing values, complete_df\n",
    "    # predict, predict_phone\n",
    "    return 'Output: {}'.format(precio_pesos)\n",
    "#\n",
    "app.run_server(mode = 'external')"
   ]
  },
  {
   "cell_type": "code",
   "execution_count": 31,
   "id": "enormous-liberal",
   "metadata": {},
   "outputs": [
    {
     "name": "stdout",
     "output_type": "stream",
     "text": [
      "Help on function callback in module dash.dash:\n",
      "\n",
      "callback(self, *_args, **_kwargs)\n",
      "    Normally used as a decorator, `@app.callback` provides a server-side\n",
      "    callback relating the values of one or more `Output` items to one or\n",
      "    more `Input` items which will trigger the callback when they change,\n",
      "    and optionally `State` items which provide additional information but\n",
      "    do not trigger the callback directly.\n",
      "    \n",
      "    The last, optional argument `prevent_initial_call` causes the callback\n",
      "    not to fire when its outputs are first added to the page. Defaults to\n",
      "    `False` unless `prevent_initial_callbacks=True` at the app level.\n",
      "\n"
     ]
    }
   ],
   "source": [
    "help(JupyterDash.callback)"
   ]
  },
  {
   "cell_type": "code",
   "execution_count": 35,
   "id": "documented-explanation",
   "metadata": {},
   "outputs": [
    {
     "data": {
      "text/html": [
       "<div>\n",
       "<style scoped>\n",
       "    .dataframe tbody tr th:only-of-type {\n",
       "        vertical-align: middle;\n",
       "    }\n",
       "\n",
       "    .dataframe tbody tr th {\n",
       "        vertical-align: top;\n",
       "    }\n",
       "\n",
       "    .dataframe thead th {\n",
       "        text-align: right;\n",
       "    }\n",
       "</style>\n",
       "<table border=\"1\" class=\"dataframe\">\n",
       "  <thead>\n",
       "    <tr style=\"text-align: right;\">\n",
       "      <th></th>\n",
       "      <th>peso</th>\n",
       "      <th>camara_trasera</th>\n",
       "      <th>camara_frontal</th>\n",
       "      <th>ram</th>\n",
       "      <th>memoria</th>\n",
       "      <th>precio</th>\n",
       "      <th>marca</th>\n",
       "      <th>procesador</th>\n",
       "      <th>sistema_operativo</th>\n",
       "      <th>tecnologia</th>\n",
       "      <th>producto_nombre</th>\n",
       "    </tr>\n",
       "  </thead>\n",
       "  <tbody>\n",
       "    <tr>\n",
       "      <th>0</th>\n",
       "      <td>0.282</td>\n",
       "      <td>12</td>\n",
       "      <td>10</td>\n",
       "      <td>12</td>\n",
       "      <td>256</td>\n",
       "      <td>46799</td>\n",
       "      <td>samsung</td>\n",
       "      <td>qualcomm</td>\n",
       "      <td>android</td>\n",
       "      <td>5g</td>\n",
       "      <td>galaxy z fold2</td>\n",
       "    </tr>\n",
       "  </tbody>\n",
       "</table>\n",
       "</div>"
      ],
      "text/plain": [
       "    peso  camara_trasera  camara_frontal  ram  memoria  precio    marca  \\\n",
       "0  0.282              12              10   12      256   46799  samsung   \n",
       "\n",
       "  procesador sistema_operativo tecnologia producto_nombre  \n",
       "0   qualcomm           android         5g  galaxy z fold2  "
      ]
     },
     "execution_count": 35,
     "metadata": {},
     "output_type": "execute_result"
    }
   ],
   "source": [
    "df.head(1)"
   ]
  },
  {
   "cell_type": "code",
   "execution_count": null,
   "id": "sacred-berry",
   "metadata": {},
   "outputs": [],
   "source": []
  }
 ],
 "metadata": {
  "kernelspec": {
   "display_name": "Python 3",
   "language": "python",
   "name": "python3"
  },
  "language_info": {
   "codemirror_mode": {
    "name": "ipython",
    "version": 3
   },
   "file_extension": ".py",
   "mimetype": "text/x-python",
   "name": "python",
   "nbconvert_exporter": "python",
   "pygments_lexer": "ipython3",
   "version": "3.8.5"
  }
 },
 "nbformat": 4,
 "nbformat_minor": 5
}
