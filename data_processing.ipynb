{
 "metadata": {
  "orig_nbformat": 2,
  "kernelspec": {
   "name": "python3",
   "display_name": "Python 3",
   "language": "python"
  }
 },
 "nbformat": 4,
 "nbformat_minor": 2,
 "cells": [
  {
   "source": [
    "# Procesamiento de los datos\n",
    "\n",
    "Limpieza y transformaciones, la salida estará lista para modelar."
   ],
   "cell_type": "markdown",
   "metadata": {}
  },
  {
   "cell_type": "code",
   "execution_count": 1,
   "metadata": {},
   "outputs": [],
   "source": [
    "# settings\n",
    "import pandas as pd\n",
    "from   itertools import chain"
   ]
  },
  {
   "cell_type": "code",
   "execution_count": 2,
   "metadata": {},
   "outputs": [],
   "source": [
    "# data path\n",
    "path_input          = \"https://raw.githubusercontent.com/yoselalberto/ia_proyecto_final/main/data/celulares.csv\"\n",
    "path_salida         = 'work/data/processed/celulares_procesados.csv'\n",
    "# estos datos tienen el formato adecuado para imprimirlos en pantalla:\n",
    "path_salida_formato = 'work/data/processed/celulares_formato.csv'"
   ]
  },
  {
   "cell_type": "code",
   "execution_count": 3,
   "metadata": {},
   "outputs": [],
   "source": [
    "# more dependencies\n",
    "import janitor"
   ]
  },
  {
   "cell_type": "code",
   "execution_count": 4,
   "metadata": {},
   "outputs": [],
   "source": [
    "# corrigé un error en el formato de los valores de cada instancia\n",
    "def replace_string(dataframe, string = ','):\n",
    "  # elimina el caracter molesto\n",
    "  df = dataframe.copy()\n",
    "  # column by column\n",
    "  for columna in df.columns.values:\n",
    "    df[columna] = df[columna].str.replace(string, '')\n",
    "  return df \n",
    "# lowercase all dataframe\n",
    "def df_lowercase(dataframe):\n",
    "  # lowercase all columns\n",
    "  df = dataframe.copy()\n",
    "  for columna in df.columns.values:\n",
    "    df[columna] = df[columna].str.lower()\n",
    "  return df\n",
    "# coerse columns\n",
    "def df_numeric(dataframe, columns):\n",
    "  df = dataframe.copy()\n",
    "  df[columns] = df[columns].apply(pd.to_numeric, errors='coerce')\n",
    "  return df\n",
    "# agrupo las funciones anteriores\n",
    "def df_clean(dataframe, string, columns_to_numeric):\n",
    "  df = dataframe.copy()\n",
    "  # \n",
    "  df_2 = replace_string(dataframe, string)\n",
    "  df_3 = df_lowercase(df_2)\n",
    "  df_4 = df_numeric(df_3, columns = columns_to_numeric)\n",
    "  return df_4\n",
    "# limpieza parcial\n",
    "def df_clean_parcial(dataframe, string, columns_to_numeric):\n",
    "  df = dataframe.copy()\n",
    "  # \n",
    "  df_2 = replace_string(dataframe, string)\n",
    "  df_3 = df_numeric(df_2, columns = columns_to_numeric)\n",
    "  return df_3"
   ]
  },
  {
   "cell_type": "code",
   "execution_count": 5,
   "metadata": {},
   "outputs": [],
   "source": [
    "# los pasos los meto en funciones\n",
    "def clean_tecnologia(dataframe):\n",
    "    df = dataframe.copy()\n",
    "    # tabla de soporte\n",
    "    tabla_tecnologias = pd.DataFrame(\n",
    "    {'tecnologia' : ['2g/3g/4g/4glte/5g', '4glte',  '4g/gsm', '2g/3g/4g/4glte/gsm', '4g', '5g', '3g/4g/gsm', '4g/4glte/gsm/lte', '2g/3g/lte', '3g/lte'],\n",
    "    'tecnologia_mejor' : ['5g',            '4glte', '4g',     '4glte',              '4g', '5g', '4g',       '4glte',             '4glte',      '4glte']}\n",
    "    )\n",
    "    # sustitución\n",
    "    df_salida = df.merge(tabla_tecnologias, how = \"left\").drop(columns = {'tecnologia'}).rename(columns = {'tecnologia_mejor': 'tecnologia'})\n",
    "    # salida\n",
    "    return df_salida\n",
    "    # procesador\n",
    "def clean_procesador(dataframe):\n",
    "    df = dataframe.copy()\n",
    "    #\n",
    "    df['procesador'] = df.procesador.str.split().str.get(0).str.replace('\\d+', '')\n",
    "    # salida\n",
    "    return  df\n",
    "    # clean operative systems\n",
    "def clean_os(dataframe):\n",
    "    df = dataframe.copy()\n",
    "    #\n",
    "    df['sistema_operativo']= df.sistema_operativo.str.extract(r'(android|ios)', expand = False)\n",
    "    # salida\n",
    "    return df\n",
    "    # chain steps\n",
    "def df_procesamiento(dataframe):\n",
    "    df = dataframe.copy()\n",
    "    # steps \n",
    "    df_tecnologia = clean_tecnologia(df)\n",
    "    df_procesador = clean_procesador(df_tecnologia)\n",
    "    df_os         = clean_os(df_procesador)\n",
    "    # resultado\n",
    "    return df_os"
   ]
  },
  {
   "cell_type": "code",
   "execution_count": 6,
   "metadata": {},
   "outputs": [],
   "source": [
    "# data loading\n",
    "df_raw = pd.read_csv(path_input, dtype = 'str').clean_names()"
   ]
  },
  {
   "cell_type": "code",
   "execution_count": 7,
   "metadata": {},
   "outputs": [
    {
     "output_type": "execute_result",
     "data": {
      "text/plain": [
       "         marca nombre_del_producto             color    peso  pantalla  \\\n",
       "0      Samsung      Galaxy Z Fold2             Negro  0.282,   AMOLED,   \n",
       "1      Samsung      Galaxy Z Fold2            Bronce  0.282,   AMOLED,   \n",
       "2        Apple   iPhone 11 Pro Max  Verde Medianoche  0.272,     OLED,   \n",
       "3        Apple   iPhone 11 Pro Max     Gris Espacial  0.272,     OLED,   \n",
       "4        Apple  iPhone 11 Pro Max,             Plata  0.272,     OLED,   \n",
       "..         ...                 ...               ...     ...       ...   \n",
       "130  Motorola,       Moto G8 Play,              Gris  0.188,  TFT-LCD,   \n",
       "131  Motorola,       Moto E6 Plus,              Azul  0.149,      LCD,   \n",
       "132    Huawei,           Honor 8A,             Verde  0.176,      LCD,   \n",
       "133  Motorola,       Moto E6 Play,              Azul  0.190,  IPS-LCD,   \n",
       "134  Motorola,       Moto E6 Play,             Negro  0.190,  IPS-LCD,   \n",
       "\n",
       "    camara_trasera camara_frontal  procesador ram memoria_interna  \\\n",
       "0               12             10  Qualcomm1,  12             256   \n",
       "1               12             10  Qualcomm1,  12             256   \n",
       "2               12             12     Apple1,   4             512   \n",
       "3               12             12     Apple1,   4             512   \n",
       "4               12             12     Apple1,   4             512   \n",
       "..             ...            ...         ...  ..             ...   \n",
       "130              8             13  MediaTek2,   2              32   \n",
       "131             13              8  MediaTek2,   2              32   \n",
       "132             13              8  MediaTek2,   2              32   \n",
       "133             13              5  Qualcomm3,   1              16   \n",
       "134             13              5  Qualcomm3,   1              16   \n",
       "\n",
       "    sistema_operativo          tecnologia precio  \n",
       "0         Android 10,  2G/3G/4G/4GLTE/5G,  46799  \n",
       "1         Android 10,  2G/3G/4G/4GLTE/5G,  46799  \n",
       "2       Apple iOS 13,              4GLTE,  33999  \n",
       "3       Apple iOS 13,              4GLTE,  33999  \n",
       "4       Apple iOS 13,              4GLTE,  33999  \n",
       "..                ...                 ...    ...  \n",
       "130        Android 9,              4GLTE,   3490  \n",
       "131        Android 8,              4GLTE,   2990  \n",
       "132        Android 9,              4GLTE,   3299  \n",
       "133        Android 8,              4GLTE,   2499  \n",
       "134        Android 8,              4GLTE,   2499  \n",
       "\n",
       "[135 rows x 13 columns]"
      ],
      "text/html": "<div>\n<style scoped>\n    .dataframe tbody tr th:only-of-type {\n        vertical-align: middle;\n    }\n\n    .dataframe tbody tr th {\n        vertical-align: top;\n    }\n\n    .dataframe thead th {\n        text-align: right;\n    }\n</style>\n<table border=\"1\" class=\"dataframe\">\n  <thead>\n    <tr style=\"text-align: right;\">\n      <th></th>\n      <th>marca</th>\n      <th>nombre_del_producto</th>\n      <th>color</th>\n      <th>peso</th>\n      <th>pantalla</th>\n      <th>camara_trasera</th>\n      <th>camara_frontal</th>\n      <th>procesador</th>\n      <th>ram</th>\n      <th>memoria_interna</th>\n      <th>sistema_operativo</th>\n      <th>tecnologia</th>\n      <th>precio</th>\n    </tr>\n  </thead>\n  <tbody>\n    <tr>\n      <th>0</th>\n      <td>Samsung</td>\n      <td>Galaxy Z Fold2</td>\n      <td>Negro</td>\n      <td>0.282,</td>\n      <td>AMOLED,</td>\n      <td>12</td>\n      <td>10</td>\n      <td>Qualcomm1,</td>\n      <td>12</td>\n      <td>256</td>\n      <td>Android 10,</td>\n      <td>2G/3G/4G/4GLTE/5G,</td>\n      <td>46799</td>\n    </tr>\n    <tr>\n      <th>1</th>\n      <td>Samsung</td>\n      <td>Galaxy Z Fold2</td>\n      <td>Bronce</td>\n      <td>0.282,</td>\n      <td>AMOLED,</td>\n      <td>12</td>\n      <td>10</td>\n      <td>Qualcomm1,</td>\n      <td>12</td>\n      <td>256</td>\n      <td>Android 10,</td>\n      <td>2G/3G/4G/4GLTE/5G,</td>\n      <td>46799</td>\n    </tr>\n    <tr>\n      <th>2</th>\n      <td>Apple</td>\n      <td>iPhone 11 Pro Max</td>\n      <td>Verde Medianoche</td>\n      <td>0.272,</td>\n      <td>OLED,</td>\n      <td>12</td>\n      <td>12</td>\n      <td>Apple1,</td>\n      <td>4</td>\n      <td>512</td>\n      <td>Apple iOS 13,</td>\n      <td>4GLTE,</td>\n      <td>33999</td>\n    </tr>\n    <tr>\n      <th>3</th>\n      <td>Apple</td>\n      <td>iPhone 11 Pro Max</td>\n      <td>Gris Espacial</td>\n      <td>0.272,</td>\n      <td>OLED,</td>\n      <td>12</td>\n      <td>12</td>\n      <td>Apple1,</td>\n      <td>4</td>\n      <td>512</td>\n      <td>Apple iOS 13,</td>\n      <td>4GLTE,</td>\n      <td>33999</td>\n    </tr>\n    <tr>\n      <th>4</th>\n      <td>Apple</td>\n      <td>iPhone 11 Pro Max,</td>\n      <td>Plata</td>\n      <td>0.272,</td>\n      <td>OLED,</td>\n      <td>12</td>\n      <td>12</td>\n      <td>Apple1,</td>\n      <td>4</td>\n      <td>512</td>\n      <td>Apple iOS 13,</td>\n      <td>4GLTE,</td>\n      <td>33999</td>\n    </tr>\n    <tr>\n      <th>...</th>\n      <td>...</td>\n      <td>...</td>\n      <td>...</td>\n      <td>...</td>\n      <td>...</td>\n      <td>...</td>\n      <td>...</td>\n      <td>...</td>\n      <td>...</td>\n      <td>...</td>\n      <td>...</td>\n      <td>...</td>\n      <td>...</td>\n    </tr>\n    <tr>\n      <th>130</th>\n      <td>Motorola,</td>\n      <td>Moto G8 Play,</td>\n      <td>Gris</td>\n      <td>0.188,</td>\n      <td>TFT-LCD,</td>\n      <td>8</td>\n      <td>13</td>\n      <td>MediaTek2,</td>\n      <td>2</td>\n      <td>32</td>\n      <td>Android 9,</td>\n      <td>4GLTE,</td>\n      <td>3490</td>\n    </tr>\n    <tr>\n      <th>131</th>\n      <td>Motorola,</td>\n      <td>Moto E6 Plus,</td>\n      <td>Azul</td>\n      <td>0.149,</td>\n      <td>LCD,</td>\n      <td>13</td>\n      <td>8</td>\n      <td>MediaTek2,</td>\n      <td>2</td>\n      <td>32</td>\n      <td>Android 8,</td>\n      <td>4GLTE,</td>\n      <td>2990</td>\n    </tr>\n    <tr>\n      <th>132</th>\n      <td>Huawei,</td>\n      <td>Honor 8A,</td>\n      <td>Verde</td>\n      <td>0.176,</td>\n      <td>LCD,</td>\n      <td>13</td>\n      <td>8</td>\n      <td>MediaTek2,</td>\n      <td>2</td>\n      <td>32</td>\n      <td>Android 9,</td>\n      <td>4GLTE,</td>\n      <td>3299</td>\n    </tr>\n    <tr>\n      <th>133</th>\n      <td>Motorola,</td>\n      <td>Moto E6 Play,</td>\n      <td>Azul</td>\n      <td>0.190,</td>\n      <td>IPS-LCD,</td>\n      <td>13</td>\n      <td>5</td>\n      <td>Qualcomm3,</td>\n      <td>1</td>\n      <td>16</td>\n      <td>Android 8,</td>\n      <td>4GLTE,</td>\n      <td>2499</td>\n    </tr>\n    <tr>\n      <th>134</th>\n      <td>Motorola,</td>\n      <td>Moto E6 Play,</td>\n      <td>Negro</td>\n      <td>0.190,</td>\n      <td>IPS-LCD,</td>\n      <td>13</td>\n      <td>5</td>\n      <td>Qualcomm3,</td>\n      <td>1</td>\n      <td>16</td>\n      <td>Android 8,</td>\n      <td>4GLTE,</td>\n      <td>2499</td>\n    </tr>\n  </tbody>\n</table>\n<p>135 rows × 13 columns</p>\n</div>"
     },
     "metadata": {},
     "execution_count": 7
    }
   ],
   "source": [
    "df_raw"
   ]
  },
  {
   "cell_type": "code",
   "execution_count": 8,
   "metadata": {},
   "outputs": [],
   "source": [
    "# renombro columnas\n",
    "nombres = {\"nombre_del_producto\": 'producto_nombre', 'memoria_interna': 'memoria'}\n",
    "df_inicio = df_raw.rename(columns = nombres)"
   ]
  },
  {
   "cell_type": "code",
   "execution_count": 9,
   "metadata": {},
   "outputs": [],
   "source": [
    "# limpieza inicial\n",
    "columns_numeric = ['peso', 'camara_trasera', 'camara_frontal', 'ram', 'memoria', 'precio']\n",
    "# \n",
    "df_limpio = df_clean(df_inicio, ',', columns_numeric).drop_duplicates().reset_index(drop = True)"
   ]
  },
  {
   "cell_type": "code",
   "execution_count": 10,
   "metadata": {},
   "outputs": [
    {
     "output_type": "execute_result",
     "data": {
      "text/plain": [
       "        marca    producto_nombre             color   peso pantalla  \\\n",
       "0     samsung     galaxy z fold2             negro  0.282   amoled   \n",
       "1     samsung     galaxy z fold2            bronce  0.282   amoled   \n",
       "2       apple  iphone 11 pro max  verde medianoche  0.272     oled   \n",
       "3       apple  iphone 11 pro max     gris espacial  0.272     oled   \n",
       "4       apple  iphone 11 pro max             plata  0.272     oled   \n",
       "..        ...                ...               ...    ...      ...   \n",
       "122  motorola       moto e6 play             negro  0.190  ips-lcd   \n",
       "123  motorola       moto e6 plus              azul  0.149      lcd   \n",
       "124    huawei           honor 8a             verde  0.176      lcd   \n",
       "125  motorola       moto e6 play              azul  0.190  ips-lcd   \n",
       "126  motorola       moto e6 play             negro  0.190  ips-lcd   \n",
       "\n",
       "     camara_trasera  camara_frontal procesador  ram  memoria  \\\n",
       "0                12              10  qualcomm1   12      256   \n",
       "1                12              10  qualcomm1   12      256   \n",
       "2                12              12     apple1    4      512   \n",
       "3                12              12     apple1    4      512   \n",
       "4                12              12     apple1    4      512   \n",
       "..              ...             ...        ...  ...      ...   \n",
       "122              13               8  qualcomm3    1       16   \n",
       "123              13               8  mediatek2    2       32   \n",
       "124              13               8  mediatek2    2       32   \n",
       "125              13               5  qualcomm3    1       16   \n",
       "126              13               5  qualcomm3    1       16   \n",
       "\n",
       "    sistema_operativo         tecnologia  precio  \n",
       "0          android 10  2g/3g/4g/4glte/5g   46799  \n",
       "1          android 10  2g/3g/4g/4glte/5g   46799  \n",
       "2        apple ios 13              4glte   33999  \n",
       "3        apple ios 13              4glte   33999  \n",
       "4        apple ios 13              4glte   33999  \n",
       "..                ...                ...     ...  \n",
       "122         android 8              4glte    2499  \n",
       "123         android 8              4glte    2990  \n",
       "124         android 9              4glte    3299  \n",
       "125         android 8              4glte    2499  \n",
       "126         android 8              4glte    2499  \n",
       "\n",
       "[127 rows x 13 columns]"
      ],
      "text/html": "<div>\n<style scoped>\n    .dataframe tbody tr th:only-of-type {\n        vertical-align: middle;\n    }\n\n    .dataframe tbody tr th {\n        vertical-align: top;\n    }\n\n    .dataframe thead th {\n        text-align: right;\n    }\n</style>\n<table border=\"1\" class=\"dataframe\">\n  <thead>\n    <tr style=\"text-align: right;\">\n      <th></th>\n      <th>marca</th>\n      <th>producto_nombre</th>\n      <th>color</th>\n      <th>peso</th>\n      <th>pantalla</th>\n      <th>camara_trasera</th>\n      <th>camara_frontal</th>\n      <th>procesador</th>\n      <th>ram</th>\n      <th>memoria</th>\n      <th>sistema_operativo</th>\n      <th>tecnologia</th>\n      <th>precio</th>\n    </tr>\n  </thead>\n  <tbody>\n    <tr>\n      <th>0</th>\n      <td>samsung</td>\n      <td>galaxy z fold2</td>\n      <td>negro</td>\n      <td>0.282</td>\n      <td>amoled</td>\n      <td>12</td>\n      <td>10</td>\n      <td>qualcomm1</td>\n      <td>12</td>\n      <td>256</td>\n      <td>android 10</td>\n      <td>2g/3g/4g/4glte/5g</td>\n      <td>46799</td>\n    </tr>\n    <tr>\n      <th>1</th>\n      <td>samsung</td>\n      <td>galaxy z fold2</td>\n      <td>bronce</td>\n      <td>0.282</td>\n      <td>amoled</td>\n      <td>12</td>\n      <td>10</td>\n      <td>qualcomm1</td>\n      <td>12</td>\n      <td>256</td>\n      <td>android 10</td>\n      <td>2g/3g/4g/4glte/5g</td>\n      <td>46799</td>\n    </tr>\n    <tr>\n      <th>2</th>\n      <td>apple</td>\n      <td>iphone 11 pro max</td>\n      <td>verde medianoche</td>\n      <td>0.272</td>\n      <td>oled</td>\n      <td>12</td>\n      <td>12</td>\n      <td>apple1</td>\n      <td>4</td>\n      <td>512</td>\n      <td>apple ios 13</td>\n      <td>4glte</td>\n      <td>33999</td>\n    </tr>\n    <tr>\n      <th>3</th>\n      <td>apple</td>\n      <td>iphone 11 pro max</td>\n      <td>gris espacial</td>\n      <td>0.272</td>\n      <td>oled</td>\n      <td>12</td>\n      <td>12</td>\n      <td>apple1</td>\n      <td>4</td>\n      <td>512</td>\n      <td>apple ios 13</td>\n      <td>4glte</td>\n      <td>33999</td>\n    </tr>\n    <tr>\n      <th>4</th>\n      <td>apple</td>\n      <td>iphone 11 pro max</td>\n      <td>plata</td>\n      <td>0.272</td>\n      <td>oled</td>\n      <td>12</td>\n      <td>12</td>\n      <td>apple1</td>\n      <td>4</td>\n      <td>512</td>\n      <td>apple ios 13</td>\n      <td>4glte</td>\n      <td>33999</td>\n    </tr>\n    <tr>\n      <th>...</th>\n      <td>...</td>\n      <td>...</td>\n      <td>...</td>\n      <td>...</td>\n      <td>...</td>\n      <td>...</td>\n      <td>...</td>\n      <td>...</td>\n      <td>...</td>\n      <td>...</td>\n      <td>...</td>\n      <td>...</td>\n      <td>...</td>\n    </tr>\n    <tr>\n      <th>122</th>\n      <td>motorola</td>\n      <td>moto e6 play</td>\n      <td>negro</td>\n      <td>0.190</td>\n      <td>ips-lcd</td>\n      <td>13</td>\n      <td>8</td>\n      <td>qualcomm3</td>\n      <td>1</td>\n      <td>16</td>\n      <td>android 8</td>\n      <td>4glte</td>\n      <td>2499</td>\n    </tr>\n    <tr>\n      <th>123</th>\n      <td>motorola</td>\n      <td>moto e6 plus</td>\n      <td>azul</td>\n      <td>0.149</td>\n      <td>lcd</td>\n      <td>13</td>\n      <td>8</td>\n      <td>mediatek2</td>\n      <td>2</td>\n      <td>32</td>\n      <td>android 8</td>\n      <td>4glte</td>\n      <td>2990</td>\n    </tr>\n    <tr>\n      <th>124</th>\n      <td>huawei</td>\n      <td>honor 8a</td>\n      <td>verde</td>\n      <td>0.176</td>\n      <td>lcd</td>\n      <td>13</td>\n      <td>8</td>\n      <td>mediatek2</td>\n      <td>2</td>\n      <td>32</td>\n      <td>android 9</td>\n      <td>4glte</td>\n      <td>3299</td>\n    </tr>\n    <tr>\n      <th>125</th>\n      <td>motorola</td>\n      <td>moto e6 play</td>\n      <td>azul</td>\n      <td>0.190</td>\n      <td>ips-lcd</td>\n      <td>13</td>\n      <td>5</td>\n      <td>qualcomm3</td>\n      <td>1</td>\n      <td>16</td>\n      <td>android 8</td>\n      <td>4glte</td>\n      <td>2499</td>\n    </tr>\n    <tr>\n      <th>126</th>\n      <td>motorola</td>\n      <td>moto e6 play</td>\n      <td>negro</td>\n      <td>0.190</td>\n      <td>ips-lcd</td>\n      <td>13</td>\n      <td>5</td>\n      <td>qualcomm3</td>\n      <td>1</td>\n      <td>16</td>\n      <td>android 8</td>\n      <td>4glte</td>\n      <td>2499</td>\n    </tr>\n  </tbody>\n</table>\n<p>127 rows × 13 columns</p>\n</div>"
     },
     "metadata": {},
     "execution_count": 10
    }
   ],
   "source": [
    "df_limpio"
   ]
  },
  {
   "cell_type": "code",
   "execution_count": 11,
   "metadata": {},
   "outputs": [],
   "source": [
    "# transformación de las columnas\n",
    "df_procesado = df_procesamiento(df_limpio)"
   ]
  },
  {
   "cell_type": "code",
   "execution_count": 12,
   "metadata": {},
   "outputs": [],
   "source": [
    "# salvado\n",
    "df_procesado.to_csv(path_salida, index = False)"
   ]
  },
  {
   "source": [
    "## Recomendación a mostrar\n",
    "\n",
    "El siguiente procesamiento le da formato al dataframe a mostrar."
   ],
   "cell_type": "markdown",
   "metadata": {}
  },
  {
   "cell_type": "code",
   "execution_count": 13,
   "metadata": {},
   "outputs": [],
   "source": [
    "# limpieza\n",
    "df_limpio_parcial_inicio = df_clean_parcial(df_inicio, ',', columns_numeric).drop_duplicates().reset_index(drop = True)\n",
    "df_limpio_parcial = clean_procesador(df_limpio_parcial_inicio)\n",
    "# reordenamiento\n",
    "df_limpio_parcial_orden  = df_limpio_parcial[['producto_nombre', 'marca', 'color', 'sistema_operativo', 'memoria', 'ram', 'precio', 'camara_trasera', 'camara_frontal', 'pantalla', 'tecnologia', 'procesador', 'peso']]\n",
    "# nombres\n",
    "df_limpio_parcial_orden.columns = ['Nombre', 'Marca', 'Color', 'Sistema operativo', 'Memoria', 'Ram', 'Precio', 'Camara Trasera', 'Camara Frontal', 'Pantalla', 'Tecnologia', 'Procesador', 'Peso']\n",
    "df_limpio_parcial_orden['Peso'] = df_limpio_parcial_orden['Peso'] * 1000    "
   ]
  },
  {
   "cell_type": "code",
   "execution_count": 14,
   "metadata": {},
   "outputs": [],
   "source": [
    "# lowercase al nombre de los productos\n",
    "df_limpio_parcial_orden['producto_nombre'] = df_limpio_parcial_orden['Nombre'].str.lower()"
   ]
  },
  {
   "cell_type": "code",
   "execution_count": 15,
   "metadata": {},
   "outputs": [
    {
     "output_type": "execute_result",
     "data": {
      "text/plain": [
       "                Nombre     Marca             Color Sistema operativo  Memoria  \\\n",
       "0       Galaxy Z Fold2   Samsung             Negro        Android 10      256   \n",
       "1       Galaxy Z Fold2   Samsung            Bronce        Android 10      256   \n",
       "2    iPhone 11 Pro Max     Apple  Verde Medianoche      Apple iOS 13      512   \n",
       "3    iPhone 11 Pro Max     Apple     Gris Espacial      Apple iOS 13      512   \n",
       "4    iPhone 11 Pro Max     Apple             Plata      Apple iOS 13      512   \n",
       "..                 ...       ...               ...               ...      ...   \n",
       "122       Moto E6 Play  Motorola             Negro         Android 8       16   \n",
       "123       Moto E6 Plus  Motorola              Azul         Android 8       32   \n",
       "124           Honor 8A    Huawei             Verde         Android 9       32   \n",
       "125       Moto E6 Play  Motorola              Azul         Android 8       16   \n",
       "126       Moto E6 Play  Motorola             Negro         Android 8       16   \n",
       "\n",
       "     Ram  Precio  Camara Trasera  Camara Frontal Pantalla         Tecnologia  \\\n",
       "0     12   46799              12              10   AMOLED  2G/3G/4G/4GLTE/5G   \n",
       "1     12   46799              12              10   AMOLED  2G/3G/4G/4GLTE/5G   \n",
       "2      4   33999              12              12     OLED              4GLTE   \n",
       "3      4   33999              12              12     OLED              4GLTE   \n",
       "4      4   33999              12              12     OLED              4GLTE   \n",
       "..   ...     ...             ...             ...      ...                ...   \n",
       "122    1    2499              13               8  IPS-LCD              4GLTE   \n",
       "123    2    2990              13               8      LCD              4GLTE   \n",
       "124    2    3299              13               8      LCD              4GLTE   \n",
       "125    1    2499              13               5  IPS-LCD              4GLTE   \n",
       "126    1    2499              13               5  IPS-LCD              4GLTE   \n",
       "\n",
       "    Procesador   Peso    producto_nombre  \n",
       "0     Qualcomm  282.0     galaxy z fold2  \n",
       "1     Qualcomm  282.0     galaxy z fold2  \n",
       "2        Apple  272.0  iphone 11 pro max  \n",
       "3        Apple  272.0  iphone 11 pro max  \n",
       "4        Apple  272.0  iphone 11 pro max  \n",
       "..         ...    ...                ...  \n",
       "122   Qualcomm  190.0       moto e6 play  \n",
       "123   MediaTek  149.0       moto e6 plus  \n",
       "124   MediaTek  176.0           honor 8a  \n",
       "125   Qualcomm  190.0       moto e6 play  \n",
       "126   Qualcomm  190.0       moto e6 play  \n",
       "\n",
       "[127 rows x 14 columns]"
      ],
      "text/html": "<div>\n<style scoped>\n    .dataframe tbody tr th:only-of-type {\n        vertical-align: middle;\n    }\n\n    .dataframe tbody tr th {\n        vertical-align: top;\n    }\n\n    .dataframe thead th {\n        text-align: right;\n    }\n</style>\n<table border=\"1\" class=\"dataframe\">\n  <thead>\n    <tr style=\"text-align: right;\">\n      <th></th>\n      <th>Nombre</th>\n      <th>Marca</th>\n      <th>Color</th>\n      <th>Sistema operativo</th>\n      <th>Memoria</th>\n      <th>Ram</th>\n      <th>Precio</th>\n      <th>Camara Trasera</th>\n      <th>Camara Frontal</th>\n      <th>Pantalla</th>\n      <th>Tecnologia</th>\n      <th>Procesador</th>\n      <th>Peso</th>\n      <th>producto_nombre</th>\n    </tr>\n  </thead>\n  <tbody>\n    <tr>\n      <th>0</th>\n      <td>Galaxy Z Fold2</td>\n      <td>Samsung</td>\n      <td>Negro</td>\n      <td>Android 10</td>\n      <td>256</td>\n      <td>12</td>\n      <td>46799</td>\n      <td>12</td>\n      <td>10</td>\n      <td>AMOLED</td>\n      <td>2G/3G/4G/4GLTE/5G</td>\n      <td>Qualcomm</td>\n      <td>282.0</td>\n      <td>galaxy z fold2</td>\n    </tr>\n    <tr>\n      <th>1</th>\n      <td>Galaxy Z Fold2</td>\n      <td>Samsung</td>\n      <td>Bronce</td>\n      <td>Android 10</td>\n      <td>256</td>\n      <td>12</td>\n      <td>46799</td>\n      <td>12</td>\n      <td>10</td>\n      <td>AMOLED</td>\n      <td>2G/3G/4G/4GLTE/5G</td>\n      <td>Qualcomm</td>\n      <td>282.0</td>\n      <td>galaxy z fold2</td>\n    </tr>\n    <tr>\n      <th>2</th>\n      <td>iPhone 11 Pro Max</td>\n      <td>Apple</td>\n      <td>Verde Medianoche</td>\n      <td>Apple iOS 13</td>\n      <td>512</td>\n      <td>4</td>\n      <td>33999</td>\n      <td>12</td>\n      <td>12</td>\n      <td>OLED</td>\n      <td>4GLTE</td>\n      <td>Apple</td>\n      <td>272.0</td>\n      <td>iphone 11 pro max</td>\n    </tr>\n    <tr>\n      <th>3</th>\n      <td>iPhone 11 Pro Max</td>\n      <td>Apple</td>\n      <td>Gris Espacial</td>\n      <td>Apple iOS 13</td>\n      <td>512</td>\n      <td>4</td>\n      <td>33999</td>\n      <td>12</td>\n      <td>12</td>\n      <td>OLED</td>\n      <td>4GLTE</td>\n      <td>Apple</td>\n      <td>272.0</td>\n      <td>iphone 11 pro max</td>\n    </tr>\n    <tr>\n      <th>4</th>\n      <td>iPhone 11 Pro Max</td>\n      <td>Apple</td>\n      <td>Plata</td>\n      <td>Apple iOS 13</td>\n      <td>512</td>\n      <td>4</td>\n      <td>33999</td>\n      <td>12</td>\n      <td>12</td>\n      <td>OLED</td>\n      <td>4GLTE</td>\n      <td>Apple</td>\n      <td>272.0</td>\n      <td>iphone 11 pro max</td>\n    </tr>\n    <tr>\n      <th>...</th>\n      <td>...</td>\n      <td>...</td>\n      <td>...</td>\n      <td>...</td>\n      <td>...</td>\n      <td>...</td>\n      <td>...</td>\n      <td>...</td>\n      <td>...</td>\n      <td>...</td>\n      <td>...</td>\n      <td>...</td>\n      <td>...</td>\n      <td>...</td>\n    </tr>\n    <tr>\n      <th>122</th>\n      <td>Moto E6 Play</td>\n      <td>Motorola</td>\n      <td>Negro</td>\n      <td>Android 8</td>\n      <td>16</td>\n      <td>1</td>\n      <td>2499</td>\n      <td>13</td>\n      <td>8</td>\n      <td>IPS-LCD</td>\n      <td>4GLTE</td>\n      <td>Qualcomm</td>\n      <td>190.0</td>\n      <td>moto e6 play</td>\n    </tr>\n    <tr>\n      <th>123</th>\n      <td>Moto E6 Plus</td>\n      <td>Motorola</td>\n      <td>Azul</td>\n      <td>Android 8</td>\n      <td>32</td>\n      <td>2</td>\n      <td>2990</td>\n      <td>13</td>\n      <td>8</td>\n      <td>LCD</td>\n      <td>4GLTE</td>\n      <td>MediaTek</td>\n      <td>149.0</td>\n      <td>moto e6 plus</td>\n    </tr>\n    <tr>\n      <th>124</th>\n      <td>Honor 8A</td>\n      <td>Huawei</td>\n      <td>Verde</td>\n      <td>Android 9</td>\n      <td>32</td>\n      <td>2</td>\n      <td>3299</td>\n      <td>13</td>\n      <td>8</td>\n      <td>LCD</td>\n      <td>4GLTE</td>\n      <td>MediaTek</td>\n      <td>176.0</td>\n      <td>honor 8a</td>\n    </tr>\n    <tr>\n      <th>125</th>\n      <td>Moto E6 Play</td>\n      <td>Motorola</td>\n      <td>Azul</td>\n      <td>Android 8</td>\n      <td>16</td>\n      <td>1</td>\n      <td>2499</td>\n      <td>13</td>\n      <td>5</td>\n      <td>IPS-LCD</td>\n      <td>4GLTE</td>\n      <td>Qualcomm</td>\n      <td>190.0</td>\n      <td>moto e6 play</td>\n    </tr>\n    <tr>\n      <th>126</th>\n      <td>Moto E6 Play</td>\n      <td>Motorola</td>\n      <td>Negro</td>\n      <td>Android 8</td>\n      <td>16</td>\n      <td>1</td>\n      <td>2499</td>\n      <td>13</td>\n      <td>5</td>\n      <td>IPS-LCD</td>\n      <td>4GLTE</td>\n      <td>Qualcomm</td>\n      <td>190.0</td>\n      <td>moto e6 play</td>\n    </tr>\n  </tbody>\n</table>\n<p>127 rows × 14 columns</p>\n</div>"
     },
     "metadata": {},
     "execution_count": 15
    }
   ],
   "source": [
    "df_limpio_parcial_orden"
   ]
  },
  {
   "cell_type": "code",
   "execution_count": 16,
   "metadata": {},
   "outputs": [],
   "source": [
    "# salvado de los datos con el formato bonito\n",
    "df_limpio_parcial_orden.to_csv(path_salida_formato, index = False)"
   ]
  },
  {
   "cell_type": "code",
   "execution_count": null,
   "metadata": {},
   "outputs": [],
   "source": []
  }
 ]
}