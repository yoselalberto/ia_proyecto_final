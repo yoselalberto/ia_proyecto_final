{
 "metadata": {
  "orig_nbformat": 2,
  "kernelspec": {
   "name": "python3",
   "display_name": "Python 3",
   "language": "python"
  }
 },
 "nbformat": 4,
 "nbformat_minor": 2,
 "cells": [
  {
   "source": [
    "# Procesamiento de los datos\n",
    "\n",
    "Limpieza y transformaciones, la salida estará lista para modelar."
   ],
   "cell_type": "markdown",
   "metadata": {}
  },
  {
   "cell_type": "code",
   "execution_count": 1,
   "metadata": {},
   "outputs": [],
   "source": [
    "# settings\n",
    "import pandas as pd\n",
    "from   itertools import chain"
   ]
  },
  {
   "cell_type": "code",
   "execution_count": 2,
   "metadata": {},
   "outputs": [],
   "source": [
    "# data\n",
    "path_input  = \"work/data/celulares.csv\"\n",
    "path_salida = 'work/data/processed/celulares_procesados.csv'"
   ]
  },
  {
   "cell_type": "code",
   "execution_count": 3,
   "metadata": {},
   "outputs": [],
   "source": [
    "import janitor"
   ]
  },
  {
   "cell_type": "code",
   "execution_count": 4,
   "metadata": {},
   "outputs": [],
   "source": [
    "# corrigé un error en el formato de los valores de cada instancia\n",
    "def replace_string(dataframe, string = ','):\n",
    "  # elimina el caracter molesto\n",
    "  df = dataframe.copy()\n",
    "  # column by column\n",
    "  for columna in df.columns.values:\n",
    "    df[columna] = df[columna].str.replace(string, '')\n",
    "  return df \n",
    "# lowercase all dataframe\n",
    "def df_lowercase(dataframe):\n",
    "  # lowercase all columns\n",
    "  df = dataframe.copy()\n",
    "  for columna in df.columns.values:\n",
    "    df[columna] = df[columna].str.lower()\n",
    "  return df\n",
    "# coerse columns\n",
    "def df_numeric(dataframe, columns):\n",
    "  df = dataframe.copy()\n",
    "  df[columns] = df[columns].apply(pd.to_numeric, errors='coerce')\n",
    "  return df\n",
    "# agrupo las funciones anteriores\n",
    "def df_clean(dataframe, string, columns_to_numeric):\n",
    "  df = dataframe.copy()\n",
    "  # \n",
    "  df_2 = replace_string(dataframe, string)\n",
    "  df_3 = df_lowercase(df_2)\n",
    "  df_4 = df_numeric(df_3, columns = columns_to_numeric)\n",
    "  return df_4"
   ]
  },
  {
   "cell_type": "code",
   "execution_count": 5,
   "metadata": {},
   "outputs": [],
   "source": [
    "# data loading\n",
    "df_raw = pd.read_csv(path_input, dtype = 'str').clean_names()"
   ]
  },
  {
   "cell_type": "code",
   "execution_count": 6,
   "metadata": {},
   "outputs": [],
   "source": [
    "# renombro columnas\n",
    "nombres = {\"nombre_del_producto\": 'producto_nombre', 'memoria_interna': 'memoria'}\n",
    "df_inicio = df_raw.rename(columns = nombres)"
   ]
  },
  {
   "cell_type": "code",
   "execution_count": 7,
   "metadata": {},
   "outputs": [],
   "source": [
    "# limpieza inicial\n",
    "columns_numeric = ['peso', 'camara_trasera', 'camara_frontal', 'ram', 'memoria', 'precio']\n",
    "# \n",
    "df_limpio = df_clean(df_inicio, ',', columns_numeric).drop_duplicates().reset_index(drop = True)"
   ]
  },
  {
   "source": [
    "## Transformación de las columnas  \n",
    "\n",
    "Limpieza especifica, o transformaciones e.g `so = {'android', 'ios'}`"
   ],
   "cell_type": "markdown",
   "metadata": {}
  },
  {
   "cell_type": "code",
   "execution_count": 8,
   "metadata": {},
   "outputs": [],
   "source": [
    "# los pasos lod meto en funciones\n",
    "def clean_tecnologia(dataframe):\n",
    "    df = dataframe.copy()\n",
    "    # tabla de soporte\n",
    "    tabla_tecnologias = pd.DataFrame(\n",
    "    {'tecnologia' : ['2g/3g/4g/4glte/5g', '4glte',  '4g/gsm', '2g/3g/4g/4glte/gsm', '4g', '5g', '3g/4g/gsm', '4g/4glte/gsm/lte', '2g/3g/lte', '3g/lte'],\n",
    "    'tecnologia_mejor' : ['5g',            '4glte', '4g',     '4glte',              '4g', '5g', '4g',       '4glte',             '4glte',      '4glte']}\n",
    "    )\n",
    "    # sustitución\n",
    "    df_salida = df.merge(tabla_tecnologias, how = \"left\").drop(columns = {'tecnologia'}).rename(columns = {'tecnologia_mejor': 'tecnologia'})\n",
    "    # salida\n",
    "    return df_salida\n",
    "    # procesador\n",
    "def clean_procesador(dataframe):\n",
    "    df = dataframe.copy()\n",
    "    #\n",
    "    df['procesador'] = df.procesador.str.split().str.get(0).str.replace('\\d+', '')\n",
    "    # salida\n",
    "    return  df\n",
    "    # clean operative systems\n",
    "def clean_os(dataframe):\n",
    "    df = dataframe.copy()\n",
    "    #\n",
    "    df['sistema_operativo']= df.sistema_operativo.str.extract(r'(android|ios)', expand = False)\n",
    "    # salida\n",
    "    return df\n",
    "    # chain steps\n",
    "def df_procesamiento(dataframe):\n",
    "    df = dataframe.copy()\n",
    "    # steps \n",
    "    df_tecnologia = clean_tecnologia(df)\n",
    "    df_procesador = clean_procesador(df_tecnologia)\n",
    "    df_os         = clean_os(df_procesador)\n",
    "    # resultado\n",
    "    return df_os"
   ]
  },
  {
   "cell_type": "code",
   "execution_count": 9,
   "metadata": {},
   "outputs": [],
   "source": [
    "# aplico los pasos\n",
    "df_procesado = df_procesamiento(df_limpio)"
   ]
  },
  {
   "cell_type": "code",
   "execution_count": 10,
   "metadata": {},
   "outputs": [],
   "source": [
    "# salvado\n",
    "df_procesado.to_csv(path_salida, index = False)"
   ]
  },
  {
   "cell_type": "code",
   "execution_count": null,
   "metadata": {},
   "outputs": [],
   "source": []
  }
 ]
}