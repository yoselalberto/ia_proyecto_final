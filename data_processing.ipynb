{
 "metadata": {
  "orig_nbformat": 2,
  "kernelspec": {
   "name": "python3",
   "display_name": "Python 3",
   "language": "python"
  }
 },
 "nbformat": 4,
 "nbformat_minor": 2,
 "cells": [
  {
   "source": [
    "## Preparación de los datos\n",
    "Este notebook limpiara, y creara features iniciales"
   ],
   "cell_type": "markdown",
   "metadata": {}
  },
  {
   "cell_type": "code",
   "execution_count": 96,
   "metadata": {},
   "outputs": [],
   "source": [
    "# settings\n",
    "import pandas as pd\n",
    "from   itertools import chain"
   ]
  },
  {
   "cell_type": "code",
   "execution_count": 7,
   "metadata": {},
   "outputs": [
    {
     "output_type": "error",
     "ename": "ModuleNotFoundError",
     "evalue": "No module named 'janytor'",
     "traceback": [
      "\u001b[0;31m---------------------------------------------------------------------------\u001b[0m",
      "\u001b[0;31mModuleNotFoundError\u001b[0m                       Traceback (most recent call last)",
      "\u001b[0;32m<ipython-input-7-6192447f8e6d>\u001b[0m in \u001b[0;36m<module>\u001b[0;34m\u001b[0m\n\u001b[1;32m      1\u001b[0m \u001b[0;31m# more settings\u001b[0m\u001b[0;34m\u001b[0m\u001b[0;34m\u001b[0m\u001b[0;34m\u001b[0m\u001b[0m\n\u001b[0;32m----> 2\u001b[0;31m \u001b[0;32mimport\u001b[0m \u001b[0mjanytor\u001b[0m\u001b[0;34m\u001b[0m\u001b[0;34m\u001b[0m\u001b[0m\n\u001b[0m",
      "\u001b[0;31mModuleNotFoundError\u001b[0m: No module named 'janytor'"
     ]
    }
   ],
   "source": [
    "# more settings\n",
    "# import janytor"
   ]
  },
  {
   "cell_type": "code",
   "execution_count": 2,
   "metadata": {},
   "outputs": [],
   "source": [
    "# data\n",
    "path = \"work/data/celulares.csv\""
   ]
  },
  {
   "cell_type": "code",
   "execution_count": 3,
   "metadata": {},
   "outputs": [],
   "source": [
    "import janitor"
   ]
  },
  {
   "cell_type": "code",
   "execution_count": 8,
   "metadata": {},
   "outputs": [],
   "source": [
    "# functions\n",
    "# corrigé un error en el formato de los valores de cada instancia\n",
    "def df_csv(dataframe, string = ','):\n",
    "  # elimina el caracter molesto\n",
    "  df = dataframe.copy()\n",
    "  # column by column\n",
    "  for columna in df.columns.values:\n",
    "    df[columna] = df[columna].str.replace(string, '')\n",
    "  return df \n",
    "# lowercase all dataframe\n",
    "def df_lowercase(dataframe):\n",
    "  # lowercase all columns\n",
    "  df = dataframe.copy()\n",
    "  for columna in df.columns.values:\n",
    "    df[columna] = df[columna].str.lower()\n",
    "  return df\n",
    "# coerse columns\n",
    "def df_numeric(dataframe, columns):\n",
    "  df = dataframe.copy()\n",
    "  df[columns] = df[columns].apply(pd.to_numeric, errors='coerce')\n",
    "  return df\n",
    "# agrupo las funciones anteriores\n",
    "def df_clean(dataframe, string, columns_to_numeric):\n",
    "  df = dataframe.copy()\n",
    "  # \n",
    "  df_2 = df_csv(dataframe, string)\n",
    "  df_3 = df_lowercase(df_2)\n",
    "  df_4 = df_numeric(df_3, columns = columns_to_numeric)\n",
    "  return df_4"
   ]
  },
  {
   "cell_type": "code",
   "execution_count": 4,
   "metadata": {},
   "outputs": [],
   "source": [
    "# data loading\n",
    "df_raw = pd.read_csv(path, dtype = 'str').clean_names()"
   ]
  },
  {
   "cell_type": "code",
   "execution_count": 6,
   "metadata": {},
   "outputs": [],
   "source": [
    "# renombro columnas\n",
    "nombres = {\"nombre_del_producto\": 'producto_nombre', 'memoria_interna': 'memoria', 'sistema_operativo': 'so'}\n",
    "#\n",
    "df_inicio = df_raw.rename(columns = nombres)"
   ]
  },
  {
   "cell_type": "code",
   "execution_count": 9,
   "metadata": {},
   "outputs": [],
   "source": [
    "# limpieza\n",
    "columns_numeric = ['peso', 'camara_trasera', 'camara_frontal', 'ram', 'memoria', 'precio']\n",
    "# \n",
    "df_limpio = df_clean(df_inicio, ',', columns_numeric)"
   ]
  },
  {
   "source": [
    "## Preparación de las caracteristicas\n",
    "\n",
    "e.g so = {'android', 'ios'}"
   ],
   "cell_type": "markdown",
   "metadata": {}
  },
  {
   "cell_type": "code",
   "execution_count": 36,
   "metadata": {},
   "outputs": [],
   "source": [
    "# elimino columnas\n",
    "columnas_ignorar = {'producto_nombre', 'color', 'pantalla'}\n",
    "df_seleccion = df_limpio.drop(columns = columnas_ignorar)"
   ]
  },
  {
   "cell_type": "code",
   "execution_count": 108,
   "metadata": {},
   "outputs": [
    {
     "output_type": "execute_result",
     "data": {
      "text/plain": [
       "           tecnologia tecnologia_mejor\n",
       "0   2g/3g/4g/4glte/5g               5g\n",
       "1               4glte            4glte\n",
       "2              4g/gsm               4g\n",
       "3  2g/3g/4g/4glte/gsm            4glte\n",
       "4                  4g               4g\n",
       "5                  5g               5g\n",
       "6           3g/4g/gsm               4g\n",
       "7    4g/4glte/gsm/lte            4glte\n",
       "8           2g/3g/lte              lte\n",
       "9              3g/lte              lte"
      ],
      "text/html": "<div>\n<style scoped>\n    .dataframe tbody tr th:only-of-type {\n        vertical-align: middle;\n    }\n\n    .dataframe tbody tr th {\n        vertical-align: top;\n    }\n\n    .dataframe thead th {\n        text-align: right;\n    }\n</style>\n<table border=\"1\" class=\"dataframe\">\n  <thead>\n    <tr style=\"text-align: right;\">\n      <th></th>\n      <th>tecnologia</th>\n      <th>tecnologia_mejor</th>\n    </tr>\n  </thead>\n  <tbody>\n    <tr>\n      <th>0</th>\n      <td>2g/3g/4g/4glte/5g</td>\n      <td>5g</td>\n    </tr>\n    <tr>\n      <th>1</th>\n      <td>4glte</td>\n      <td>4glte</td>\n    </tr>\n    <tr>\n      <th>2</th>\n      <td>4g/gsm</td>\n      <td>4g</td>\n    </tr>\n    <tr>\n      <th>3</th>\n      <td>2g/3g/4g/4glte/gsm</td>\n      <td>4glte</td>\n    </tr>\n    <tr>\n      <th>4</th>\n      <td>4g</td>\n      <td>4g</td>\n    </tr>\n    <tr>\n      <th>5</th>\n      <td>5g</td>\n      <td>5g</td>\n    </tr>\n    <tr>\n      <th>6</th>\n      <td>3g/4g/gsm</td>\n      <td>4g</td>\n    </tr>\n    <tr>\n      <th>7</th>\n      <td>4g/4glte/gsm/lte</td>\n      <td>4glte</td>\n    </tr>\n    <tr>\n      <th>8</th>\n      <td>2g/3g/lte</td>\n      <td>lte</td>\n    </tr>\n    <tr>\n      <th>9</th>\n      <td>3g/lte</td>\n      <td>lte</td>\n    </tr>\n  </tbody>\n</table>\n</div>"
     },
     "metadata": {},
     "execution_count": 108
    }
   ],
   "source": [
    "# dejaré solo la tecnología más reciente\n",
    "# orden creciente 2g == gsm, 5g < lte ==4glte\n",
    "pd.DataFrame({'tecnologia' : ['2g/3g/4g/4glte/5g', '4glte',  '4g/gsm', '2g/3g/4g/4glte/gsm', '4g', '5g', '3g/4g/gsm', '4g/4glte/gsm/lte', '2g/3g/lte', '3g/lte'],\n",
    "             'tecnologia_mejor' : ['5g',            '4glte', '4g',     '4glte',              '4g', '5g', '4g',       '4glte',             '4glte',      '4glte']})"
   ]
  },
  {
   "cell_type": "code",
   "execution_count": 71,
   "metadata": {},
   "outputs": [
    {
     "output_type": "execute_result",
     "data": {
      "text/plain": [
       "0      android\n",
       "1      android\n",
       "2          ios\n",
       "3          ios\n",
       "4          ios\n",
       "        ...   \n",
       "130    android\n",
       "131    android\n",
       "132    android\n",
       "133    android\n",
       "134    android\n",
       "Name: so, Length: 135, dtype: object"
      ]
     },
     "metadata": {},
     "execution_count": 71
    }
   ],
   "source": [
    "# procesador\n",
    "# df_seleccion.procesador.str.split().str.get(0).str.replace('\\d+', '').unique()\n",
    "# df_seleccion.so.str.extract(r'(android|ios)', expand = False)"
   ]
  },
  {
   "cell_type": "code",
   "execution_count": 49,
   "metadata": {},
   "outputs": [
    {
     "output_type": "execute_result",
     "data": {
      "text/plain": [
       "        marca   peso  camara_trasera  camara_frontal procesador  ram  memoria  \\\n",
       "0     samsung  0.282              12              10  qualcomm1   12      256   \n",
       "1     samsung  0.282              12              10  qualcomm1   12      256   \n",
       "2       apple  0.272              12              12     apple1    4      512   \n",
       "3       apple  0.272              12              12     apple1    4      512   \n",
       "4       apple  0.272              12              12     apple1    4      512   \n",
       "..        ...    ...             ...             ...        ...  ...      ...   \n",
       "130  motorola  0.188               8              13  mediatek2    2       32   \n",
       "131  motorola  0.149              13               8  mediatek2    2       32   \n",
       "132    huawei  0.176              13               8  mediatek2    2       32   \n",
       "133  motorola  0.190              13               5  qualcomm3    1       16   \n",
       "134  motorola  0.190              13               5  qualcomm3    1       16   \n",
       "\n",
       "               so         tecnologia  precio  \n",
       "0      android 10  2g/3g/4g/4glte/5g   46799  \n",
       "1      android 10  2g/3g/4g/4glte/5g   46799  \n",
       "2    apple ios 13              4glte   33999  \n",
       "3    apple ios 13              4glte   33999  \n",
       "4    apple ios 13              4glte   33999  \n",
       "..            ...                ...     ...  \n",
       "130     android 9              4glte    3490  \n",
       "131     android 8              4glte    2990  \n",
       "132     android 9              4glte    3299  \n",
       "133     android 8              4glte    2499  \n",
       "134     android 8              4glte    2499  \n",
       "\n",
       "[135 rows x 10 columns]"
      ],
      "text/html": "<div>\n<style scoped>\n    .dataframe tbody tr th:only-of-type {\n        vertical-align: middle;\n    }\n\n    .dataframe tbody tr th {\n        vertical-align: top;\n    }\n\n    .dataframe thead th {\n        text-align: right;\n    }\n</style>\n<table border=\"1\" class=\"dataframe\">\n  <thead>\n    <tr style=\"text-align: right;\">\n      <th></th>\n      <th>marca</th>\n      <th>peso</th>\n      <th>camara_trasera</th>\n      <th>camara_frontal</th>\n      <th>procesador</th>\n      <th>ram</th>\n      <th>memoria</th>\n      <th>so</th>\n      <th>tecnologia</th>\n      <th>precio</th>\n    </tr>\n  </thead>\n  <tbody>\n    <tr>\n      <th>0</th>\n      <td>samsung</td>\n      <td>0.282</td>\n      <td>12</td>\n      <td>10</td>\n      <td>qualcomm1</td>\n      <td>12</td>\n      <td>256</td>\n      <td>android 10</td>\n      <td>2g/3g/4g/4glte/5g</td>\n      <td>46799</td>\n    </tr>\n    <tr>\n      <th>1</th>\n      <td>samsung</td>\n      <td>0.282</td>\n      <td>12</td>\n      <td>10</td>\n      <td>qualcomm1</td>\n      <td>12</td>\n      <td>256</td>\n      <td>android 10</td>\n      <td>2g/3g/4g/4glte/5g</td>\n      <td>46799</td>\n    </tr>\n    <tr>\n      <th>2</th>\n      <td>apple</td>\n      <td>0.272</td>\n      <td>12</td>\n      <td>12</td>\n      <td>apple1</td>\n      <td>4</td>\n      <td>512</td>\n      <td>apple ios 13</td>\n      <td>4glte</td>\n      <td>33999</td>\n    </tr>\n    <tr>\n      <th>3</th>\n      <td>apple</td>\n      <td>0.272</td>\n      <td>12</td>\n      <td>12</td>\n      <td>apple1</td>\n      <td>4</td>\n      <td>512</td>\n      <td>apple ios 13</td>\n      <td>4glte</td>\n      <td>33999</td>\n    </tr>\n    <tr>\n      <th>4</th>\n      <td>apple</td>\n      <td>0.272</td>\n      <td>12</td>\n      <td>12</td>\n      <td>apple1</td>\n      <td>4</td>\n      <td>512</td>\n      <td>apple ios 13</td>\n      <td>4glte</td>\n      <td>33999</td>\n    </tr>\n    <tr>\n      <th>...</th>\n      <td>...</td>\n      <td>...</td>\n      <td>...</td>\n      <td>...</td>\n      <td>...</td>\n      <td>...</td>\n      <td>...</td>\n      <td>...</td>\n      <td>...</td>\n      <td>...</td>\n    </tr>\n    <tr>\n      <th>130</th>\n      <td>motorola</td>\n      <td>0.188</td>\n      <td>8</td>\n      <td>13</td>\n      <td>mediatek2</td>\n      <td>2</td>\n      <td>32</td>\n      <td>android 9</td>\n      <td>4glte</td>\n      <td>3490</td>\n    </tr>\n    <tr>\n      <th>131</th>\n      <td>motorola</td>\n      <td>0.149</td>\n      <td>13</td>\n      <td>8</td>\n      <td>mediatek2</td>\n      <td>2</td>\n      <td>32</td>\n      <td>android 8</td>\n      <td>4glte</td>\n      <td>2990</td>\n    </tr>\n    <tr>\n      <th>132</th>\n      <td>huawei</td>\n      <td>0.176</td>\n      <td>13</td>\n      <td>8</td>\n      <td>mediatek2</td>\n      <td>2</td>\n      <td>32</td>\n      <td>android 9</td>\n      <td>4glte</td>\n      <td>3299</td>\n    </tr>\n    <tr>\n      <th>133</th>\n      <td>motorola</td>\n      <td>0.190</td>\n      <td>13</td>\n      <td>5</td>\n      <td>qualcomm3</td>\n      <td>1</td>\n      <td>16</td>\n      <td>android 8</td>\n      <td>4glte</td>\n      <td>2499</td>\n    </tr>\n    <tr>\n      <th>134</th>\n      <td>motorola</td>\n      <td>0.190</td>\n      <td>13</td>\n      <td>5</td>\n      <td>qualcomm3</td>\n      <td>1</td>\n      <td>16</td>\n      <td>android 8</td>\n      <td>4glte</td>\n      <td>2499</td>\n    </tr>\n  </tbody>\n</table>\n<p>135 rows × 10 columns</p>\n</div>"
     },
     "metadata": {},
     "execution_count": 49
    }
   ],
   "source": [
    "df_seleccion"
   ]
  },
  {
   "cell_type": "code",
   "execution_count": null,
   "metadata": {},
   "outputs": [],
   "source": []
  }
 ]
}