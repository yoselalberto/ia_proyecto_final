{
 "metadata": {
  "orig_nbformat": 2,
  "kernelspec": {
   "name": "python3",
   "display_name": "Python 3",
   "language": "python"
  }
 },
 "nbformat": 4,
 "nbformat_minor": 2,
 "cells": [
  {
   "source": [
    "# Modelado\n",
    "Aquí modelaremos"
   ],
   "cell_type": "markdown",
   "metadata": {}
  },
  {
   "cell_type": "code",
   "execution_count": 48,
   "metadata": {},
   "outputs": [],
   "source": [
    "# dependencies\n",
    "import numpy  as np\n",
    "import pandas as pd\n",
    "from   sklearn.impute          import SimpleImputer\n",
    "from   sklearn.preprocessing   import OneHotEncoder, StandardScaler\n",
    "from   sklearn.pipeline        import Pipeline\n",
    "from   sklearn.tree            import DecisionTreeClassifier\n",
    "from   sklearn.model_selection import cross_val_score"
   ]
  },
  {
   "cell_type": "code",
   "execution_count": 2,
   "metadata": {},
   "outputs": [],
   "source": [
    "# data\n",
    "path = 'work/data/processed/celulares_procesasdos.csv'"
   ]
  },
  {
   "cell_type": "code",
   "execution_count": 3,
   "metadata": {},
   "outputs": [],
   "source": [
    "# loading\n",
    "df_inicio = pd.read_csv(path)"
   ]
  },
  {
   "cell_type": "code",
   "execution_count": 4,
   "metadata": {},
   "outputs": [],
   "source": [
    "# variables globales\n",
    "# estas columnas serán ignoradas durante el modelado\n",
    "columnas_ignorar     = {'color', 'pantalla'}\n",
    "# variable objetivo\n",
    "columna_objetivo     = 'producto_nombre'\n",
    "# columnas categoricas\n",
    "columnas_categoricas = ['marca', 'procesador', 'sistema_operativo', 'tecnologia']\n",
    "# columnas numericas\n",
    "columnas_numericas   = ['peso', 'camara_trasera', 'camara_frontal', 'ram', 'memoria', 'precio']\n",
    "# variables predictoras\n",
    "columnas_predictoras = columnas_numericas + columnas_categoricas"
   ]
  },
  {
   "cell_type": "code",
   "execution_count": 5,
   "metadata": {},
   "outputs": [],
   "source": [
    "# elimino columnas, duplicados, y reordeno las columnas\n",
    "df = df_inicio.drop(columns = columnas_ignorar).drop_duplicates().reset_index(drop = True)[columnas_predictoras + [columna_objetivo]]"
   ]
  },
  {
   "cell_type": "code",
   "execution_count": 6,
   "metadata": {},
   "outputs": [
    {
     "output_type": "execute_result",
     "data": {
      "text/plain": [
       "     peso  camara_trasera  camara_frontal  ram  memoria  precio     marca  \\\n",
       "0   0.282              12              10   12      256   46799   samsung   \n",
       "1   0.272              12              12    4      512   33999     apple   \n",
       "2   0.252              12              12    4      512   31279     apple   \n",
       "3   0.302              12              10    8      256   30599   samsung   \n",
       "4   0.183              12              10    8      256   29699   samsung   \n",
       "..    ...             ...             ...  ...      ...     ...       ...   \n",
       "76  0.149              13               8    2       32    2990  motorola   \n",
       "77  0.190              13               8    1       16    2499  motorola   \n",
       "78  0.149              13               8    2       32    2990  motorola   \n",
       "79  0.176              13               8    2       32    3299    huawei   \n",
       "80  0.190              13               5    1       16    2499  motorola   \n",
       "\n",
       "   procesador sistema_operativo tecnologia       producto_nombre  \n",
       "0    qualcomm           android         5g        galaxy z fold2  \n",
       "1       apple               ios      4glte     iphone 11 pro max  \n",
       "2       apple               ios      4glte         iphone 11 pro  \n",
       "3    qualcomm           android         4g  galaxy note 20 ultra  \n",
       "4    qualcomm           android      4glte         galaxy z flip  \n",
       "..        ...               ...        ...                   ...  \n",
       "76   qualcomm           android      4glte          moto e6 plus  \n",
       "77   qualcomm           android      4glte          moto e6 play  \n",
       "78   mediatek           android      4glte          moto e6 plus  \n",
       "79   mediatek           android      4glte              honor 8a  \n",
       "80   qualcomm           android      4glte          moto e6 play  \n",
       "\n",
       "[81 rows x 11 columns]"
      ],
      "text/html": "<div>\n<style scoped>\n    .dataframe tbody tr th:only-of-type {\n        vertical-align: middle;\n    }\n\n    .dataframe tbody tr th {\n        vertical-align: top;\n    }\n\n    .dataframe thead th {\n        text-align: right;\n    }\n</style>\n<table border=\"1\" class=\"dataframe\">\n  <thead>\n    <tr style=\"text-align: right;\">\n      <th></th>\n      <th>peso</th>\n      <th>camara_trasera</th>\n      <th>camara_frontal</th>\n      <th>ram</th>\n      <th>memoria</th>\n      <th>precio</th>\n      <th>marca</th>\n      <th>procesador</th>\n      <th>sistema_operativo</th>\n      <th>tecnologia</th>\n      <th>producto_nombre</th>\n    </tr>\n  </thead>\n  <tbody>\n    <tr>\n      <th>0</th>\n      <td>0.282</td>\n      <td>12</td>\n      <td>10</td>\n      <td>12</td>\n      <td>256</td>\n      <td>46799</td>\n      <td>samsung</td>\n      <td>qualcomm</td>\n      <td>android</td>\n      <td>5g</td>\n      <td>galaxy z fold2</td>\n    </tr>\n    <tr>\n      <th>1</th>\n      <td>0.272</td>\n      <td>12</td>\n      <td>12</td>\n      <td>4</td>\n      <td>512</td>\n      <td>33999</td>\n      <td>apple</td>\n      <td>apple</td>\n      <td>ios</td>\n      <td>4glte</td>\n      <td>iphone 11 pro max</td>\n    </tr>\n    <tr>\n      <th>2</th>\n      <td>0.252</td>\n      <td>12</td>\n      <td>12</td>\n      <td>4</td>\n      <td>512</td>\n      <td>31279</td>\n      <td>apple</td>\n      <td>apple</td>\n      <td>ios</td>\n      <td>4glte</td>\n      <td>iphone 11 pro</td>\n    </tr>\n    <tr>\n      <th>3</th>\n      <td>0.302</td>\n      <td>12</td>\n      <td>10</td>\n      <td>8</td>\n      <td>256</td>\n      <td>30599</td>\n      <td>samsung</td>\n      <td>qualcomm</td>\n      <td>android</td>\n      <td>4g</td>\n      <td>galaxy note 20 ultra</td>\n    </tr>\n    <tr>\n      <th>4</th>\n      <td>0.183</td>\n      <td>12</td>\n      <td>10</td>\n      <td>8</td>\n      <td>256</td>\n      <td>29699</td>\n      <td>samsung</td>\n      <td>qualcomm</td>\n      <td>android</td>\n      <td>4glte</td>\n      <td>galaxy z flip</td>\n    </tr>\n    <tr>\n      <th>...</th>\n      <td>...</td>\n      <td>...</td>\n      <td>...</td>\n      <td>...</td>\n      <td>...</td>\n      <td>...</td>\n      <td>...</td>\n      <td>...</td>\n      <td>...</td>\n      <td>...</td>\n      <td>...</td>\n    </tr>\n    <tr>\n      <th>76</th>\n      <td>0.149</td>\n      <td>13</td>\n      <td>8</td>\n      <td>2</td>\n      <td>32</td>\n      <td>2990</td>\n      <td>motorola</td>\n      <td>qualcomm</td>\n      <td>android</td>\n      <td>4glte</td>\n      <td>moto e6 plus</td>\n    </tr>\n    <tr>\n      <th>77</th>\n      <td>0.190</td>\n      <td>13</td>\n      <td>8</td>\n      <td>1</td>\n      <td>16</td>\n      <td>2499</td>\n      <td>motorola</td>\n      <td>qualcomm</td>\n      <td>android</td>\n      <td>4glte</td>\n      <td>moto e6 play</td>\n    </tr>\n    <tr>\n      <th>78</th>\n      <td>0.149</td>\n      <td>13</td>\n      <td>8</td>\n      <td>2</td>\n      <td>32</td>\n      <td>2990</td>\n      <td>motorola</td>\n      <td>mediatek</td>\n      <td>android</td>\n      <td>4glte</td>\n      <td>moto e6 plus</td>\n    </tr>\n    <tr>\n      <th>79</th>\n      <td>0.176</td>\n      <td>13</td>\n      <td>8</td>\n      <td>2</td>\n      <td>32</td>\n      <td>3299</td>\n      <td>huawei</td>\n      <td>mediatek</td>\n      <td>android</td>\n      <td>4glte</td>\n      <td>honor 8a</td>\n    </tr>\n    <tr>\n      <th>80</th>\n      <td>0.190</td>\n      <td>13</td>\n      <td>5</td>\n      <td>1</td>\n      <td>16</td>\n      <td>2499</td>\n      <td>motorola</td>\n      <td>qualcomm</td>\n      <td>android</td>\n      <td>4glte</td>\n      <td>moto e6 play</td>\n    </tr>\n  </tbody>\n</table>\n<p>81 rows × 11 columns</p>\n</div>"
     },
     "metadata": {},
     "execution_count": 6
    }
   ],
   "source": [
    "df"
   ]
  },
  {
   "source": [
    "## Train and test split\n",
    "Se ocuparán todos los datos para el modelado, se reportará el cross validation error."
   ],
   "cell_type": "markdown",
   "metadata": {}
  },
  {
   "cell_type": "code",
   "execution_count": 7,
   "metadata": {},
   "outputs": [],
   "source": [
    "predictores = df.drop(columns = columna_objetivo)\n",
    "objetivo    = df[[columna_objetivo]]"
   ]
  },
  {
   "source": [
    "### Llenado de valores faltantes\n",
    "En ambos casos de usará el valor más frecuente: el promedio para las variables númericas, para las variables categoricas la moda."
   ],
   "cell_type": "markdown",
   "metadata": {}
  },
  {
   "cell_type": "code",
   "execution_count": 8,
   "metadata": {},
   "outputs": [],
   "source": [
    "def feature_engineer_numeric(dataframe, columnas_numericas):\n",
    "    df = dataframe.copy()\n",
    "    # imputación\n",
    "    imputador_numeric   = SimpleImputer(missing_values = np.nan, strategy = 'mean').fit(df[columnas_numericas])\n",
    "    df_imputed = imputador_numeric.transform(df[columnas_numericas])    \n",
    "    # estandarización\n",
    "    estandarizador = StandardScaler().fit(df_imputed)\n",
    "    df_standarizado = estandarizador.transform(df_imputed)\n",
    "    # add names\n",
    "    df_nombres = pd.DataFrame(df_standarizado, columns = columnas_numericas).reset_index(drop = True)\n",
    "    df_salida  = pd.concat([df_nombres, dataframe.drop(columns = columnas_numericas)], axis = 1)\n",
    "    #\n",
    "    return df_salida\n"
   ]
  },
  {
   "cell_type": "code",
   "execution_count": 9,
   "metadata": {},
   "outputs": [],
   "source": [
    "# feature_engineer_numeric(df, columnas_numericas)\n",
    "# df.drop(columns = columnas_numericas)"
   ]
  },
  {
   "cell_type": "code",
   "execution_count": 10,
   "metadata": {},
   "outputs": [],
   "source": [
    "def feature_engineer_categoric(dataframe, columnas_categoricas):\n",
    "    df = dataframe.copy()\n",
    "    # imputacion\n",
    "    imputador_categoric = SimpleImputer(missing_values = None, strategy = 'most_frequent').fit(df[columnas_categoricas])\n",
    "    df_imputed = imputador_categoric.transform(df[columnas_categoricas])\n",
    "    # ohe\n",
    "    encoder = OneHotEncoder(handle_unknown = 'ignore', sparse = False).fit(df_imputed)\n",
    "    df_ohe = encoder.transform(df_imputed)\n",
    "    # add names\n",
    "    columnas_nombres = encoder.get_feature_names()\n",
    "    df_nombres = pd.DataFrame(df_ohe, columns = columnas_nombres).reset_index(drop = True)\n",
    "    # gather results\n",
    "    df_salida = pd.concat([dataframe.drop(columns = columnas_categoricas), df_nombres], axis = 1)\n",
    "    #\n",
    "    return df_salida"
   ]
  },
  {
   "cell_type": "code",
   "execution_count": 11,
   "metadata": {},
   "outputs": [],
   "source": [
    "# feature_engineeric_categoric(df, columnas_categoricas)"
   ]
  },
  {
   "cell_type": "code",
   "execution_count": 12,
   "metadata": {},
   "outputs": [],
   "source": [
    "def feature_engineer(dataframe, columnas_numericas, columnas_categoricas):\n",
    "    df_numeric   = feature_engineer_numeric(dataframe,    columnas_numericas)\n",
    "    df_categoric = feature_engineer_categoric(df_numeric, columnas_categoricas)\n",
    "    # salida\n",
    "    return df_categoric"
   ]
  },
  {
   "cell_type": "code",
   "execution_count": 15,
   "metadata": {},
   "outputs": [],
   "source": [
    "predictores_transformed = feature_engineer(predictores, columnas_numericas, columnas_categoricas)"
   ]
  },
  {
   "cell_type": "code",
   "execution_count": 44,
   "metadata": {},
   "outputs": [],
   "source": [
    "def ohe_objetivo(dataframe):\n",
    "    df = dataframe.copy()\n",
    "    # \n",
    "    encoder = OneHotEncoder(handle_unknown = 'ignore', sparse = False).fit(df)\n",
    "    df_ohe  = encoder.transform(df)\n",
    "    # format\n",
    "    columnas_nombres = encoder.get_feature_names()\n",
    "    df_nombres       = pd.DataFrame(df_ohe, columns = columnas_nombres).reset_index(drop = True)\n",
    "    # salida\n",
    "    return df_nombres"
   ]
  },
  {
   "cell_type": "code",
   "execution_count": 46,
   "metadata": {},
   "outputs": [],
   "source": [
    "objetivo_transformed = ohe_objetivo(objetivo)\n",
    "# OneHotEncoder(handle_unknown = 'ignore', sparse = False).fit(objetivo).transform(objetivo)"
   ]
  },
  {
   "source": [
    "## Modelado\n",
    "\n",
    "Para facilitarnos el trabajo, crearé un pipeline"
   ],
   "cell_type": "markdown",
   "metadata": {}
  },
  {
   "cell_type": "code",
   "execution_count": 58,
   "metadata": {},
   "outputs": [
    {
     "output_type": "execute_result",
     "data": {
      "text/plain": [
       "array([0.58823529, 0.6875    , 0.1875    , 0.25      , 0.1875    ])"
      ]
     },
     "metadata": {},
     "execution_count": 58
    }
   ],
   "source": [
    "# puercamente un tree\n",
    "from sklearn.metrics import roc_auc_score\n",
    "# predictores_transformed\n",
    "# instancing\n",
    "modelo = DecisionTreeClassifier(random_state = 0)\n",
    "#\n",
    "cross_val_score(modelo, predictores_transformed, objetivo_transformed, cv = 5)"
   ]
  },
  {
   "cell_type": "code",
   "execution_count": 64,
   "metadata": {},
   "outputs": [
    {
     "output_type": "stream",
     "name": "stdout",
     "text": [
      "0.34338235294117647 {'criterion': 'entropy', 'max_depth': 6, 'min_samples_leaf': 1}\n"
     ]
    }
   ],
   "source": [
    "# grid search \n",
    "from sklearn.model_selection import GridSearchCV\n",
    "\n",
    "parameters = {'max_depth': [2, 4, 6, 8], 'criterion': ['gini', 'entropy'], 'min_samples_leaf': [1, 2]}\n",
    "#  {'kernel':('linear', 'rbf'), 'C':[1, 10]}\n",
    "modelo = GridSearchCV(DecisionTreeClassifier(), parameters, n_jobs = 6)\n",
    "modelo.fit(X = predictores_transformed, y = objetivo_transformed)\n",
    "modelo_mejor = modelo.best_estimator_\n",
    "print (modelo.best_score_, modelo.best_params_) "
   ]
  },
  {
   "cell_type": "code",
   "execution_count": null,
   "metadata": {},
   "outputs": [],
   "source": []
  },
  {
   "cell_type": "code",
   "execution_count": null,
   "metadata": {},
   "outputs": [],
   "source": []
  },
  {
   "cell_type": "code",
   "execution_count": null,
   "metadata": {},
   "outputs": [],
   "source": [
    "df[columnas_categoricas]\n",
    "df[columnas_numericas]"
   ]
  },
  {
   "cell_type": "code",
   "execution_count": 52,
   "metadata": {},
   "outputs": [
    {
     "output_type": "execute_result",
     "data": {
      "text/plain": [
       "array(['marca', 'peso', 'camara_trasera', 'camara_frontal', 'procesador',\n",
       "       'ram', 'memoria', 'sistema_operativo', 'precio', 'tecnologia'],\n",
       "      dtype=object)"
      ]
     },
     "metadata": {},
     "execution_count": 52
    }
   ],
   "source": []
  },
  {
   "cell_type": "code",
   "execution_count": 37,
   "metadata": {},
   "outputs": [
    {
     "output_type": "execute_result",
     "data": {
      "text/plain": [
       "       marca procesador sistema_operativo tecnologia   peso  camara_trasera  \\\n",
       "0    samsung   qualcomm           android         5g  0.282              12   \n",
       "1      apple      apple               ios      4glte  0.272              12   \n",
       "2      apple      apple               ios      4glte  0.252              12   \n",
       "3    samsung   qualcomm           android         4g  0.302              12   \n",
       "4    samsung   qualcomm           android      4glte  0.183              12   \n",
       "..       ...        ...               ...        ...    ...             ...   \n",
       "76  motorola   qualcomm           android      4glte  0.149              13   \n",
       "77  motorola   qualcomm           android      4glte  0.190              13   \n",
       "78  motorola   mediatek           android      4glte  0.149              13   \n",
       "79    huawei   mediatek           android      4glte  0.176              13   \n",
       "80  motorola   qualcomm           android      4glte  0.190              13   \n",
       "\n",
       "    camara_frontal  ram  memoria  precio       producto_nombre  \n",
       "0               10   12      256   46799        galaxy z fold2  \n",
       "1               12    4      512   33999     iphone 11 pro max  \n",
       "2               12    4      512   31279         iphone 11 pro  \n",
       "3               10    8      256   30599  galaxy note 20 ultra  \n",
       "4               10    8      256   29699         galaxy z flip  \n",
       "..             ...  ...      ...     ...                   ...  \n",
       "76               8    2       32    2990          moto e6 plus  \n",
       "77               8    1       16    2499          moto e6 play  \n",
       "78               8    2       32    2990          moto e6 plus  \n",
       "79               8    2       32    3299              honor 8a  \n",
       "80               5    1       16    2499          moto e6 play  \n",
       "\n",
       "[81 rows x 11 columns]"
      ],
      "text/html": "<div>\n<style scoped>\n    .dataframe tbody tr th:only-of-type {\n        vertical-align: middle;\n    }\n\n    .dataframe tbody tr th {\n        vertical-align: top;\n    }\n\n    .dataframe thead th {\n        text-align: right;\n    }\n</style>\n<table border=\"1\" class=\"dataframe\">\n  <thead>\n    <tr style=\"text-align: right;\">\n      <th></th>\n      <th>marca</th>\n      <th>procesador</th>\n      <th>sistema_operativo</th>\n      <th>tecnologia</th>\n      <th>peso</th>\n      <th>camara_trasera</th>\n      <th>camara_frontal</th>\n      <th>ram</th>\n      <th>memoria</th>\n      <th>precio</th>\n      <th>producto_nombre</th>\n    </tr>\n  </thead>\n  <tbody>\n    <tr>\n      <th>0</th>\n      <td>samsung</td>\n      <td>qualcomm</td>\n      <td>android</td>\n      <td>5g</td>\n      <td>0.282</td>\n      <td>12</td>\n      <td>10</td>\n      <td>12</td>\n      <td>256</td>\n      <td>46799</td>\n      <td>galaxy z fold2</td>\n    </tr>\n    <tr>\n      <th>1</th>\n      <td>apple</td>\n      <td>apple</td>\n      <td>ios</td>\n      <td>4glte</td>\n      <td>0.272</td>\n      <td>12</td>\n      <td>12</td>\n      <td>4</td>\n      <td>512</td>\n      <td>33999</td>\n      <td>iphone 11 pro max</td>\n    </tr>\n    <tr>\n      <th>2</th>\n      <td>apple</td>\n      <td>apple</td>\n      <td>ios</td>\n      <td>4glte</td>\n      <td>0.252</td>\n      <td>12</td>\n      <td>12</td>\n      <td>4</td>\n      <td>512</td>\n      <td>31279</td>\n      <td>iphone 11 pro</td>\n    </tr>\n    <tr>\n      <th>3</th>\n      <td>samsung</td>\n      <td>qualcomm</td>\n      <td>android</td>\n      <td>4g</td>\n      <td>0.302</td>\n      <td>12</td>\n      <td>10</td>\n      <td>8</td>\n      <td>256</td>\n      <td>30599</td>\n      <td>galaxy note 20 ultra</td>\n    </tr>\n    <tr>\n      <th>4</th>\n      <td>samsung</td>\n      <td>qualcomm</td>\n      <td>android</td>\n      <td>4glte</td>\n      <td>0.183</td>\n      <td>12</td>\n      <td>10</td>\n      <td>8</td>\n      <td>256</td>\n      <td>29699</td>\n      <td>galaxy z flip</td>\n    </tr>\n    <tr>\n      <th>...</th>\n      <td>...</td>\n      <td>...</td>\n      <td>...</td>\n      <td>...</td>\n      <td>...</td>\n      <td>...</td>\n      <td>...</td>\n      <td>...</td>\n      <td>...</td>\n      <td>...</td>\n      <td>...</td>\n    </tr>\n    <tr>\n      <th>76</th>\n      <td>motorola</td>\n      <td>qualcomm</td>\n      <td>android</td>\n      <td>4glte</td>\n      <td>0.149</td>\n      <td>13</td>\n      <td>8</td>\n      <td>2</td>\n      <td>32</td>\n      <td>2990</td>\n      <td>moto e6 plus</td>\n    </tr>\n    <tr>\n      <th>77</th>\n      <td>motorola</td>\n      <td>qualcomm</td>\n      <td>android</td>\n      <td>4glte</td>\n      <td>0.190</td>\n      <td>13</td>\n      <td>8</td>\n      <td>1</td>\n      <td>16</td>\n      <td>2499</td>\n      <td>moto e6 play</td>\n    </tr>\n    <tr>\n      <th>78</th>\n      <td>motorola</td>\n      <td>mediatek</td>\n      <td>android</td>\n      <td>4glte</td>\n      <td>0.149</td>\n      <td>13</td>\n      <td>8</td>\n      <td>2</td>\n      <td>32</td>\n      <td>2990</td>\n      <td>moto e6 plus</td>\n    </tr>\n    <tr>\n      <th>79</th>\n      <td>huawei</td>\n      <td>mediatek</td>\n      <td>android</td>\n      <td>4glte</td>\n      <td>0.176</td>\n      <td>13</td>\n      <td>8</td>\n      <td>2</td>\n      <td>32</td>\n      <td>3299</td>\n      <td>honor 8a</td>\n    </tr>\n    <tr>\n      <th>80</th>\n      <td>motorola</td>\n      <td>qualcomm</td>\n      <td>android</td>\n      <td>4glte</td>\n      <td>0.190</td>\n      <td>13</td>\n      <td>5</td>\n      <td>1</td>\n      <td>16</td>\n      <td>2499</td>\n      <td>moto e6 play</td>\n    </tr>\n  </tbody>\n</table>\n<p>81 rows × 11 columns</p>\n</div>"
     },
     "metadata": {},
     "execution_count": 37
    }
   ],
   "source": [
    "df"
   ]
  },
  {
   "cell_type": "code",
   "execution_count": null,
   "metadata": {},
   "outputs": [],
   "source": []
  }
 ]
}