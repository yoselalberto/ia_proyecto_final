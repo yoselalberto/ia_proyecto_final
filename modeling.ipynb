{
 "metadata": {
  "orig_nbformat": 2,
  "kernelspec": {
   "name": "python3",
   "display_name": "Python 3",
   "language": "python"
  }
 },
 "nbformat": 4,
 "nbformat_minor": 2,
 "cells": [
  {
   "source": [
    "# Modelado\n",
    "Aquí modelaremos"
   ],
   "cell_type": "markdown",
   "metadata": {}
  },
  {
   "cell_type": "code",
   "execution_count": 1,
   "metadata": {},
   "outputs": [],
   "source": [
    "# dependencies\n",
    "import numpy  as np\n",
    "import pandas as pd\n",
    "from   sklearn.impute          import SimpleImputer\n",
    "from   sklearn.preprocessing   import OneHotEncoder, StandardScaler\n",
    "from   sklearn.pipeline        import Pipeline\n",
    "from   sklearn.tree            import DecisionTreeClassifier\n",
    "from   sklearn.model_selection import cross_val_score"
   ]
  },
  {
   "cell_type": "code",
   "execution_count": 2,
   "metadata": {},
   "outputs": [],
   "source": [
    "# data\n",
    "path = 'work/data/processed/celulares_procesasdos.csv'"
   ]
  },
  {
   "cell_type": "code",
   "execution_count": 3,
   "metadata": {},
   "outputs": [],
   "source": [
    "# loading\n",
    "df_inicio = pd.read_csv(path)"
   ]
  },
  {
   "cell_type": "code",
   "execution_count": 4,
   "metadata": {},
   "outputs": [],
   "source": [
    "# variables globales\n",
    "# estas columnas serán ignoradas durante el modelado\n",
    "columnas_ignorar     = {'color', 'pantalla'}\n",
    "# variable objetivo\n",
    "columna_objetivo     = 'producto_nombre'\n",
    "# columnas categoricas\n",
    "columnas_categoricas = ['marca', 'procesador', 'sistema_operativo', 'tecnologia']\n",
    "# columnas numericas\n",
    "columnas_numericas   = ['peso', 'camara_trasera', 'camara_frontal', 'ram', 'memoria', 'precio']\n",
    "# variables predictoras\n",
    "columnas_predictoras = columnas_numericas + columnas_categoricas"
   ]
  },
  {
   "cell_type": "code",
   "execution_count": 5,
   "metadata": {},
   "outputs": [],
   "source": [
    "# elimino columnas, duplicados, y reordeno las columnas\n",
    "df = df_inicio.drop(columns = columnas_ignorar).drop_duplicates().reset_index(drop = True)[columnas_predictoras + [columna_objetivo]]"
   ]
  },
  {
   "cell_type": "code",
   "execution_count": 7,
   "metadata": {},
   "outputs": [
    {
     "output_type": "execute_result",
     "data": {
      "text/plain": [
       "     peso  camara_trasera  camara_frontal  ram  memoria  precio     marca  \\\n",
       "0   0.282              12              10   12      256   46799   samsung   \n",
       "1   0.272              12              12    4      512   33999     apple   \n",
       "2   0.252              12              12    4      512   31279     apple   \n",
       "3   0.302              12              10    8      256   30599   samsung   \n",
       "4   0.183              12              10    8      256   29699   samsung   \n",
       "..    ...             ...             ...  ...      ...     ...       ...   \n",
       "76  0.149              13               8    2       32    2990  motorola   \n",
       "77  0.190              13               8    1       16    2499  motorola   \n",
       "78  0.149              13               8    2       32    2990  motorola   \n",
       "79  0.176              13               8    2       32    3299    huawei   \n",
       "80  0.190              13               5    1       16    2499  motorola   \n",
       "\n",
       "   procesador sistema_operativo tecnologia       producto_nombre  \n",
       "0    qualcomm           android         5g        galaxy z fold2  \n",
       "1       apple               ios      4glte     iphone 11 pro max  \n",
       "2       apple               ios      4glte         iphone 11 pro  \n",
       "3    qualcomm           android         4g  galaxy note 20 ultra  \n",
       "4    qualcomm           android      4glte         galaxy z flip  \n",
       "..        ...               ...        ...                   ...  \n",
       "76   qualcomm           android      4glte          moto e6 plus  \n",
       "77   qualcomm           android      4glte          moto e6 play  \n",
       "78   mediatek           android      4glte          moto e6 plus  \n",
       "79   mediatek           android      4glte              honor 8a  \n",
       "80   qualcomm           android      4glte          moto e6 play  \n",
       "\n",
       "[81 rows x 11 columns]"
      ],
      "text/html": "<div>\n<style scoped>\n    .dataframe tbody tr th:only-of-type {\n        vertical-align: middle;\n    }\n\n    .dataframe tbody tr th {\n        vertical-align: top;\n    }\n\n    .dataframe thead th {\n        text-align: right;\n    }\n</style>\n<table border=\"1\" class=\"dataframe\">\n  <thead>\n    <tr style=\"text-align: right;\">\n      <th></th>\n      <th>peso</th>\n      <th>camara_trasera</th>\n      <th>camara_frontal</th>\n      <th>ram</th>\n      <th>memoria</th>\n      <th>precio</th>\n      <th>marca</th>\n      <th>procesador</th>\n      <th>sistema_operativo</th>\n      <th>tecnologia</th>\n      <th>producto_nombre</th>\n    </tr>\n  </thead>\n  <tbody>\n    <tr>\n      <th>0</th>\n      <td>0.282</td>\n      <td>12</td>\n      <td>10</td>\n      <td>12</td>\n      <td>256</td>\n      <td>46799</td>\n      <td>samsung</td>\n      <td>qualcomm</td>\n      <td>android</td>\n      <td>5g</td>\n      <td>galaxy z fold2</td>\n    </tr>\n    <tr>\n      <th>1</th>\n      <td>0.272</td>\n      <td>12</td>\n      <td>12</td>\n      <td>4</td>\n      <td>512</td>\n      <td>33999</td>\n      <td>apple</td>\n      <td>apple</td>\n      <td>ios</td>\n      <td>4glte</td>\n      <td>iphone 11 pro max</td>\n    </tr>\n    <tr>\n      <th>2</th>\n      <td>0.252</td>\n      <td>12</td>\n      <td>12</td>\n      <td>4</td>\n      <td>512</td>\n      <td>31279</td>\n      <td>apple</td>\n      <td>apple</td>\n      <td>ios</td>\n      <td>4glte</td>\n      <td>iphone 11 pro</td>\n    </tr>\n    <tr>\n      <th>3</th>\n      <td>0.302</td>\n      <td>12</td>\n      <td>10</td>\n      <td>8</td>\n      <td>256</td>\n      <td>30599</td>\n      <td>samsung</td>\n      <td>qualcomm</td>\n      <td>android</td>\n      <td>4g</td>\n      <td>galaxy note 20 ultra</td>\n    </tr>\n    <tr>\n      <th>4</th>\n      <td>0.183</td>\n      <td>12</td>\n      <td>10</td>\n      <td>8</td>\n      <td>256</td>\n      <td>29699</td>\n      <td>samsung</td>\n      <td>qualcomm</td>\n      <td>android</td>\n      <td>4glte</td>\n      <td>galaxy z flip</td>\n    </tr>\n    <tr>\n      <th>...</th>\n      <td>...</td>\n      <td>...</td>\n      <td>...</td>\n      <td>...</td>\n      <td>...</td>\n      <td>...</td>\n      <td>...</td>\n      <td>...</td>\n      <td>...</td>\n      <td>...</td>\n      <td>...</td>\n    </tr>\n    <tr>\n      <th>76</th>\n      <td>0.149</td>\n      <td>13</td>\n      <td>8</td>\n      <td>2</td>\n      <td>32</td>\n      <td>2990</td>\n      <td>motorola</td>\n      <td>qualcomm</td>\n      <td>android</td>\n      <td>4glte</td>\n      <td>moto e6 plus</td>\n    </tr>\n    <tr>\n      <th>77</th>\n      <td>0.190</td>\n      <td>13</td>\n      <td>8</td>\n      <td>1</td>\n      <td>16</td>\n      <td>2499</td>\n      <td>motorola</td>\n      <td>qualcomm</td>\n      <td>android</td>\n      <td>4glte</td>\n      <td>moto e6 play</td>\n    </tr>\n    <tr>\n      <th>78</th>\n      <td>0.149</td>\n      <td>13</td>\n      <td>8</td>\n      <td>2</td>\n      <td>32</td>\n      <td>2990</td>\n      <td>motorola</td>\n      <td>mediatek</td>\n      <td>android</td>\n      <td>4glte</td>\n      <td>moto e6 plus</td>\n    </tr>\n    <tr>\n      <th>79</th>\n      <td>0.176</td>\n      <td>13</td>\n      <td>8</td>\n      <td>2</td>\n      <td>32</td>\n      <td>3299</td>\n      <td>huawei</td>\n      <td>mediatek</td>\n      <td>android</td>\n      <td>4glte</td>\n      <td>honor 8a</td>\n    </tr>\n    <tr>\n      <th>80</th>\n      <td>0.190</td>\n      <td>13</td>\n      <td>5</td>\n      <td>1</td>\n      <td>16</td>\n      <td>2499</td>\n      <td>motorola</td>\n      <td>qualcomm</td>\n      <td>android</td>\n      <td>4glte</td>\n      <td>moto e6 play</td>\n    </tr>\n  </tbody>\n</table>\n<p>81 rows × 11 columns</p>\n</div>"
     },
     "metadata": {},
     "execution_count": 7
    }
   ],
   "source": [
    "df"
   ]
  },
  {
   "source": [
    "## Train and test split\n",
    "Se ocuparán todos los datos para el modelado, se reportará el cross validation error."
   ],
   "cell_type": "markdown",
   "metadata": {}
  },
  {
   "cell_type": "code",
   "execution_count": 8,
   "metadata": {},
   "outputs": [],
   "source": [
    "predictores = df.drop(columns = columna_objetivo)\n",
    "objetivo    = df[[columna_objetivo]]"
   ]
  },
  {
   "source": [
    "### Llenado de valores faltantes\n",
    "En ambos casos de usará el valor más frecuente: el promedio para las variables númericas, para las variables categoricas la moda."
   ],
   "cell_type": "markdown",
   "metadata": {}
  },
  {
   "cell_type": "code",
   "execution_count": 9,
   "metadata": {},
   "outputs": [],
   "source": [
    "def feature_engineer_numeric(dataframe, columnas_numericas):\n",
    "    df = dataframe.copy()\n",
    "    # imputación\n",
    "    imputador_numeric   = SimpleImputer(missing_values = np.nan, strategy = 'mean').fit(df[columnas_numericas])\n",
    "    df_imputed = imputador_numeric.transform(df[columnas_numericas])    \n",
    "    # estandarización\n",
    "    estandarizador = StandardScaler().fit(df_imputed)\n",
    "    df_standarizado = estandarizador.transform(df_imputed)\n",
    "    # add names\n",
    "    df_nombres = pd.DataFrame(df_standarizado, columns = columnas_numericas).reset_index(drop = True)\n",
    "    df_salida  = pd.concat([df_nombres, dataframe.drop(columns = columnas_numericas)], axis = 1)\n",
    "    #\n",
    "    return df_salida"
   ]
  },
  {
   "cell_type": "code",
   "execution_count": 89,
   "metadata": {},
   "outputs": [],
   "source": []
  },
  {
   "cell_type": "code",
   "execution_count": 90,
   "metadata": {},
   "outputs": [
    {
     "output_type": "execute_result",
     "data": {
      "text/plain": [
       "   peso  camara_trasera  camara_frontal  ram  memoria   precio marca  \\\n",
       "0   0.0             0.0       -1.384117  0.0      0.0 -0.98314         \n",
       "\n",
       "  procesador tecnologia sistema_operativo  \n",
       "0                                 android  "
      ],
      "text/html": "<div>\n<style scoped>\n    .dataframe tbody tr th:only-of-type {\n        vertical-align: middle;\n    }\n\n    .dataframe tbody tr th {\n        vertical-align: top;\n    }\n\n    .dataframe thead th {\n        text-align: right;\n    }\n</style>\n<table border=\"1\" class=\"dataframe\">\n  <thead>\n    <tr style=\"text-align: right;\">\n      <th></th>\n      <th>peso</th>\n      <th>camara_trasera</th>\n      <th>camara_frontal</th>\n      <th>ram</th>\n      <th>memoria</th>\n      <th>precio</th>\n      <th>marca</th>\n      <th>procesador</th>\n      <th>tecnologia</th>\n      <th>sistema_operativo</th>\n    </tr>\n  </thead>\n  <tbody>\n    <tr>\n      <th>0</th>\n      <td>0.0</td>\n      <td>0.0</td>\n      <td>-1.384117</td>\n      <td>0.0</td>\n      <td>0.0</td>\n      <td>-0.98314</td>\n      <td></td>\n      <td></td>\n      <td></td>\n      <td>android</td>\n    </tr>\n  </tbody>\n</table>\n</div>"
     },
     "metadata": {},
     "execution_count": 90
    }
   ],
   "source": []
  },
  {
   "cell_type": "code",
   "execution_count": 10,
   "metadata": {},
   "outputs": [],
   "source": [
    "# feature_engineer_numeric(df, columnas_numericas)\n",
    "# df.drop(columns = columnas_numericas)"
   ]
  },
  {
   "cell_type": "code",
   "execution_count": 13,
   "metadata": {},
   "outputs": [],
   "source": [
    "def feature_engineer_categoric(dataframe, columnas_categoricas):\n",
    "    df = dataframe.copy()\n",
    "    # imputacion\n",
    "    imputador_categoric = SimpleImputer(missing_values = None, strategy = 'most_frequent').fit(df[columnas_categoricas])\n",
    "    df_imputed = imputador_categoric.transform(df[columnas_categoricas])\n",
    "    # ohe\n",
    "    encoder = OneHotEncoder(handle_unknown = 'ignore', sparse = False).fit(df_imputed)\n",
    "    df_ohe = encoder.transform(df_imputed)\n",
    "    # add names\n",
    "    columnas_nombres = encoder.get_feature_names()\n",
    "    df_nombres = pd.DataFrame(df_ohe, columns = columnas_nombres).reset_index(drop = True)\n",
    "    # gather results\n",
    "    df_salida = pd.concat([dataframe.drop(columns = columnas_categoricas), df_nombres], axis = 1)\n",
    "    #\n",
    "    return df_salida"
   ]
  },
  {
   "cell_type": "code",
   "execution_count": 92,
   "metadata": {},
   "outputs": [],
   "source": []
  },
  {
   "cell_type": "code",
   "execution_count": 93,
   "metadata": {},
   "outputs": [
    {
     "output_type": "execute_result",
     "data": {
      "text/plain": [
       "   peso  camara_trasera  ram  memoria  precio  camara_frontal  x0_apple  \\\n",
       "0   NaN             NaN  NaN      NaN    4000               2       0.0   \n",
       "\n",
       "   x0_huawei  x0_motorola  x0_nokia  ...  x1_apple  x1_arm  x1_mediatek  \\\n",
       "0        0.0          0.0       0.0  ...       0.0     0.0          0.0   \n",
       "\n",
       "   x1_qualcomm  x1_samsung  x2_android  x2_ios  x3_4g  x3_4glte  x3_5g  \n",
       "0          0.0         0.0         1.0     0.0    0.0       0.0    0.0  \n",
       "\n",
       "[1 rows x 23 columns]"
      ],
      "text/html": "<div>\n<style scoped>\n    .dataframe tbody tr th:only-of-type {\n        vertical-align: middle;\n    }\n\n    .dataframe tbody tr th {\n        vertical-align: top;\n    }\n\n    .dataframe thead th {\n        text-align: right;\n    }\n</style>\n<table border=\"1\" class=\"dataframe\">\n  <thead>\n    <tr style=\"text-align: right;\">\n      <th></th>\n      <th>peso</th>\n      <th>camara_trasera</th>\n      <th>ram</th>\n      <th>memoria</th>\n      <th>precio</th>\n      <th>camara_frontal</th>\n      <th>x0_apple</th>\n      <th>x0_huawei</th>\n      <th>x0_motorola</th>\n      <th>x0_nokia</th>\n      <th>...</th>\n      <th>x1_apple</th>\n      <th>x1_arm</th>\n      <th>x1_mediatek</th>\n      <th>x1_qualcomm</th>\n      <th>x1_samsung</th>\n      <th>x2_android</th>\n      <th>x2_ios</th>\n      <th>x3_4g</th>\n      <th>x3_4glte</th>\n      <th>x3_5g</th>\n    </tr>\n  </thead>\n  <tbody>\n    <tr>\n      <th>0</th>\n      <td>NaN</td>\n      <td>NaN</td>\n      <td>NaN</td>\n      <td>NaN</td>\n      <td>4000</td>\n      <td>2</td>\n      <td>0.0</td>\n      <td>0.0</td>\n      <td>0.0</td>\n      <td>0.0</td>\n      <td>...</td>\n      <td>0.0</td>\n      <td>0.0</td>\n      <td>0.0</td>\n      <td>0.0</td>\n      <td>0.0</td>\n      <td>1.0</td>\n      <td>0.0</td>\n      <td>0.0</td>\n      <td>0.0</td>\n      <td>0.0</td>\n    </tr>\n  </tbody>\n</table>\n<p>1 rows × 23 columns</p>\n</div>"
     },
     "metadata": {},
     "execution_count": 93
    }
   ],
   "source": []
  },
  {
   "cell_type": "code",
   "execution_count": 14,
   "metadata": {},
   "outputs": [],
   "source": [
    "# feature_engineeric_categoric(df, columnas_categoricas)"
   ]
  },
  {
   "cell_type": "code",
   "execution_count": 15,
   "metadata": {},
   "outputs": [],
   "source": [
    "def feature_engineer(dataframe, columnas_numericas, columnas_categoricas):\n",
    "    df_numeric   = feature_engineer_numeric(dataframe,    columnas_numericas)\n",
    "    df_categoric = feature_engineer_categoric(df_numeric, columnas_categoricas)\n",
    "    # salida\n",
    "    return df_categoric"
   ]
  },
  {
   "cell_type": "code",
   "execution_count": 16,
   "metadata": {},
   "outputs": [],
   "source": [
    "predictores_transformed = feature_engineer(predictores, columnas_numericas, columnas_categoricas)"
   ]
  },
  {
   "cell_type": "code",
   "execution_count": 31,
   "metadata": {},
   "outputs": [],
   "source": [
    "def ohe_objetivo(dataframe):\n",
    "    df = dataframe.copy()\n",
    "    # \n",
    "    encoder = OneHotEncoder(handle_unknown = 'error', sparse = False).fit(df)\n",
    "    df_ohe  = encoder.transform(df)\n",
    "    # format\n",
    "    columnas_nombres = encoder.get_feature_names()\n",
    "    df_nombres       = pd.DataFrame(df_ohe, columns = columnas_nombres).reset_index(drop = True)\n",
    "    # salida\n",
    "    return df_nombres, encoder"
   ]
  },
  {
   "cell_type": "code",
   "execution_count": 32,
   "metadata": {},
   "outputs": [],
   "source": [
    "(objetivo_transformed, encoder_objetivo) = ohe_objetivo(objetivo)\n",
    "# OneHotEncoder(handle_unknown = 'ignore', sparse = False).fit(objetivo).transform(objetivo)"
   ]
  },
  {
   "source": [
    "## Modelado\n",
    "\n",
    "Para facilitarnos el trabajo, crearé un pipeline"
   ],
   "cell_type": "markdown",
   "metadata": {}
  },
  {
   "cell_type": "code",
   "execution_count": 58,
   "metadata": {},
   "outputs": [
    {
     "output_type": "execute_result",
     "data": {
      "text/plain": [
       "array([0.58823529, 0.6875    , 0.1875    , 0.25      , 0.1875    ])"
      ]
     },
     "metadata": {},
     "execution_count": 58
    }
   ],
   "source": [
    "# puercamente un DecisionTreeClasifier\n",
    "from sklearn.metrics import roc_auc_score\n",
    "# predictores_transformed\n",
    "modelo = DecisionTreeClassifier(random_state = 0)\n",
    "#\n",
    "cross_val_score(modelo, predictores_transformed, objetivo_transformed, cv = 5)"
   ]
  },
  {
   "cell_type": "code",
   "execution_count": 121,
   "metadata": {},
   "outputs": [
    {
     "output_type": "stream",
     "name": "stdout",
     "text": [
      "0.12132352941176472 {'criterion': 'gini', 'max_depth': 4, 'min_samples_leaf': 3}\n"
     ]
    }
   ],
   "source": [
    "# grid search \n",
    "from sklearn.model_selection import GridSearchCV\n",
    "from sklearn.metrics import make_scorer, accuracy_score, f1_score, hamming_loss, log_loss\n",
    "#\n",
    "scorer_accuracy = make_scorer(accuracy_score)\n",
    "scorer_f1       = make_scorer(f1_score, average = 'micro')\n",
    "#\n",
    "parameters = {'max_depth': [2, 4, 6], 'criterion': ['gini', 'entropy'], 'min_samples_leaf': [1, 2, 3, 4]}\n",
    "#  {'kernel':('linear', 'rbf'), 'C':[1, 10]}\n",
    "modelo = GridSearchCV(DecisionTreeClassifier(random_state = 59), parameters, n_jobs = 6, scoring = scorer_f1, cv = 3)\n",
    "modelo.fit(X = predictores_transformed, y = objetivo_transformed)\n",
    "modelo_mejor = modelo.best_estimator_\n",
    "print (modelo.best_score_, modelo.best_params_) "
   ]
  },
  {
   "cell_type": "code",
   "execution_count": 122,
   "metadata": {},
   "outputs": [],
   "source": [
    "# modelo_mejor.predict(predictores_transformed)"
   ]
  },
  {
   "cell_type": "code",
   "execution_count": 22,
   "metadata": {},
   "outputs": [
    {
     "output_type": "stream",
     "name": "stdout",
     "text": [
      "0.16666666666666669 {'criterion': 'entropy', 'max_depth': 6, 'min_samples_leaf': 1, 'n_estimators': 20}\n"
     ]
    }
   ],
   "source": [
    "# grid search \n",
    "from sklearn.model_selection import GridSearchCV\n",
    "from sklearn.ensemble        import RandomForestClassifier\n",
    "from sklearn.metrics         import make_scorer, accuracy_score, f1_score\n",
    "#\n",
    "scorer_accuracy = make_scorer(accuracy_score)\n",
    "scorer_f1       = make_scorer(f1_score, average = 'micro')\n",
    "#\n",
    "parameters = {'max_depth': [2, 4, 6], 'criterion': ['gini', 'entropy'], 'min_samples_leaf': [1, 2, 3, 4], 'n_estimators': [5, 10, 20]}\n",
    "# \n",
    "modelo = GridSearchCV(RandomForestClassifier(max_samples = 0.75, random_state = 59, oob_score = True, max_features = 4), parameters, n_jobs = 6, scoring = scorer_f1, cv = 4)\n",
    "modelo.fit(X = predictores_transformed, y = objetivo_transformed)\n",
    "modelo_mejor = modelo.best_estimator_\n",
    "print (modelo.best_score_, modelo.best_params_) "
   ]
  },
  {
   "cell_type": "code",
   "execution_count": 54,
   "metadata": {},
   "outputs": [],
   "source": [
    "# prediction for all\n",
    "prediction_array = modelo_mejor.predict(predictores_transformed)\n",
    "prediction = encoder_objetivo.inverse_transform(prediction_array)"
   ]
  },
  {
   "cell_type": "code",
   "execution_count": 73,
   "metadata": {},
   "outputs": [
    {
     "output_type": "execute_result",
     "data": {
      "text/plain": [
       "  producto_nombre  peso  camara_trasera  camara_frontal  ram  memoria  precio  \\\n",
       "0       10l t770b  0.26              16              48    6       32    6590   \n",
       "\n",
       "  marca procesador sistema_operativo tecnologia  \n",
       "0   tcl   qualcomm           android         4g  "
      ],
      "text/html": "<div>\n<style scoped>\n    .dataframe tbody tr th:only-of-type {\n        vertical-align: middle;\n    }\n\n    .dataframe tbody tr th {\n        vertical-align: top;\n    }\n\n    .dataframe thead th {\n        text-align: right;\n    }\n</style>\n<table border=\"1\" class=\"dataframe\">\n  <thead>\n    <tr style=\"text-align: right;\">\n      <th></th>\n      <th>producto_nombre</th>\n      <th>peso</th>\n      <th>camara_trasera</th>\n      <th>camara_frontal</th>\n      <th>ram</th>\n      <th>memoria</th>\n      <th>precio</th>\n      <th>marca</th>\n      <th>procesador</th>\n      <th>sistema_operativo</th>\n      <th>tecnologia</th>\n    </tr>\n  </thead>\n  <tbody>\n    <tr>\n      <th>0</th>\n      <td>10l t770b</td>\n      <td>0.26</td>\n      <td>16</td>\n      <td>48</td>\n      <td>6</td>\n      <td>32</td>\n      <td>6590</td>\n      <td>tcl</td>\n      <td>qualcomm</td>\n      <td>android</td>\n      <td>4g</td>\n    </tr>\n  </tbody>\n</table>\n</div>"
     },
     "metadata": {},
     "execution_count": 73
    }
   ],
   "source": [
    "# prediction for individual example\n",
    "ejemplo_predictores = predictores_transformed.head(1)\n",
    "ejemplo_prediccion  = modelo_mejor.predict(ejemplo_predictores)\n",
    "ejemplo_prediccion  = encoder_objetivo.inverse_transform(ejemplo_prediccion)\n",
    "pd.DataFrame({'producto_nombre': ejemplo_prediccion[0]}).merge(df, on = 'producto_nombre', how = 'inner')"
   ]
  },
  {
   "cell_type": "code",
   "execution_count": 87,
   "metadata": {},
   "outputs": [
    {
     "output_type": "stream",
     "name": "stdout",
     "text": [
      "   peso  camara_trasera  camara_frontal  ram  memoria  precio marca  \\\n0   NaN             NaN             NaN  NaN      NaN     NaN         \n\n  procesador sistema_operativo tecnologia  \n0                                          \n"
     ]
    },
    {
     "output_type": "execute_result",
     "data": {
      "text/plain": [
       "   peso  camara_trasera  ram  memoria marca procesador tecnologia  precio  \\\n",
       "0   NaN             NaN  NaN      NaN                                4000   \n",
       "\n",
       "  sistema_operativo  camara_frontal  \n",
       "0           android               2  "
      ],
      "text/html": "<div>\n<style scoped>\n    .dataframe tbody tr th:only-of-type {\n        vertical-align: middle;\n    }\n\n    .dataframe tbody tr th {\n        vertical-align: top;\n    }\n\n    .dataframe thead th {\n        text-align: right;\n    }\n</style>\n<table border=\"1\" class=\"dataframe\">\n  <thead>\n    <tr style=\"text-align: right;\">\n      <th></th>\n      <th>peso</th>\n      <th>camara_trasera</th>\n      <th>ram</th>\n      <th>memoria</th>\n      <th>marca</th>\n      <th>procesador</th>\n      <th>tecnologia</th>\n      <th>precio</th>\n      <th>sistema_operativo</th>\n      <th>camara_frontal</th>\n    </tr>\n  </thead>\n  <tbody>\n    <tr>\n      <th>0</th>\n      <td>NaN</td>\n      <td>NaN</td>\n      <td>NaN</td>\n      <td>NaN</td>\n      <td></td>\n      <td></td>\n      <td></td>\n      <td>4000</td>\n      <td>android</td>\n      <td>2</td>\n    </tr>\n  </tbody>\n</table>\n</div>"
     },
     "metadata": {},
     "execution_count": 87
    }
   ],
   "source": [
    "# prediction using incomplete information\n",
    "example_partial = pd.DataFrame({'precio': 4000, 'sistema_operativo': 'android', 'camara_frontal': 2}, index = [0])\n",
    "# add missing columns\n",
    "# empty dataframe\n",
    "df_empty = pd.DataFrame([[np.nan, np.nan, np.nan, np.nan, np.nan, np.nan, '', '', '', '']], columns = columnas_predictoras)\n",
    "# substituyo valores\n",
    "print(df_empty) \n",
    "df_example_partial = pd.concat([df_empty.drop(columns = example_partial.columns), example_partial], axis = 1)\n",
    "df_example_partial"
   ]
  },
  {
   "source": [
    "## Preparación ejemplos nuevos\n",
    "\n",
    "Aquí transformamos la entrada del usuario."
   ],
   "cell_type": "markdown",
   "metadata": {}
  },
  {
   "cell_type": "code",
   "execution_count": 94,
   "metadata": {},
   "outputs": [],
   "source": [
    "# feature engineer for incomplete data\n",
    "def feature_engineer_numeric_new_data(dataframe_parcial, dataframe_completo, columnas_numericas):\n",
    "    df_completo = dataframe_completo.copy()\n",
    "    df_parcial = dataframe_parcial.copy()\n",
    "    ##  transformations\n",
    "    # imputacion\n",
    "    imputador_numeric = SimpleImputer(missing_values = np.nan, strategy = 'mean').fit(df_completo[columnas_numericas])\n",
    "    df_imputed        = imputador_numeric.transform(df_parcial[columnas_numericas])\n",
    "    # estandarizado\n",
    "    estandarizador  = StandardScaler().fit(df_completo[columnas_numericas])\n",
    "    df_standarizado = estandarizador.transform(df_imputed)\n",
    "    # add names\n",
    "    df_nombres = pd.DataFrame(df_standarizado, columns = columnas_numericas).reset_index(drop = True)\n",
    "    df_salida  = pd.concat([df_nombres, df_parcial.drop(columns = columnas_numericas)], axis = 1)\n",
    "    # \n",
    "    return df_salida\n",
    "# feature_engineer_numeric_new_data(df_example_partial, predictores, columnas_numericas)"
   ]
  },
  {
   "cell_type": "code",
   "execution_count": 95,
   "metadata": {},
   "outputs": [],
   "source": [
    "# ingenieria de variables para las variables categoricas de los ejemplos nuevos\n",
    "def feature_engineer_categoric_new_data(dataframe_parcial, dataframe_completo, columnas_categoricas):\n",
    "    df_completo = dataframe_completo.copy()\n",
    "    df_parcial  = dataframe_parcial.copy()\n",
    "    # imputacion\n",
    "    imputador_categoric = SimpleImputer(missing_values = None, strategy = 'most_frequent').fit(df_completo[columnas_categoricas])\n",
    "    df_imputed = imputador_categoric.transform(df_parcial[columnas_categoricas])\n",
    "    # ohe\n",
    "    encoder = OneHotEncoder(handle_unknown = 'ignore', sparse = False).fit(df_completo[columnas_categoricas])\n",
    "    df_ohe = encoder.transform(df_imputed)\n",
    "    # add names\n",
    "    columnas_nombres = encoder.get_feature_names()\n",
    "    df_nombres = pd.DataFrame(df_ohe, columns = columnas_nombres).reset_index(drop = True)\n",
    "    # gather results\n",
    "    df_salida = pd.concat([dataframe_parcial.drop(columns = columnas_categoricas), df_nombres], axis = 1)\n",
    "    #\n",
    "    return df_salida\n",
    "# test\n",
    "# feature_engineer_categoric_new_data(df_example_partial, predictores, columnas_categoricas)"
   ]
  },
  {
   "cell_type": "code",
   "execution_count": 99,
   "metadata": {},
   "outputs": [],
   "source": [
    "def feature_engineer_new_data(dataframe_parcial, dataframe_completo, columnas_numericas, columnas_categoricas):\n",
    "    df_completo = dataframe_completo.copy()\n",
    "    df_parcial = dataframe_parcial.copy()\n",
    "    # magic\n",
    "    df_numeric   = feature_engineer_numeric_new_data(df_parcial,   df_completo, columnas_numericas)\n",
    "    df_categoric = feature_engineer_categoric_new_data(df_numeric, df_completo, columnas_categoricas)\n",
    "    # \n",
    "    df_salida = df_categoric\n",
    "    return df_salida"
   ]
  },
  {
   "cell_type": "code",
   "execution_count": 100,
   "metadata": {},
   "outputs": [
    {
     "output_type": "execute_result",
     "data": {
      "text/plain": [
       "   peso  camara_trasera  camara_frontal  ram  memoria   precio  x0_apple  \\\n",
       "0   0.0             0.0       -1.384117  0.0      0.0 -0.98314       0.0   \n",
       "\n",
       "   x0_huawei  x0_motorola  x0_nokia  ...  x1_apple  x1_arm  x1_mediatek  \\\n",
       "0        0.0          0.0       0.0  ...       0.0     0.0          0.0   \n",
       "\n",
       "   x1_qualcomm  x1_samsung  x2_android  x2_ios  x3_4g  x3_4glte  x3_5g  \n",
       "0          0.0         0.0         1.0     0.0    0.0       0.0    0.0  \n",
       "\n",
       "[1 rows x 23 columns]"
      ],
      "text/html": "<div>\n<style scoped>\n    .dataframe tbody tr th:only-of-type {\n        vertical-align: middle;\n    }\n\n    .dataframe tbody tr th {\n        vertical-align: top;\n    }\n\n    .dataframe thead th {\n        text-align: right;\n    }\n</style>\n<table border=\"1\" class=\"dataframe\">\n  <thead>\n    <tr style=\"text-align: right;\">\n      <th></th>\n      <th>peso</th>\n      <th>camara_trasera</th>\n      <th>camara_frontal</th>\n      <th>ram</th>\n      <th>memoria</th>\n      <th>precio</th>\n      <th>x0_apple</th>\n      <th>x0_huawei</th>\n      <th>x0_motorola</th>\n      <th>x0_nokia</th>\n      <th>...</th>\n      <th>x1_apple</th>\n      <th>x1_arm</th>\n      <th>x1_mediatek</th>\n      <th>x1_qualcomm</th>\n      <th>x1_samsung</th>\n      <th>x2_android</th>\n      <th>x2_ios</th>\n      <th>x3_4g</th>\n      <th>x3_4glte</th>\n      <th>x3_5g</th>\n    </tr>\n  </thead>\n  <tbody>\n    <tr>\n      <th>0</th>\n      <td>0.0</td>\n      <td>0.0</td>\n      <td>-1.384117</td>\n      <td>0.0</td>\n      <td>0.0</td>\n      <td>-0.98314</td>\n      <td>0.0</td>\n      <td>0.0</td>\n      <td>0.0</td>\n      <td>0.0</td>\n      <td>...</td>\n      <td>0.0</td>\n      <td>0.0</td>\n      <td>0.0</td>\n      <td>0.0</td>\n      <td>0.0</td>\n      <td>1.0</td>\n      <td>0.0</td>\n      <td>0.0</td>\n      <td>0.0</td>\n      <td>0.0</td>\n    </tr>\n  </tbody>\n</table>\n<p>1 rows × 23 columns</p>\n</div>"
     },
     "metadata": {},
     "execution_count": 100
    }
   ],
   "source": [
    "feature_engineer_new_data(df_example_partial, predictores, columnas_numericas, columnas_categoricas)"
   ]
  },
  {
   "cell_type": "code",
   "execution_count": 160,
   "metadata": {},
   "outputs": [
    {
     "output_type": "execute_result",
     "data": {
      "text/plain": [
       "     peso  camara_trasera  camara_frontal  ram  memoria  precio    marca  \\\n",
       "48  0.260              16              48    6       32    6590      tcl   \n",
       "68  0.110              13               8    3       32    4490  samsung   \n",
       "73  0.110              13               8    3       32    3990  samsung   \n",
       "65  0.110              13               8    3       48    4949  samsung   \n",
       "66  0.185              13               8    4       32    4769  samsung   \n",
       "69  0.185              13               8    4       32    4190  samsung   \n",
       "63  0.185              13               8    4       32    4999  samsung   \n",
       "54  0.192              48              13    4       64    5999  samsung   \n",
       "55  0.188               5              16    4       32    5999  samsung   \n",
       "58  0.188               5              16    4       32    5490  samsung   \n",
       "47  0.185              48              20    4      128    6999  samsung   \n",
       "51  0.185              48              20    4      128    6499  samsung   \n",
       "43  0.215              32              32    4      128    7999  samsung   \n",
       "39  0.179              32              32    6      128    9999  samsung   \n",
       "41  0.179              32              32    6      128    8990  samsung   \n",
       "42  0.179              32              32    6      128    8590  samsung   \n",
       "71  0.179              16              16    3       32    3999  samsung   \n",
       "27  0.312              16              10   12      256   16999  samsung   \n",
       "36  0.199              12              32    6      128   11999  samsung   \n",
       "35  0.199              32              32    6      128   11999  samsung   \n",
       "\n",
       "   procesador sistema_operativo tecnologia      producto_nombre  \n",
       "48   qualcomm           android         4g            10l t770b  \n",
       "68   qualcomm           android      4glte           galaxy a11  \n",
       "73   qualcomm           android      4glte           galaxy a11  \n",
       "65   qualcomm           android      4glte           galaxy a11  \n",
       "66   qualcomm           android      4glte          galaxy a20s  \n",
       "69   qualcomm           android      4glte          galaxy a20s  \n",
       "63   qualcomm           android      4glte          galaxy a20s  \n",
       "54   qualcomm           android      4glte          galaxy a21s  \n",
       "55   qualcomm           android      4glte          galaxy a30s  \n",
       "58   qualcomm           android      4glte          galaxy a30s  \n",
       "47   qualcomm           android      4glte           galaxy a31  \n",
       "51   qualcomm           android      4glte           galaxy a31  \n",
       "43   qualcomm           android      4glte           galaxy a51  \n",
       "39   qualcomm           android      4glte           galaxy a71  \n",
       "41   qualcomm           android      4glte           galaxy a71  \n",
       "42   qualcomm           android      4glte           galaxy a71  \n",
       "71   qualcomm           android      4glte            galaxy j8  \n",
       "27    samsung           android         4g       galaxy note 10  \n",
       "36   qualcomm           android      4glte  galaxy note 10 lite  \n",
       "35   qualcomm           android      4glte  galaxy note 10 lite  "
      ],
      "text/html": "<div>\n<style scoped>\n    .dataframe tbody tr th:only-of-type {\n        vertical-align: middle;\n    }\n\n    .dataframe tbody tr th {\n        vertical-align: top;\n    }\n\n    .dataframe thead th {\n        text-align: right;\n    }\n</style>\n<table border=\"1\" class=\"dataframe\">\n  <thead>\n    <tr style=\"text-align: right;\">\n      <th></th>\n      <th>peso</th>\n      <th>camara_trasera</th>\n      <th>camara_frontal</th>\n      <th>ram</th>\n      <th>memoria</th>\n      <th>precio</th>\n      <th>marca</th>\n      <th>procesador</th>\n      <th>sistema_operativo</th>\n      <th>tecnologia</th>\n      <th>producto_nombre</th>\n    </tr>\n  </thead>\n  <tbody>\n    <tr>\n      <th>48</th>\n      <td>0.260</td>\n      <td>16</td>\n      <td>48</td>\n      <td>6</td>\n      <td>32</td>\n      <td>6590</td>\n      <td>tcl</td>\n      <td>qualcomm</td>\n      <td>android</td>\n      <td>4g</td>\n      <td>10l t770b</td>\n    </tr>\n    <tr>\n      <th>68</th>\n      <td>0.110</td>\n      <td>13</td>\n      <td>8</td>\n      <td>3</td>\n      <td>32</td>\n      <td>4490</td>\n      <td>samsung</td>\n      <td>qualcomm</td>\n      <td>android</td>\n      <td>4glte</td>\n      <td>galaxy a11</td>\n    </tr>\n    <tr>\n      <th>73</th>\n      <td>0.110</td>\n      <td>13</td>\n      <td>8</td>\n      <td>3</td>\n      <td>32</td>\n      <td>3990</td>\n      <td>samsung</td>\n      <td>qualcomm</td>\n      <td>android</td>\n      <td>4glte</td>\n      <td>galaxy a11</td>\n    </tr>\n    <tr>\n      <th>65</th>\n      <td>0.110</td>\n      <td>13</td>\n      <td>8</td>\n      <td>3</td>\n      <td>48</td>\n      <td>4949</td>\n      <td>samsung</td>\n      <td>qualcomm</td>\n      <td>android</td>\n      <td>4glte</td>\n      <td>galaxy a11</td>\n    </tr>\n    <tr>\n      <th>66</th>\n      <td>0.185</td>\n      <td>13</td>\n      <td>8</td>\n      <td>4</td>\n      <td>32</td>\n      <td>4769</td>\n      <td>samsung</td>\n      <td>qualcomm</td>\n      <td>android</td>\n      <td>4glte</td>\n      <td>galaxy a20s</td>\n    </tr>\n    <tr>\n      <th>69</th>\n      <td>0.185</td>\n      <td>13</td>\n      <td>8</td>\n      <td>4</td>\n      <td>32</td>\n      <td>4190</td>\n      <td>samsung</td>\n      <td>qualcomm</td>\n      <td>android</td>\n      <td>4glte</td>\n      <td>galaxy a20s</td>\n    </tr>\n    <tr>\n      <th>63</th>\n      <td>0.185</td>\n      <td>13</td>\n      <td>8</td>\n      <td>4</td>\n      <td>32</td>\n      <td>4999</td>\n      <td>samsung</td>\n      <td>qualcomm</td>\n      <td>android</td>\n      <td>4glte</td>\n      <td>galaxy a20s</td>\n    </tr>\n    <tr>\n      <th>54</th>\n      <td>0.192</td>\n      <td>48</td>\n      <td>13</td>\n      <td>4</td>\n      <td>64</td>\n      <td>5999</td>\n      <td>samsung</td>\n      <td>qualcomm</td>\n      <td>android</td>\n      <td>4glte</td>\n      <td>galaxy a21s</td>\n    </tr>\n    <tr>\n      <th>55</th>\n      <td>0.188</td>\n      <td>5</td>\n      <td>16</td>\n      <td>4</td>\n      <td>32</td>\n      <td>5999</td>\n      <td>samsung</td>\n      <td>qualcomm</td>\n      <td>android</td>\n      <td>4glte</td>\n      <td>galaxy a30s</td>\n    </tr>\n    <tr>\n      <th>58</th>\n      <td>0.188</td>\n      <td>5</td>\n      <td>16</td>\n      <td>4</td>\n      <td>32</td>\n      <td>5490</td>\n      <td>samsung</td>\n      <td>qualcomm</td>\n      <td>android</td>\n      <td>4glte</td>\n      <td>galaxy a30s</td>\n    </tr>\n    <tr>\n      <th>47</th>\n      <td>0.185</td>\n      <td>48</td>\n      <td>20</td>\n      <td>4</td>\n      <td>128</td>\n      <td>6999</td>\n      <td>samsung</td>\n      <td>qualcomm</td>\n      <td>android</td>\n      <td>4glte</td>\n      <td>galaxy a31</td>\n    </tr>\n    <tr>\n      <th>51</th>\n      <td>0.185</td>\n      <td>48</td>\n      <td>20</td>\n      <td>4</td>\n      <td>128</td>\n      <td>6499</td>\n      <td>samsung</td>\n      <td>qualcomm</td>\n      <td>android</td>\n      <td>4glte</td>\n      <td>galaxy a31</td>\n    </tr>\n    <tr>\n      <th>43</th>\n      <td>0.215</td>\n      <td>32</td>\n      <td>32</td>\n      <td>4</td>\n      <td>128</td>\n      <td>7999</td>\n      <td>samsung</td>\n      <td>qualcomm</td>\n      <td>android</td>\n      <td>4glte</td>\n      <td>galaxy a51</td>\n    </tr>\n    <tr>\n      <th>39</th>\n      <td>0.179</td>\n      <td>32</td>\n      <td>32</td>\n      <td>6</td>\n      <td>128</td>\n      <td>9999</td>\n      <td>samsung</td>\n      <td>qualcomm</td>\n      <td>android</td>\n      <td>4glte</td>\n      <td>galaxy a71</td>\n    </tr>\n    <tr>\n      <th>41</th>\n      <td>0.179</td>\n      <td>32</td>\n      <td>32</td>\n      <td>6</td>\n      <td>128</td>\n      <td>8990</td>\n      <td>samsung</td>\n      <td>qualcomm</td>\n      <td>android</td>\n      <td>4glte</td>\n      <td>galaxy a71</td>\n    </tr>\n    <tr>\n      <th>42</th>\n      <td>0.179</td>\n      <td>32</td>\n      <td>32</td>\n      <td>6</td>\n      <td>128</td>\n      <td>8590</td>\n      <td>samsung</td>\n      <td>qualcomm</td>\n      <td>android</td>\n      <td>4glte</td>\n      <td>galaxy a71</td>\n    </tr>\n    <tr>\n      <th>71</th>\n      <td>0.179</td>\n      <td>16</td>\n      <td>16</td>\n      <td>3</td>\n      <td>32</td>\n      <td>3999</td>\n      <td>samsung</td>\n      <td>qualcomm</td>\n      <td>android</td>\n      <td>4glte</td>\n      <td>galaxy j8</td>\n    </tr>\n    <tr>\n      <th>27</th>\n      <td>0.312</td>\n      <td>16</td>\n      <td>10</td>\n      <td>12</td>\n      <td>256</td>\n      <td>16999</td>\n      <td>samsung</td>\n      <td>samsung</td>\n      <td>android</td>\n      <td>4g</td>\n      <td>galaxy note 10</td>\n    </tr>\n    <tr>\n      <th>36</th>\n      <td>0.199</td>\n      <td>12</td>\n      <td>32</td>\n      <td>6</td>\n      <td>128</td>\n      <td>11999</td>\n      <td>samsung</td>\n      <td>qualcomm</td>\n      <td>android</td>\n      <td>4glte</td>\n      <td>galaxy note 10 lite</td>\n    </tr>\n    <tr>\n      <th>35</th>\n      <td>0.199</td>\n      <td>32</td>\n      <td>32</td>\n      <td>6</td>\n      <td>128</td>\n      <td>11999</td>\n      <td>samsung</td>\n      <td>qualcomm</td>\n      <td>android</td>\n      <td>4glte</td>\n      <td>galaxy note 10 lite</td>\n    </tr>\n  </tbody>\n</table>\n</div>"
     },
     "metadata": {},
     "execution_count": 160
    }
   ],
   "source": [
    "df.sort_values(by = 'producto_nombre').head(20)"
   ]
  },
  {
   "cell_type": "code",
   "execution_count": 161,
   "metadata": {},
   "outputs": [
    {
     "output_type": "execute_result",
     "data": {
      "text/plain": [
       "     peso  camara_trasera  camara_frontal  ram  memoria  precio     marca  \\\n",
       "10  0.308              12               7    4      512   24303     apple   \n",
       "40  0.195              48              20    6      128    8999    xiaomi   \n",
       "80  0.190              13               5    1       16    2499  motorola   \n",
       "77  0.190              13               8    1       16    2499  motorola   \n",
       "78  0.149              13               8    2       32    2990  motorola   \n",
       "76  0.149              13               8    2       32    2990  motorola   \n",
       "74  0.188               8              13    2       32    3490  motorola   \n",
       "64  0.188              48              25    4       64    4990  motorola   \n",
       "67  0.188              48              25    4       64    4590  motorola   \n",
       "62  0.188              16              48    4       32    4999  motorola   \n",
       "60  0.200              48              25    4       64    4999  motorola   \n",
       "59  0.230              12              32    4      128    5490  motorola   \n",
       "53  0.198              32              25    4      128    6490  motorola   \n",
       "52  0.270              48              25    4      128    6499  motorola   \n",
       "57  0.270              48              25    4      128    5990  motorola   \n",
       "49  0.240              48              25    4      128    6590  motorola   \n",
       "46  0.240              48              25    4      128    7490  motorola   \n",
       "33  0.190              64              25    6      128   14999  motorola   \n",
       "70  0.169              13               8    3       32    3999     nokia   \n",
       "50  0.199              48              13    4      128    6499    xiaomi   \n",
       "\n",
       "   procesador sistema_operativo tecnologia  producto_nombre  \n",
       "10      apple               ios      4glte    iphone xs max  \n",
       "40   qualcomm           android      4glte            m9 se  \n",
       "80   qualcomm           android      4glte     moto e6 play  \n",
       "77   qualcomm           android      4glte     moto e6 play  \n",
       "78   mediatek           android      4glte     moto e6 plus  \n",
       "76   qualcomm           android      4glte     moto e6 plus  \n",
       "74   mediatek           android      4glte     moto g8 play  \n",
       "64   qualcomm           android      4glte     moto g8 plus  \n",
       "67   qualcomm           android      4glte     moto g8 plus  \n",
       "62   qualcomm           android      4glte    moto g8 power  \n",
       "60   qualcomm           android         4g     moto g9 play  \n",
       "59   qualcomm           android      4glte  moto one action  \n",
       "53   qualcomm           android         4g   moto one hyper  \n",
       "52   qualcomm           android      4glte  moto one vision  \n",
       "57   qualcomm           android      4glte  moto one vision  \n",
       "49   qualcomm           android      4glte    moto one zoom  \n",
       "46   qualcomm           android      4glte    moto one zoom  \n",
       "33   qualcomm           android         4g    motorola edge  \n",
       "70   mediatek           android      4glte   nokia 5.1 plus  \n",
       "50   mediatek           android         4g     redmi note 9  "
      ],
      "text/html": "<div>\n<style scoped>\n    .dataframe tbody tr th:only-of-type {\n        vertical-align: middle;\n    }\n\n    .dataframe tbody tr th {\n        vertical-align: top;\n    }\n\n    .dataframe thead th {\n        text-align: right;\n    }\n</style>\n<table border=\"1\" class=\"dataframe\">\n  <thead>\n    <tr style=\"text-align: right;\">\n      <th></th>\n      <th>peso</th>\n      <th>camara_trasera</th>\n      <th>camara_frontal</th>\n      <th>ram</th>\n      <th>memoria</th>\n      <th>precio</th>\n      <th>marca</th>\n      <th>procesador</th>\n      <th>sistema_operativo</th>\n      <th>tecnologia</th>\n      <th>producto_nombre</th>\n    </tr>\n  </thead>\n  <tbody>\n    <tr>\n      <th>10</th>\n      <td>0.308</td>\n      <td>12</td>\n      <td>7</td>\n      <td>4</td>\n      <td>512</td>\n      <td>24303</td>\n      <td>apple</td>\n      <td>apple</td>\n      <td>ios</td>\n      <td>4glte</td>\n      <td>iphone xs max</td>\n    </tr>\n    <tr>\n      <th>40</th>\n      <td>0.195</td>\n      <td>48</td>\n      <td>20</td>\n      <td>6</td>\n      <td>128</td>\n      <td>8999</td>\n      <td>xiaomi</td>\n      <td>qualcomm</td>\n      <td>android</td>\n      <td>4glte</td>\n      <td>m9 se</td>\n    </tr>\n    <tr>\n      <th>80</th>\n      <td>0.190</td>\n      <td>13</td>\n      <td>5</td>\n      <td>1</td>\n      <td>16</td>\n      <td>2499</td>\n      <td>motorola</td>\n      <td>qualcomm</td>\n      <td>android</td>\n      <td>4glte</td>\n      <td>moto e6 play</td>\n    </tr>\n    <tr>\n      <th>77</th>\n      <td>0.190</td>\n      <td>13</td>\n      <td>8</td>\n      <td>1</td>\n      <td>16</td>\n      <td>2499</td>\n      <td>motorola</td>\n      <td>qualcomm</td>\n      <td>android</td>\n      <td>4glte</td>\n      <td>moto e6 play</td>\n    </tr>\n    <tr>\n      <th>78</th>\n      <td>0.149</td>\n      <td>13</td>\n      <td>8</td>\n      <td>2</td>\n      <td>32</td>\n      <td>2990</td>\n      <td>motorola</td>\n      <td>mediatek</td>\n      <td>android</td>\n      <td>4glte</td>\n      <td>moto e6 plus</td>\n    </tr>\n    <tr>\n      <th>76</th>\n      <td>0.149</td>\n      <td>13</td>\n      <td>8</td>\n      <td>2</td>\n      <td>32</td>\n      <td>2990</td>\n      <td>motorola</td>\n      <td>qualcomm</td>\n      <td>android</td>\n      <td>4glte</td>\n      <td>moto e6 plus</td>\n    </tr>\n    <tr>\n      <th>74</th>\n      <td>0.188</td>\n      <td>8</td>\n      <td>13</td>\n      <td>2</td>\n      <td>32</td>\n      <td>3490</td>\n      <td>motorola</td>\n      <td>mediatek</td>\n      <td>android</td>\n      <td>4glte</td>\n      <td>moto g8 play</td>\n    </tr>\n    <tr>\n      <th>64</th>\n      <td>0.188</td>\n      <td>48</td>\n      <td>25</td>\n      <td>4</td>\n      <td>64</td>\n      <td>4990</td>\n      <td>motorola</td>\n      <td>qualcomm</td>\n      <td>android</td>\n      <td>4glte</td>\n      <td>moto g8 plus</td>\n    </tr>\n    <tr>\n      <th>67</th>\n      <td>0.188</td>\n      <td>48</td>\n      <td>25</td>\n      <td>4</td>\n      <td>64</td>\n      <td>4590</td>\n      <td>motorola</td>\n      <td>qualcomm</td>\n      <td>android</td>\n      <td>4glte</td>\n      <td>moto g8 plus</td>\n    </tr>\n    <tr>\n      <th>62</th>\n      <td>0.188</td>\n      <td>16</td>\n      <td>48</td>\n      <td>4</td>\n      <td>32</td>\n      <td>4999</td>\n      <td>motorola</td>\n      <td>qualcomm</td>\n      <td>android</td>\n      <td>4glte</td>\n      <td>moto g8 power</td>\n    </tr>\n    <tr>\n      <th>60</th>\n      <td>0.200</td>\n      <td>48</td>\n      <td>25</td>\n      <td>4</td>\n      <td>64</td>\n      <td>4999</td>\n      <td>motorola</td>\n      <td>qualcomm</td>\n      <td>android</td>\n      <td>4g</td>\n      <td>moto g9 play</td>\n    </tr>\n    <tr>\n      <th>59</th>\n      <td>0.230</td>\n      <td>12</td>\n      <td>32</td>\n      <td>4</td>\n      <td>128</td>\n      <td>5490</td>\n      <td>motorola</td>\n      <td>qualcomm</td>\n      <td>android</td>\n      <td>4glte</td>\n      <td>moto one action</td>\n    </tr>\n    <tr>\n      <th>53</th>\n      <td>0.198</td>\n      <td>32</td>\n      <td>25</td>\n      <td>4</td>\n      <td>128</td>\n      <td>6490</td>\n      <td>motorola</td>\n      <td>qualcomm</td>\n      <td>android</td>\n      <td>4g</td>\n      <td>moto one hyper</td>\n    </tr>\n    <tr>\n      <th>52</th>\n      <td>0.270</td>\n      <td>48</td>\n      <td>25</td>\n      <td>4</td>\n      <td>128</td>\n      <td>6499</td>\n      <td>motorola</td>\n      <td>qualcomm</td>\n      <td>android</td>\n      <td>4glte</td>\n      <td>moto one vision</td>\n    </tr>\n    <tr>\n      <th>57</th>\n      <td>0.270</td>\n      <td>48</td>\n      <td>25</td>\n      <td>4</td>\n      <td>128</td>\n      <td>5990</td>\n      <td>motorola</td>\n      <td>qualcomm</td>\n      <td>android</td>\n      <td>4glte</td>\n      <td>moto one vision</td>\n    </tr>\n    <tr>\n      <th>49</th>\n      <td>0.240</td>\n      <td>48</td>\n      <td>25</td>\n      <td>4</td>\n      <td>128</td>\n      <td>6590</td>\n      <td>motorola</td>\n      <td>qualcomm</td>\n      <td>android</td>\n      <td>4glte</td>\n      <td>moto one zoom</td>\n    </tr>\n    <tr>\n      <th>46</th>\n      <td>0.240</td>\n      <td>48</td>\n      <td>25</td>\n      <td>4</td>\n      <td>128</td>\n      <td>7490</td>\n      <td>motorola</td>\n      <td>qualcomm</td>\n      <td>android</td>\n      <td>4glte</td>\n      <td>moto one zoom</td>\n    </tr>\n    <tr>\n      <th>33</th>\n      <td>0.190</td>\n      <td>64</td>\n      <td>25</td>\n      <td>6</td>\n      <td>128</td>\n      <td>14999</td>\n      <td>motorola</td>\n      <td>qualcomm</td>\n      <td>android</td>\n      <td>4g</td>\n      <td>motorola edge</td>\n    </tr>\n    <tr>\n      <th>70</th>\n      <td>0.169</td>\n      <td>13</td>\n      <td>8</td>\n      <td>3</td>\n      <td>32</td>\n      <td>3999</td>\n      <td>nokia</td>\n      <td>mediatek</td>\n      <td>android</td>\n      <td>4glte</td>\n      <td>nokia 5.1 plus</td>\n    </tr>\n    <tr>\n      <th>50</th>\n      <td>0.199</td>\n      <td>48</td>\n      <td>13</td>\n      <td>4</td>\n      <td>128</td>\n      <td>6499</td>\n      <td>xiaomi</td>\n      <td>mediatek</td>\n      <td>android</td>\n      <td>4g</td>\n      <td>redmi note 9</td>\n    </tr>\n  </tbody>\n</table>\n</div>"
     },
     "metadata": {},
     "execution_count": 161
    }
   ],
   "source": [
    "df.sort_values(by = 'producto_nombre').tail(20)"
   ]
  },
  {
   "cell_type": "code",
   "execution_count": 133,
   "metadata": {},
   "outputs": [
    {
     "output_type": "execute_result",
     "data": {
      "text/plain": [
       "{'bootstrap': True,\n",
       " 'ccp_alpha': 0.0,\n",
       " 'class_weight': None,\n",
       " 'criterion': 'entropy',\n",
       " 'max_depth': 6,\n",
       " 'max_features': 'auto',\n",
       " 'max_leaf_nodes': None,\n",
       " 'max_samples': 0.75,\n",
       " 'min_impurity_decrease': 0.0,\n",
       " 'min_impurity_split': None,\n",
       " 'min_samples_leaf': 1,\n",
       " 'min_samples_split': 2,\n",
       " 'min_weight_fraction_leaf': 0.0,\n",
       " 'n_estimators': 10,\n",
       " 'n_jobs': None,\n",
       " 'oob_score': True,\n",
       " 'random_state': 59,\n",
       " 'verbose': 0,\n",
       " 'warm_start': False}"
      ]
     },
     "metadata": {},
     "execution_count": 133
    }
   ],
   "source": [
    "modelo_mejor.get_params()"
   ]
  },
  {
   "cell_type": "code",
   "execution_count": 69,
   "metadata": {},
   "outputs": [
    {
     "output_type": "execute_result",
     "data": {
      "text/plain": [
       "     peso  camara_trasera  camara_frontal  ram  memoria  precio     marca  \\\n",
       "0   0.282              12              10   12      256   46799   samsung   \n",
       "1   0.272              12              12    4      512   33999     apple   \n",
       "2   0.252              12              12    4      512   31279     apple   \n",
       "3   0.302              12              10    8      256   30599   samsung   \n",
       "4   0.183              12              10    8      256   29699   samsung   \n",
       "..    ...             ...             ...  ...      ...     ...       ...   \n",
       "76  0.149              13               8    2       32    2990  motorola   \n",
       "77  0.190              13               8    1       16    2499  motorola   \n",
       "78  0.149              13               8    2       32    2990  motorola   \n",
       "79  0.176              13               8    2       32    3299    huawei   \n",
       "80  0.190              13               5    1       16    2499  motorola   \n",
       "\n",
       "   procesador sistema_operativo tecnologia       producto_nombre  \n",
       "0    qualcomm           android         5g        galaxy z fold2  \n",
       "1       apple               ios      4glte     iphone 11 pro max  \n",
       "2       apple               ios      4glte         iphone 11 pro  \n",
       "3    qualcomm           android         4g  galaxy note 20 ultra  \n",
       "4    qualcomm           android      4glte         galaxy z flip  \n",
       "..        ...               ...        ...                   ...  \n",
       "76   qualcomm           android      4glte          moto e6 plus  \n",
       "77   qualcomm           android      4glte          moto e6 play  \n",
       "78   mediatek           android      4glte          moto e6 plus  \n",
       "79   mediatek           android      4glte              honor 8a  \n",
       "80   qualcomm           android      4glte          moto e6 play  \n",
       "\n",
       "[81 rows x 11 columns]"
      ],
      "text/html": "<div>\n<style scoped>\n    .dataframe tbody tr th:only-of-type {\n        vertical-align: middle;\n    }\n\n    .dataframe tbody tr th {\n        vertical-align: top;\n    }\n\n    .dataframe thead th {\n        text-align: right;\n    }\n</style>\n<table border=\"1\" class=\"dataframe\">\n  <thead>\n    <tr style=\"text-align: right;\">\n      <th></th>\n      <th>peso</th>\n      <th>camara_trasera</th>\n      <th>camara_frontal</th>\n      <th>ram</th>\n      <th>memoria</th>\n      <th>precio</th>\n      <th>marca</th>\n      <th>procesador</th>\n      <th>sistema_operativo</th>\n      <th>tecnologia</th>\n      <th>producto_nombre</th>\n    </tr>\n  </thead>\n  <tbody>\n    <tr>\n      <th>0</th>\n      <td>0.282</td>\n      <td>12</td>\n      <td>10</td>\n      <td>12</td>\n      <td>256</td>\n      <td>46799</td>\n      <td>samsung</td>\n      <td>qualcomm</td>\n      <td>android</td>\n      <td>5g</td>\n      <td>galaxy z fold2</td>\n    </tr>\n    <tr>\n      <th>1</th>\n      <td>0.272</td>\n      <td>12</td>\n      <td>12</td>\n      <td>4</td>\n      <td>512</td>\n      <td>33999</td>\n      <td>apple</td>\n      <td>apple</td>\n      <td>ios</td>\n      <td>4glte</td>\n      <td>iphone 11 pro max</td>\n    </tr>\n    <tr>\n      <th>2</th>\n      <td>0.252</td>\n      <td>12</td>\n      <td>12</td>\n      <td>4</td>\n      <td>512</td>\n      <td>31279</td>\n      <td>apple</td>\n      <td>apple</td>\n      <td>ios</td>\n      <td>4glte</td>\n      <td>iphone 11 pro</td>\n    </tr>\n    <tr>\n      <th>3</th>\n      <td>0.302</td>\n      <td>12</td>\n      <td>10</td>\n      <td>8</td>\n      <td>256</td>\n      <td>30599</td>\n      <td>samsung</td>\n      <td>qualcomm</td>\n      <td>android</td>\n      <td>4g</td>\n      <td>galaxy note 20 ultra</td>\n    </tr>\n    <tr>\n      <th>4</th>\n      <td>0.183</td>\n      <td>12</td>\n      <td>10</td>\n      <td>8</td>\n      <td>256</td>\n      <td>29699</td>\n      <td>samsung</td>\n      <td>qualcomm</td>\n      <td>android</td>\n      <td>4glte</td>\n      <td>galaxy z flip</td>\n    </tr>\n    <tr>\n      <th>...</th>\n      <td>...</td>\n      <td>...</td>\n      <td>...</td>\n      <td>...</td>\n      <td>...</td>\n      <td>...</td>\n      <td>...</td>\n      <td>...</td>\n      <td>...</td>\n      <td>...</td>\n      <td>...</td>\n    </tr>\n    <tr>\n      <th>76</th>\n      <td>0.149</td>\n      <td>13</td>\n      <td>8</td>\n      <td>2</td>\n      <td>32</td>\n      <td>2990</td>\n      <td>motorola</td>\n      <td>qualcomm</td>\n      <td>android</td>\n      <td>4glte</td>\n      <td>moto e6 plus</td>\n    </tr>\n    <tr>\n      <th>77</th>\n      <td>0.190</td>\n      <td>13</td>\n      <td>8</td>\n      <td>1</td>\n      <td>16</td>\n      <td>2499</td>\n      <td>motorola</td>\n      <td>qualcomm</td>\n      <td>android</td>\n      <td>4glte</td>\n      <td>moto e6 play</td>\n    </tr>\n    <tr>\n      <th>78</th>\n      <td>0.149</td>\n      <td>13</td>\n      <td>8</td>\n      <td>2</td>\n      <td>32</td>\n      <td>2990</td>\n      <td>motorola</td>\n      <td>mediatek</td>\n      <td>android</td>\n      <td>4glte</td>\n      <td>moto e6 plus</td>\n    </tr>\n    <tr>\n      <th>79</th>\n      <td>0.176</td>\n      <td>13</td>\n      <td>8</td>\n      <td>2</td>\n      <td>32</td>\n      <td>3299</td>\n      <td>huawei</td>\n      <td>mediatek</td>\n      <td>android</td>\n      <td>4glte</td>\n      <td>honor 8a</td>\n    </tr>\n    <tr>\n      <th>80</th>\n      <td>0.190</td>\n      <td>13</td>\n      <td>5</td>\n      <td>1</td>\n      <td>16</td>\n      <td>2499</td>\n      <td>motorola</td>\n      <td>qualcomm</td>\n      <td>android</td>\n      <td>4glte</td>\n      <td>moto e6 play</td>\n    </tr>\n  </tbody>\n</table>\n<p>81 rows × 11 columns</p>\n</div>"
     },
     "metadata": {},
     "execution_count": 69
    }
   ],
   "source": [
    "df"
   ]
  },
  {
   "cell_type": "code",
   "execution_count": 71,
   "metadata": {},
   "outputs": [
    {
     "output_type": "execute_result",
     "data": {
      "text/plain": [
       "    peso  camara_trasera  camara_frontal  ram  memoria  precio    marca  \\\n",
       "0  0.282              12              10   12      256   46799  samsung   \n",
       "\n",
       "  procesador sistema_operativo tecnologia  \n",
       "0   qualcomm           android         5g  "
      ],
      "text/html": "<div>\n<style scoped>\n    .dataframe tbody tr th:only-of-type {\n        vertical-align: middle;\n    }\n\n    .dataframe tbody tr th {\n        vertical-align: top;\n    }\n\n    .dataframe thead th {\n        text-align: right;\n    }\n</style>\n<table border=\"1\" class=\"dataframe\">\n  <thead>\n    <tr style=\"text-align: right;\">\n      <th></th>\n      <th>peso</th>\n      <th>camara_trasera</th>\n      <th>camara_frontal</th>\n      <th>ram</th>\n      <th>memoria</th>\n      <th>precio</th>\n      <th>marca</th>\n      <th>procesador</th>\n      <th>sistema_operativo</th>\n      <th>tecnologia</th>\n    </tr>\n  </thead>\n  <tbody>\n    <tr>\n      <th>0</th>\n      <td>0.282</td>\n      <td>12</td>\n      <td>10</td>\n      <td>12</td>\n      <td>256</td>\n      <td>46799</td>\n      <td>samsung</td>\n      <td>qualcomm</td>\n      <td>android</td>\n      <td>5g</td>\n    </tr>\n  </tbody>\n</table>\n</div>"
     },
     "metadata": {},
     "execution_count": 71
    }
   ],
   "source": [
    "predictores.head(1)"
   ]
  },
  {
   "cell_type": "code",
   "execution_count": null,
   "metadata": {},
   "outputs": [],
   "source": []
  }
 ]
}