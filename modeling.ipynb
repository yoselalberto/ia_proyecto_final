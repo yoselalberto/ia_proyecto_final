{
 "metadata": {
  "orig_nbformat": 2,
  "kernelspec": {
   "name": "python3",
   "display_name": "Python 3",
   "language": "python"
  }
 },
 "nbformat": 4,
 "nbformat_minor": 2,
 "cells": [
  {
   "source": [
    "# Modelado\n",
    "Aquí modelaremos"
   ],
   "cell_type": "markdown",
   "metadata": {}
  },
  {
   "cell_type": "code",
   "execution_count": 27,
   "metadata": {},
   "outputs": [],
   "source": [
    "# dependencies\n",
    "import pandas as pd\n",
    "from   sklearn.preprocessing import OneHotEncoder, StandardScaler"
   ]
  },
  {
   "cell_type": "code",
   "execution_count": 2,
   "metadata": {},
   "outputs": [],
   "source": [
    "# data\n",
    "path = 'work/data/processed/celulares_procesasdos.csv'"
   ]
  },
  {
   "cell_type": "code",
   "execution_count": 3,
   "metadata": {},
   "outputs": [],
   "source": [
    "# loading\n",
    "df_inicio = pd.read_csv(path)"
   ]
  },
  {
   "cell_type": "code",
   "execution_count": 4,
   "metadata": {},
   "outputs": [],
   "source": [
    "# conservo columnas a usar\n",
    "columnas_ignorar = {'color', 'pantalla'}\n",
    "df = df_inicio.drop(columns = columnas_ignorar).drop_duplicates().reset_index(drop = True)"
   ]
  },
  {
   "cell_type": "code",
   "execution_count": 5,
   "metadata": {},
   "outputs": [
    {
     "output_type": "execute_result",
     "data": {
      "text/plain": [
       "       marca       producto_nombre   peso  camara_trasera  camara_frontal  \\\n",
       "0    samsung        galaxy z fold2  0.282              12              10   \n",
       "1      apple     iphone 11 pro max  0.272              12              12   \n",
       "2      apple         iphone 11 pro  0.252              12              12   \n",
       "3    samsung  galaxy note 20 ultra  0.302              12              10   \n",
       "4    samsung         galaxy z flip  0.183              12              10   \n",
       "..       ...                   ...    ...             ...             ...   \n",
       "76  motorola          moto e6 plus  0.149              13               8   \n",
       "77  motorola          moto e6 play  0.190              13               8   \n",
       "78  motorola          moto e6 plus  0.149              13               8   \n",
       "79    huawei              honor 8a  0.176              13               8   \n",
       "80  motorola          moto e6 play  0.190              13               5   \n",
       "\n",
       "   procesador  ram  memoria sistema_operativo  precio tecnologia  \n",
       "0    qualcomm   12      256           android   46799         5g  \n",
       "1       apple    4      512               ios   33999      4glte  \n",
       "2       apple    4      512               ios   31279      4glte  \n",
       "3    qualcomm    8      256           android   30599         4g  \n",
       "4    qualcomm    8      256           android   29699      4glte  \n",
       "..        ...  ...      ...               ...     ...        ...  \n",
       "76   qualcomm    2       32           android    2990      4glte  \n",
       "77   qualcomm    1       16           android    2499      4glte  \n",
       "78   mediatek    2       32           android    2990      4glte  \n",
       "79   mediatek    2       32           android    3299      4glte  \n",
       "80   qualcomm    1       16           android    2499      4glte  \n",
       "\n",
       "[81 rows x 11 columns]"
      ],
      "text/html": "<div>\n<style scoped>\n    .dataframe tbody tr th:only-of-type {\n        vertical-align: middle;\n    }\n\n    .dataframe tbody tr th {\n        vertical-align: top;\n    }\n\n    .dataframe thead th {\n        text-align: right;\n    }\n</style>\n<table border=\"1\" class=\"dataframe\">\n  <thead>\n    <tr style=\"text-align: right;\">\n      <th></th>\n      <th>marca</th>\n      <th>producto_nombre</th>\n      <th>peso</th>\n      <th>camara_trasera</th>\n      <th>camara_frontal</th>\n      <th>procesador</th>\n      <th>ram</th>\n      <th>memoria</th>\n      <th>sistema_operativo</th>\n      <th>precio</th>\n      <th>tecnologia</th>\n    </tr>\n  </thead>\n  <tbody>\n    <tr>\n      <th>0</th>\n      <td>samsung</td>\n      <td>galaxy z fold2</td>\n      <td>0.282</td>\n      <td>12</td>\n      <td>10</td>\n      <td>qualcomm</td>\n      <td>12</td>\n      <td>256</td>\n      <td>android</td>\n      <td>46799</td>\n      <td>5g</td>\n    </tr>\n    <tr>\n      <th>1</th>\n      <td>apple</td>\n      <td>iphone 11 pro max</td>\n      <td>0.272</td>\n      <td>12</td>\n      <td>12</td>\n      <td>apple</td>\n      <td>4</td>\n      <td>512</td>\n      <td>ios</td>\n      <td>33999</td>\n      <td>4glte</td>\n    </tr>\n    <tr>\n      <th>2</th>\n      <td>apple</td>\n      <td>iphone 11 pro</td>\n      <td>0.252</td>\n      <td>12</td>\n      <td>12</td>\n      <td>apple</td>\n      <td>4</td>\n      <td>512</td>\n      <td>ios</td>\n      <td>31279</td>\n      <td>4glte</td>\n    </tr>\n    <tr>\n      <th>3</th>\n      <td>samsung</td>\n      <td>galaxy note 20 ultra</td>\n      <td>0.302</td>\n      <td>12</td>\n      <td>10</td>\n      <td>qualcomm</td>\n      <td>8</td>\n      <td>256</td>\n      <td>android</td>\n      <td>30599</td>\n      <td>4g</td>\n    </tr>\n    <tr>\n      <th>4</th>\n      <td>samsung</td>\n      <td>galaxy z flip</td>\n      <td>0.183</td>\n      <td>12</td>\n      <td>10</td>\n      <td>qualcomm</td>\n      <td>8</td>\n      <td>256</td>\n      <td>android</td>\n      <td>29699</td>\n      <td>4glte</td>\n    </tr>\n    <tr>\n      <th>...</th>\n      <td>...</td>\n      <td>...</td>\n      <td>...</td>\n      <td>...</td>\n      <td>...</td>\n      <td>...</td>\n      <td>...</td>\n      <td>...</td>\n      <td>...</td>\n      <td>...</td>\n      <td>...</td>\n    </tr>\n    <tr>\n      <th>76</th>\n      <td>motorola</td>\n      <td>moto e6 plus</td>\n      <td>0.149</td>\n      <td>13</td>\n      <td>8</td>\n      <td>qualcomm</td>\n      <td>2</td>\n      <td>32</td>\n      <td>android</td>\n      <td>2990</td>\n      <td>4glte</td>\n    </tr>\n    <tr>\n      <th>77</th>\n      <td>motorola</td>\n      <td>moto e6 play</td>\n      <td>0.190</td>\n      <td>13</td>\n      <td>8</td>\n      <td>qualcomm</td>\n      <td>1</td>\n      <td>16</td>\n      <td>android</td>\n      <td>2499</td>\n      <td>4glte</td>\n    </tr>\n    <tr>\n      <th>78</th>\n      <td>motorola</td>\n      <td>moto e6 plus</td>\n      <td>0.149</td>\n      <td>13</td>\n      <td>8</td>\n      <td>mediatek</td>\n      <td>2</td>\n      <td>32</td>\n      <td>android</td>\n      <td>2990</td>\n      <td>4glte</td>\n    </tr>\n    <tr>\n      <th>79</th>\n      <td>huawei</td>\n      <td>honor 8a</td>\n      <td>0.176</td>\n      <td>13</td>\n      <td>8</td>\n      <td>mediatek</td>\n      <td>2</td>\n      <td>32</td>\n      <td>android</td>\n      <td>3299</td>\n      <td>4glte</td>\n    </tr>\n    <tr>\n      <th>80</th>\n      <td>motorola</td>\n      <td>moto e6 play</td>\n      <td>0.190</td>\n      <td>13</td>\n      <td>5</td>\n      <td>qualcomm</td>\n      <td>1</td>\n      <td>16</td>\n      <td>android</td>\n      <td>2499</td>\n      <td>4glte</td>\n    </tr>\n  </tbody>\n</table>\n<p>81 rows × 11 columns</p>\n</div>"
     },
     "metadata": {},
     "execution_count": 5
    }
   ],
   "source": [
    "df"
   ]
  },
  {
   "cell_type": "code",
   "execution_count": 7,
   "metadata": {},
   "outputs": [],
   "source": [
    "# columnas categoricas\n",
    "columnas_categoricas = ['marca', 'procesador', 'sistema_operativo', 'tecnologia']\n",
    "# columnas numericas\n",
    "columnas_numericas = ['peso', 'camara_trasera', 'camara_frontal', 'ram', 'memoria', 'precio']"
   ]
  },
  {
   "cell_type": "code",
   "execution_count": 29,
   "metadata": {},
   "outputs": [
    {
     "output_type": "execute_result",
     "data": {
      "text/plain": [
       "array([[ 0.98322039, -0.58174055, -0.54273998,  3.38558314,  0.93377809,\n",
       "         3.58893158],\n",
       "       [ 0.80725739, -0.58174055, -0.33239578, -0.39042009,  3.10644668,\n",
       "         2.22155124],\n",
       "       [ 0.4553314 , -0.58174055, -0.33239578, -0.39042009,  3.10644668,\n",
       "         1.93098292],\n",
       "       [ 1.33514638, -0.58174055, -0.54273998,  1.49758153,  0.93377809,\n",
       "         1.85834084],\n",
       "       [-0.75881326, -0.58174055, -0.54273998,  1.49758153,  0.93377809,\n",
       "         1.76219691],\n",
       "       [ 0.80725739, -0.58174055, -0.33239578, -0.39042009,  0.93377809,\n",
       "         1.68645685],\n",
       "       [ 1.51110937, -0.58174055, -0.54273998,  1.49758153,  0.93377809,\n",
       "         1.36597709],\n",
       "       [ 0.4553314 , -0.58174055, -0.33239578, -0.39042009,  0.93377809,\n",
       "         1.27720419],\n",
       "       [ 0.4553314 , -0.58174055, -0.33239578, -0.39042009,  0.93377809,\n",
       "         1.2591505 ],\n",
       "       [ 0.4553314 , -0.58174055, -0.33239578, -0.39042009,  0.93377809,\n",
       "         1.2057372 ],\n",
       "       [ 1.44072417, -0.58174055, -0.85825629, -0.39042009,  3.10644668,\n",
       "         1.18576063],\n",
       "       [ 1.51110937, -0.58174055, -0.54273998,  1.49758153,  0.93377809,\n",
       "         1.18533333],\n",
       "       [ 0.4553314 , -0.58174055, -0.33239578, -0.39042009, -0.69572335,\n",
       "         1.13192003],\n",
       "       [ 1.51110937, -0.58174055, -0.54273998,  1.49758153,  0.93377809,\n",
       "         1.04549732],\n",
       "       [ 0.4553314 , -0.58174055, -0.33239578, -0.39042009,  0.93377809,\n",
       "         1.04549732],\n",
       "       [-0.70602436, -0.71714568, -0.54273998,  1.49758153, -0.1525562 ,\n",
       "         0.99304547],\n",
       "       [ 1.44072417, -0.58174055, -0.85825629, -0.39042009,  3.10644668,\n",
       "         0.96612516],\n",
       "       [ 0.4553314 , -0.58174055, -0.33239578, -0.39042009, -0.69572335,\n",
       "         0.95031483],\n",
       "       [ 1.51110937, -0.58174055, -0.54273998,  1.49758153,  0.93377809,\n",
       "         0.83184414],\n",
       "       [ 1.86303536, -0.58174055, -0.54273998,  1.49758153,  0.93377809,\n",
       "         0.72501755],\n",
       "       [-0.70602436, -0.71714568, -0.54273998,  1.49758153,  0.93377809,\n",
       "         0.72501755],\n",
       "       [ 1.51110937, -0.58174055, -0.54273998,  1.49758153,  0.93377809,\n",
       "         0.72501755],\n",
       "       [-0.70602436, -0.71714568, -0.54273998,  1.49758153, -0.1525562 ,\n",
       "         0.72501755],\n",
       "       [ 0.4553314 , -0.58174055, -0.33239578, -0.39042009, -0.69572335,\n",
       "         0.72501755],\n",
       "       [ 1.44072417, -0.58174055, -0.85825629, -0.39042009,  0.93377809,\n",
       "         0.51136437],\n",
       "       [ 1.44072417, -0.58174055, -0.85825629, -0.39042009, -0.69572335,\n",
       "         0.51136437],\n",
       "       [ 1.44072417, -0.58174055, -0.85825629, -0.39042009,  0.93377809,\n",
       "         0.46959518],\n",
       "       [ 1.51110937, -0.3109303 , -0.54273998,  3.38558314,  0.93377809,\n",
       "         0.40549922],\n",
       "       [ 1.44072417, -0.58174055, -0.85825629, -0.39042009,  0.93377809,\n",
       "         0.40453779],\n",
       "       [ 1.44072417, -0.58174055, -0.85825629, -0.39042009, -0.69572335,\n",
       "         0.2977112 ],\n",
       "       [-0.70602436, -0.3109303 , -0.54273998,  1.49758153, -0.1525562 ,\n",
       "         0.2977112 ],\n",
       "       [ 1.29995378, -0.58174055, -0.85825629, -0.39042009, -0.69572335,\n",
       "         0.26192429],\n",
       "       [ 1.63428347, -0.3109303 , -0.54273998,  0.55358072, -0.1525562 ,\n",
       "         0.22389402],\n",
       "       [-0.63563916,  2.9387928 ,  1.03484155,  0.55358072, -0.1525562 ,\n",
       "         0.19184605],\n",
       "       [ 1.29995378, -0.58174055, -0.85825629, -0.39042009, -0.69572335,\n",
       "         0.19088461],\n",
       "       [-0.47727247,  0.77231074,  1.77104627,  0.55358072, -0.1525562 ,\n",
       "        -0.12863372],\n",
       "       [-0.47727247, -0.58174055,  1.77104627,  0.55358072, -0.1525562 ,\n",
       "        -0.12863372],\n",
       "       [-1.33949114, -0.92025338, -0.33239578, -0.39042009,  0.93377809,\n",
       "        -0.17136436],\n",
       "       [-0.24852057, -0.58174055, -0.75308419,  0.55358072, -0.1525562 ,\n",
       "        -0.23642175],\n",
       "       [-0.82919846,  0.77231074,  1.77104627,  0.55358072, -0.1525562 ,\n",
       "        -0.3422869 ],\n",
       "       [-0.54765767,  1.85555177,  0.50898104,  0.55358072, -0.1525562 ,\n",
       "        -0.44911349],\n",
       "       [-0.82919846,  0.77231074,  1.77104627,  0.55358072, -0.1525562 ,\n",
       "        -0.45007493],\n",
       "       [-0.82919846,  0.77231074,  1.77104627,  0.55358072, -0.1525562 ,\n",
       "        -0.49280556],\n",
       "       [-0.19573168,  0.77231074,  1.77104627, -0.39042009, -0.1525562 ,\n",
       "        -0.55594008],\n",
       "       [ 0.12100171,  1.85555177,  1.77104627,  0.55358072, -0.1525562 ,\n",
       "        -0.55594008],\n",
       "       [-0.17813538, -0.04012004, -0.22722368,  0.55358072, -0.1525562 ,\n",
       "        -0.55690152],\n",
       "       [ 0.24417581,  1.85555177,  1.03484155, -0.39042009, -0.1525562 ,\n",
       "        -0.61031481],\n",
       "       [-0.72362066,  1.85555177,  0.50898104, -0.39042009, -0.1525562 ,\n",
       "        -0.66276667],\n",
       "       [ 0.5961018 , -0.3109303 ,  3.4537999 ,  0.55358072, -0.96730693,\n",
       "        -0.70645874],\n",
       "       [ 0.24417581,  1.85555177,  1.03484155, -0.39042009, -0.1525562 ,\n",
       "        -0.70645874],\n",
       "       [-0.47727247,  1.85555177, -0.22722368, -0.39042009, -0.1525562 ,\n",
       "        -0.71617996],\n",
       "       [-0.72362066,  1.85555177,  0.50898104, -0.39042009, -0.1525562 ,\n",
       "        -0.71617996],\n",
       "       [ 0.77206479,  1.85555177,  1.03484155, -0.39042009, -0.1525562 ,\n",
       "        -0.71617996],\n",
       "       [-0.49486877,  0.77231074,  1.03484155, -0.39042009, -0.1525562 ,\n",
       "        -0.7171414 ],\n",
       "       [-0.60044656,  1.85555177, -0.22722368, -0.39042009, -0.69572335,\n",
       "        -0.76959326],\n",
       "       [-0.67083176, -1.0556585 ,  0.08829263, -0.39042009, -0.96730693,\n",
       "        -0.76959326],\n",
       "       [-0.60044656, -0.04012004,  0.08829263,  0.55358072, -0.1525562 ,\n",
       "        -0.76959326],\n",
       "       [ 0.77206479,  1.85555177,  1.03484155, -0.39042009, -0.1525562 ,\n",
       "        -0.77055469],\n",
       "       [-0.67083176, -1.0556585 ,  0.08829263, -0.39042009, -0.96730693,\n",
       "        -0.82396799],\n",
       "       [ 0.06821282, -0.58174055,  1.77104627, -0.39042009, -0.1525562 ,\n",
       "        -0.82396799],\n",
       "       [-0.45967617,  1.85555177,  1.03484155, -0.39042009, -0.69572335,\n",
       "        -0.87641984],\n",
       "       [-0.60044656,  1.85555177, -0.75308419, -0.39042009, -0.1525562 ,\n",
       "        -0.87641984],\n",
       "       [-0.67083176, -0.3109303 ,  3.4537999 , -0.39042009, -0.96730693,\n",
       "        -0.87641984],\n",
       "       [-0.72362066, -0.51403799, -0.75308419, -0.39042009, -0.96730693,\n",
       "        -0.87641984],\n",
       "       [-0.67083176,  1.85555177,  1.03484155, -0.39042009, -0.69572335,\n",
       "        -0.87738128],\n",
       "       [-2.04334312, -0.51403799, -0.75308419, -0.86242049, -0.83151514,\n",
       "        -0.88176117],\n",
       "       [-0.72362066, -0.51403799, -0.75308419, -0.39042009, -0.96730693,\n",
       "        -0.90098996],\n",
       "       [-0.67083176,  1.85555177,  1.03484155, -0.39042009, -0.69572335,\n",
       "        -0.92011192],\n",
       "       [-2.04334312, -0.51403799, -0.75308419, -0.86242049, -0.96730693,\n",
       "        -0.93079458],\n",
       "       [-0.72362066, -0.51403799, -0.75308419, -0.39042009, -0.96730693,\n",
       "        -0.96284255],\n",
       "       [-1.00516145, -0.51403799, -0.75308419, -0.86242049, -0.96730693,\n",
       "        -0.98324643],\n",
       "       [-0.82919846, -0.3109303 ,  0.08829263, -0.86242049, -0.96730693,\n",
       "        -0.98324643],\n",
       "       [-0.88198736, -0.51403799, -0.75308419, -1.33442089, -0.96730693,\n",
       "        -0.98324643],\n",
       "       [-2.04334312, -0.51403799, -0.75308419, -0.86242049, -0.96730693,\n",
       "        -0.98420787],\n",
       "       [-0.67083176, -0.85255081, -0.22722368, -1.33442089, -0.96730693,\n",
       "        -1.03762117],\n",
       "       [-0.88198736, -0.85255081, -0.22722368, -1.33442089, -0.96730693,\n",
       "        -1.05802505],\n",
       "       [-1.35708744, -0.51403799, -0.75308419, -1.33442089, -0.96730693,\n",
       "        -1.09103446],\n",
       "       [-0.63563916, -0.51403799, -0.75308419, -1.80642129, -1.10309871,\n",
       "        -1.14348632],\n",
       "       [-1.35708744, -0.51403799, -0.75308419, -1.33442089, -0.96730693,\n",
       "        -1.09103446],\n",
       "       [-0.88198736, -0.51403799, -0.75308419, -1.33442089, -0.96730693,\n",
       "        -1.05802505],\n",
       "       [-0.63563916, -0.51403799, -1.0686005 , -1.80642129, -1.10309871,\n",
       "        -1.14348632]])"
      ]
     },
     "metadata": {},
     "execution_count": 29
    }
   ],
   "source": [
    "# normalización de variables continuas\n",
    "estandarizador = StandardScaler()\n",
    "estandarizador.fit(df[columnas_numericas])\n",
    "estandarizador.transform(df[columnas_numericas])"
   ]
  },
  {
   "cell_type": "code",
   "execution_count": 28,
   "metadata": {},
   "outputs": [
    {
     "output_type": "execute_result",
     "data": {
      "text/plain": [
       "array([[0., 0., 0., ..., 0., 0., 1.],\n",
       "       [1., 0., 0., ..., 0., 1., 0.],\n",
       "       [1., 0., 0., ..., 0., 1., 0.],\n",
       "       ...,\n",
       "       [0., 0., 1., ..., 0., 1., 0.],\n",
       "       [0., 1., 0., ..., 0., 1., 0.],\n",
       "       [0., 0., 1., ..., 0., 1., 0.]])"
      ]
     },
     "metadata": {},
     "execution_count": 28
    }
   ],
   "source": [
    "# codificación de variables categoricas\n",
    "# one hot encoder\n",
    "encoder = OneHotEncoder(handle_unknown = 'ignore', sparse = False)\n",
    "encoder.fit(df[columnas_categoricas]).transform(df[columnas_categoricas])"
   ]
  },
  {
   "cell_type": "code",
   "execution_count": 12,
   "metadata": {},
   "outputs": [
    {
     "output_type": "execute_result",
     "data": {
      "text/plain": [
       "       marca procesador sistema_operativo tecnologia\n",
       "0    samsung   qualcomm           android         5g\n",
       "1      apple      apple               ios      4glte\n",
       "2      apple      apple               ios      4glte\n",
       "3    samsung   qualcomm           android         4g\n",
       "4    samsung   qualcomm           android      4glte\n",
       "..       ...        ...               ...        ...\n",
       "76  motorola   qualcomm           android      4glte\n",
       "77  motorola   qualcomm           android      4glte\n",
       "78  motorola   mediatek           android      4glte\n",
       "79    huawei   mediatek           android      4glte\n",
       "80  motorola   qualcomm           android      4glte\n",
       "\n",
       "[81 rows x 4 columns]"
      ],
      "text/html": "<div>\n<style scoped>\n    .dataframe tbody tr th:only-of-type {\n        vertical-align: middle;\n    }\n\n    .dataframe tbody tr th {\n        vertical-align: top;\n    }\n\n    .dataframe thead th {\n        text-align: right;\n    }\n</style>\n<table border=\"1\" class=\"dataframe\">\n  <thead>\n    <tr style=\"text-align: right;\">\n      <th></th>\n      <th>marca</th>\n      <th>procesador</th>\n      <th>sistema_operativo</th>\n      <th>tecnologia</th>\n    </tr>\n  </thead>\n  <tbody>\n    <tr>\n      <th>0</th>\n      <td>samsung</td>\n      <td>qualcomm</td>\n      <td>android</td>\n      <td>5g</td>\n    </tr>\n    <tr>\n      <th>1</th>\n      <td>apple</td>\n      <td>apple</td>\n      <td>ios</td>\n      <td>4glte</td>\n    </tr>\n    <tr>\n      <th>2</th>\n      <td>apple</td>\n      <td>apple</td>\n      <td>ios</td>\n      <td>4glte</td>\n    </tr>\n    <tr>\n      <th>3</th>\n      <td>samsung</td>\n      <td>qualcomm</td>\n      <td>android</td>\n      <td>4g</td>\n    </tr>\n    <tr>\n      <th>4</th>\n      <td>samsung</td>\n      <td>qualcomm</td>\n      <td>android</td>\n      <td>4glte</td>\n    </tr>\n    <tr>\n      <th>...</th>\n      <td>...</td>\n      <td>...</td>\n      <td>...</td>\n      <td>...</td>\n    </tr>\n    <tr>\n      <th>76</th>\n      <td>motorola</td>\n      <td>qualcomm</td>\n      <td>android</td>\n      <td>4glte</td>\n    </tr>\n    <tr>\n      <th>77</th>\n      <td>motorola</td>\n      <td>qualcomm</td>\n      <td>android</td>\n      <td>4glte</td>\n    </tr>\n    <tr>\n      <th>78</th>\n      <td>motorola</td>\n      <td>mediatek</td>\n      <td>android</td>\n      <td>4glte</td>\n    </tr>\n    <tr>\n      <th>79</th>\n      <td>huawei</td>\n      <td>mediatek</td>\n      <td>android</td>\n      <td>4glte</td>\n    </tr>\n    <tr>\n      <th>80</th>\n      <td>motorola</td>\n      <td>qualcomm</td>\n      <td>android</td>\n      <td>4glte</td>\n    </tr>\n  </tbody>\n</table>\n<p>81 rows × 4 columns</p>\n</div>"
     },
     "metadata": {},
     "execution_count": 12
    }
   ],
   "source": [
    "df[columnas_categoricas]"
   ]
  },
  {
   "cell_type": "code",
   "execution_count": null,
   "metadata": {},
   "outputs": [],
   "source": []
  }
 ]
}