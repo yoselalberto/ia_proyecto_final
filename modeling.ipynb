{
 "metadata": {
  "orig_nbformat": 2,
  "kernelspec": {
   "name": "python3",
   "display_name": "Python 3",
   "language": "python"
  }
 },
 "nbformat": 4,
 "nbformat_minor": 2,
 "cells": [
  {
   "source": [
    "# Modelado\n",
    "Aquí modelaremos"
   ],
   "cell_type": "markdown",
   "metadata": {}
  },
  {
   "cell_type": "code",
   "execution_count": 1,
   "metadata": {},
   "outputs": [],
   "source": [
    "# dependencies\n",
    "import numpy  as np\n",
    "import pandas as pd\n",
    "from   sklearn.impute          import SimpleImputer\n",
    "from   sklearn.preprocessing   import OneHotEncoder, StandardScaler\n",
    "from   sklearn.model_selection import train_test_split\n",
    "from   sklearn.pipeline        import Pipeline"
   ]
  },
  {
   "cell_type": "code",
   "execution_count": 2,
   "metadata": {},
   "outputs": [],
   "source": [
    "# data\n",
    "path = 'work/data/processed/celulares_procesasdos.csv'"
   ]
  },
  {
   "cell_type": "code",
   "execution_count": 3,
   "metadata": {},
   "outputs": [],
   "source": [
    "# loading\n",
    "df_inicio = pd.read_csv(path)"
   ]
  },
  {
   "cell_type": "code",
   "execution_count": 11,
   "metadata": {},
   "outputs": [],
   "source": [
    "# variables globales\n",
    "# estas columnas serán ignoradas durante el modelado\n",
    "columnas_ignorar     = {'color', 'pantalla'}\n",
    "# variable objetivo\n",
    "columna_objetivo     = 'producto_nombre'\n",
    "# columnas categoricas\n",
    "columnas_categoricas = ['marca', 'procesador', 'sistema_operativo', 'tecnologia']\n",
    "# columnas numericas\n",
    "columnas_numericas   = ['peso', 'camara_trasera', 'camara_frontal', 'ram', 'memoria', 'precio']"
   ]
  },
  {
   "cell_type": "code",
   "execution_count": 16,
   "metadata": {},
   "outputs": [],
   "source": [
    "# elimino columnas, duplicados, y reordeno las columnas\n",
    "df = df_inicio.drop(columns = columnas_ignorar).drop_duplicates().reset_index(drop = True)[columnas_numericas + columnas_categoricas + [columna_objetivo]]"
   ]
  },
  {
   "cell_type": "code",
   "execution_count": 17,
   "metadata": {},
   "outputs": [
    {
     "output_type": "execute_result",
     "data": {
      "text/plain": [
       "     peso  camara_trasera  camara_frontal  ram  memoria  precio     marca  \\\n",
       "0   0.282              12              10   12      256   46799   samsung   \n",
       "1   0.272              12              12    4      512   33999     apple   \n",
       "2   0.252              12              12    4      512   31279     apple   \n",
       "3   0.302              12              10    8      256   30599   samsung   \n",
       "4   0.183              12              10    8      256   29699   samsung   \n",
       "..    ...             ...             ...  ...      ...     ...       ...   \n",
       "76  0.149              13               8    2       32    2990  motorola   \n",
       "77  0.190              13               8    1       16    2499  motorola   \n",
       "78  0.149              13               8    2       32    2990  motorola   \n",
       "79  0.176              13               8    2       32    3299    huawei   \n",
       "80  0.190              13               5    1       16    2499  motorola   \n",
       "\n",
       "   procesador sistema_operativo tecnologia       producto_nombre  \n",
       "0    qualcomm           android         5g        galaxy z fold2  \n",
       "1       apple               ios      4glte     iphone 11 pro max  \n",
       "2       apple               ios      4glte         iphone 11 pro  \n",
       "3    qualcomm           android         4g  galaxy note 20 ultra  \n",
       "4    qualcomm           android      4glte         galaxy z flip  \n",
       "..        ...               ...        ...                   ...  \n",
       "76   qualcomm           android      4glte          moto e6 plus  \n",
       "77   qualcomm           android      4glte          moto e6 play  \n",
       "78   mediatek           android      4glte          moto e6 plus  \n",
       "79   mediatek           android      4glte              honor 8a  \n",
       "80   qualcomm           android      4glte          moto e6 play  \n",
       "\n",
       "[81 rows x 11 columns]"
      ],
      "text/html": "<div>\n<style scoped>\n    .dataframe tbody tr th:only-of-type {\n        vertical-align: middle;\n    }\n\n    .dataframe tbody tr th {\n        vertical-align: top;\n    }\n\n    .dataframe thead th {\n        text-align: right;\n    }\n</style>\n<table border=\"1\" class=\"dataframe\">\n  <thead>\n    <tr style=\"text-align: right;\">\n      <th></th>\n      <th>peso</th>\n      <th>camara_trasera</th>\n      <th>camara_frontal</th>\n      <th>ram</th>\n      <th>memoria</th>\n      <th>precio</th>\n      <th>marca</th>\n      <th>procesador</th>\n      <th>sistema_operativo</th>\n      <th>tecnologia</th>\n      <th>producto_nombre</th>\n    </tr>\n  </thead>\n  <tbody>\n    <tr>\n      <th>0</th>\n      <td>0.282</td>\n      <td>12</td>\n      <td>10</td>\n      <td>12</td>\n      <td>256</td>\n      <td>46799</td>\n      <td>samsung</td>\n      <td>qualcomm</td>\n      <td>android</td>\n      <td>5g</td>\n      <td>galaxy z fold2</td>\n    </tr>\n    <tr>\n      <th>1</th>\n      <td>0.272</td>\n      <td>12</td>\n      <td>12</td>\n      <td>4</td>\n      <td>512</td>\n      <td>33999</td>\n      <td>apple</td>\n      <td>apple</td>\n      <td>ios</td>\n      <td>4glte</td>\n      <td>iphone 11 pro max</td>\n    </tr>\n    <tr>\n      <th>2</th>\n      <td>0.252</td>\n      <td>12</td>\n      <td>12</td>\n      <td>4</td>\n      <td>512</td>\n      <td>31279</td>\n      <td>apple</td>\n      <td>apple</td>\n      <td>ios</td>\n      <td>4glte</td>\n      <td>iphone 11 pro</td>\n    </tr>\n    <tr>\n      <th>3</th>\n      <td>0.302</td>\n      <td>12</td>\n      <td>10</td>\n      <td>8</td>\n      <td>256</td>\n      <td>30599</td>\n      <td>samsung</td>\n      <td>qualcomm</td>\n      <td>android</td>\n      <td>4g</td>\n      <td>galaxy note 20 ultra</td>\n    </tr>\n    <tr>\n      <th>4</th>\n      <td>0.183</td>\n      <td>12</td>\n      <td>10</td>\n      <td>8</td>\n      <td>256</td>\n      <td>29699</td>\n      <td>samsung</td>\n      <td>qualcomm</td>\n      <td>android</td>\n      <td>4glte</td>\n      <td>galaxy z flip</td>\n    </tr>\n    <tr>\n      <th>...</th>\n      <td>...</td>\n      <td>...</td>\n      <td>...</td>\n      <td>...</td>\n      <td>...</td>\n      <td>...</td>\n      <td>...</td>\n      <td>...</td>\n      <td>...</td>\n      <td>...</td>\n      <td>...</td>\n    </tr>\n    <tr>\n      <th>76</th>\n      <td>0.149</td>\n      <td>13</td>\n      <td>8</td>\n      <td>2</td>\n      <td>32</td>\n      <td>2990</td>\n      <td>motorola</td>\n      <td>qualcomm</td>\n      <td>android</td>\n      <td>4glte</td>\n      <td>moto e6 plus</td>\n    </tr>\n    <tr>\n      <th>77</th>\n      <td>0.190</td>\n      <td>13</td>\n      <td>8</td>\n      <td>1</td>\n      <td>16</td>\n      <td>2499</td>\n      <td>motorola</td>\n      <td>qualcomm</td>\n      <td>android</td>\n      <td>4glte</td>\n      <td>moto e6 play</td>\n    </tr>\n    <tr>\n      <th>78</th>\n      <td>0.149</td>\n      <td>13</td>\n      <td>8</td>\n      <td>2</td>\n      <td>32</td>\n      <td>2990</td>\n      <td>motorola</td>\n      <td>mediatek</td>\n      <td>android</td>\n      <td>4glte</td>\n      <td>moto e6 plus</td>\n    </tr>\n    <tr>\n      <th>79</th>\n      <td>0.176</td>\n      <td>13</td>\n      <td>8</td>\n      <td>2</td>\n      <td>32</td>\n      <td>3299</td>\n      <td>huawei</td>\n      <td>mediatek</td>\n      <td>android</td>\n      <td>4glte</td>\n      <td>honor 8a</td>\n    </tr>\n    <tr>\n      <th>80</th>\n      <td>0.190</td>\n      <td>13</td>\n      <td>5</td>\n      <td>1</td>\n      <td>16</td>\n      <td>2499</td>\n      <td>motorola</td>\n      <td>qualcomm</td>\n      <td>android</td>\n      <td>4glte</td>\n      <td>moto e6 play</td>\n    </tr>\n  </tbody>\n</table>\n<p>81 rows × 11 columns</p>\n</div>"
     },
     "metadata": {},
     "execution_count": 17
    }
   ],
   "source": [
    "df"
   ]
  },
  {
   "source": [
    "## Train and test split\n"
   ],
   "cell_type": "markdown",
   "metadata": {}
  },
  {
   "cell_type": "code",
   "execution_count": 19,
   "metadata": {},
   "outputs": [],
   "source": [
    "df_x = df[columnas_numericas + columnas_categoricas]\n",
    "df_y = df[[columna_objetivo]]\n",
    "#\n",
    "x_train, x_test, y_train, y_test = train_test_split(df_x, df_y, test_size = 0.25, random_state = 0)"
   ]
  },
  {
   "cell_type": "code",
   "execution_count": 25,
   "metadata": {},
   "outputs": [
    {
     "output_type": "execute_result",
     "data": {
      "text/plain": [
       "     peso  camara_trasera  camara_frontal  ram  memoria  precio     marca  \\\n",
       "22  0.186              10              10    8      128   19990   samsung   \n",
       "27  0.312              16              10   12      256   16999   samsung   \n",
       "61  0.192              48               8    4      128    4999    huawei   \n",
       "13  0.312              12              10    8      256   22990   samsung   \n",
       "71  0.179              16              16    3       32    3999   samsung   \n",
       "74  0.188               8              13    2       32    3490  motorola   \n",
       "30  0.186              16              10    8      128   15990   samsung   \n",
       "55  0.188               5              16    4       32    5999   samsung   \n",
       "53  0.198              32              25    4      128    6490  motorola   \n",
       "26  0.308              12               7    4      256   17599     apple   \n",
       "50  0.199              48              13    4      128    6499    xiaomi   \n",
       "42  0.179              32              32    6      128    8590   samsung   \n",
       "48  0.260              16              48    6       32    6590       tcl   \n",
       "33  0.190              64              25    6      128   14999  motorola   \n",
       "73  0.110              13               8    3       32    3990   samsung   \n",
       "2   0.252              12              12    4      512   31279     apple   \n",
       "57  0.270              48              25    4      128    5990  motorola   \n",
       "66  0.185              13               8    4       32    4769   samsung   \n",
       "41  0.179              32              32    6      128    8990   samsung   \n",
       "3   0.302              12              10    8      256   30599   samsung   \n",
       "69  0.185              13               8    4       32    4190   samsung   \n",
       "\n",
       "   procesador sistema_operativo tecnologia  \n",
       "22   qualcomm           android         4g  \n",
       "27    samsung           android         4g  \n",
       "61        arm           android      4glte  \n",
       "13   qualcomm           android         4g  \n",
       "71   qualcomm           android      4glte  \n",
       "74   mediatek           android      4glte  \n",
       "30   qualcomm           android         5g  \n",
       "55   qualcomm           android      4glte  \n",
       "53   qualcomm           android         4g  \n",
       "26      apple               ios      4glte  \n",
       "50   mediatek           android         4g  \n",
       "42   qualcomm           android      4glte  \n",
       "48   qualcomm           android         4g  \n",
       "33   qualcomm           android         4g  \n",
       "73   qualcomm           android      4glte  \n",
       "2       apple               ios      4glte  \n",
       "57   qualcomm           android      4glte  \n",
       "66   qualcomm           android      4glte  \n",
       "41   qualcomm           android      4glte  \n",
       "3    qualcomm           android         4g  \n",
       "69   qualcomm           android      4glte  "
      ],
      "text/html": "<div>\n<style scoped>\n    .dataframe tbody tr th:only-of-type {\n        vertical-align: middle;\n    }\n\n    .dataframe tbody tr th {\n        vertical-align: top;\n    }\n\n    .dataframe thead th {\n        text-align: right;\n    }\n</style>\n<table border=\"1\" class=\"dataframe\">\n  <thead>\n    <tr style=\"text-align: right;\">\n      <th></th>\n      <th>peso</th>\n      <th>camara_trasera</th>\n      <th>camara_frontal</th>\n      <th>ram</th>\n      <th>memoria</th>\n      <th>precio</th>\n      <th>marca</th>\n      <th>procesador</th>\n      <th>sistema_operativo</th>\n      <th>tecnologia</th>\n    </tr>\n  </thead>\n  <tbody>\n    <tr>\n      <th>22</th>\n      <td>0.186</td>\n      <td>10</td>\n      <td>10</td>\n      <td>8</td>\n      <td>128</td>\n      <td>19990</td>\n      <td>samsung</td>\n      <td>qualcomm</td>\n      <td>android</td>\n      <td>4g</td>\n    </tr>\n    <tr>\n      <th>27</th>\n      <td>0.312</td>\n      <td>16</td>\n      <td>10</td>\n      <td>12</td>\n      <td>256</td>\n      <td>16999</td>\n      <td>samsung</td>\n      <td>samsung</td>\n      <td>android</td>\n      <td>4g</td>\n    </tr>\n    <tr>\n      <th>61</th>\n      <td>0.192</td>\n      <td>48</td>\n      <td>8</td>\n      <td>4</td>\n      <td>128</td>\n      <td>4999</td>\n      <td>huawei</td>\n      <td>arm</td>\n      <td>android</td>\n      <td>4glte</td>\n    </tr>\n    <tr>\n      <th>13</th>\n      <td>0.312</td>\n      <td>12</td>\n      <td>10</td>\n      <td>8</td>\n      <td>256</td>\n      <td>22990</td>\n      <td>samsung</td>\n      <td>qualcomm</td>\n      <td>android</td>\n      <td>4g</td>\n    </tr>\n    <tr>\n      <th>71</th>\n      <td>0.179</td>\n      <td>16</td>\n      <td>16</td>\n      <td>3</td>\n      <td>32</td>\n      <td>3999</td>\n      <td>samsung</td>\n      <td>qualcomm</td>\n      <td>android</td>\n      <td>4glte</td>\n    </tr>\n    <tr>\n      <th>74</th>\n      <td>0.188</td>\n      <td>8</td>\n      <td>13</td>\n      <td>2</td>\n      <td>32</td>\n      <td>3490</td>\n      <td>motorola</td>\n      <td>mediatek</td>\n      <td>android</td>\n      <td>4glte</td>\n    </tr>\n    <tr>\n      <th>30</th>\n      <td>0.186</td>\n      <td>16</td>\n      <td>10</td>\n      <td>8</td>\n      <td>128</td>\n      <td>15990</td>\n      <td>samsung</td>\n      <td>qualcomm</td>\n      <td>android</td>\n      <td>5g</td>\n    </tr>\n    <tr>\n      <th>55</th>\n      <td>0.188</td>\n      <td>5</td>\n      <td>16</td>\n      <td>4</td>\n      <td>32</td>\n      <td>5999</td>\n      <td>samsung</td>\n      <td>qualcomm</td>\n      <td>android</td>\n      <td>4glte</td>\n    </tr>\n    <tr>\n      <th>53</th>\n      <td>0.198</td>\n      <td>32</td>\n      <td>25</td>\n      <td>4</td>\n      <td>128</td>\n      <td>6490</td>\n      <td>motorola</td>\n      <td>qualcomm</td>\n      <td>android</td>\n      <td>4g</td>\n    </tr>\n    <tr>\n      <th>26</th>\n      <td>0.308</td>\n      <td>12</td>\n      <td>7</td>\n      <td>4</td>\n      <td>256</td>\n      <td>17599</td>\n      <td>apple</td>\n      <td>apple</td>\n      <td>ios</td>\n      <td>4glte</td>\n    </tr>\n    <tr>\n      <th>50</th>\n      <td>0.199</td>\n      <td>48</td>\n      <td>13</td>\n      <td>4</td>\n      <td>128</td>\n      <td>6499</td>\n      <td>xiaomi</td>\n      <td>mediatek</td>\n      <td>android</td>\n      <td>4g</td>\n    </tr>\n    <tr>\n      <th>42</th>\n      <td>0.179</td>\n      <td>32</td>\n      <td>32</td>\n      <td>6</td>\n      <td>128</td>\n      <td>8590</td>\n      <td>samsung</td>\n      <td>qualcomm</td>\n      <td>android</td>\n      <td>4glte</td>\n    </tr>\n    <tr>\n      <th>48</th>\n      <td>0.260</td>\n      <td>16</td>\n      <td>48</td>\n      <td>6</td>\n      <td>32</td>\n      <td>6590</td>\n      <td>tcl</td>\n      <td>qualcomm</td>\n      <td>android</td>\n      <td>4g</td>\n    </tr>\n    <tr>\n      <th>33</th>\n      <td>0.190</td>\n      <td>64</td>\n      <td>25</td>\n      <td>6</td>\n      <td>128</td>\n      <td>14999</td>\n      <td>motorola</td>\n      <td>qualcomm</td>\n      <td>android</td>\n      <td>4g</td>\n    </tr>\n    <tr>\n      <th>73</th>\n      <td>0.110</td>\n      <td>13</td>\n      <td>8</td>\n      <td>3</td>\n      <td>32</td>\n      <td>3990</td>\n      <td>samsung</td>\n      <td>qualcomm</td>\n      <td>android</td>\n      <td>4glte</td>\n    </tr>\n    <tr>\n      <th>2</th>\n      <td>0.252</td>\n      <td>12</td>\n      <td>12</td>\n      <td>4</td>\n      <td>512</td>\n      <td>31279</td>\n      <td>apple</td>\n      <td>apple</td>\n      <td>ios</td>\n      <td>4glte</td>\n    </tr>\n    <tr>\n      <th>57</th>\n      <td>0.270</td>\n      <td>48</td>\n      <td>25</td>\n      <td>4</td>\n      <td>128</td>\n      <td>5990</td>\n      <td>motorola</td>\n      <td>qualcomm</td>\n      <td>android</td>\n      <td>4glte</td>\n    </tr>\n    <tr>\n      <th>66</th>\n      <td>0.185</td>\n      <td>13</td>\n      <td>8</td>\n      <td>4</td>\n      <td>32</td>\n      <td>4769</td>\n      <td>samsung</td>\n      <td>qualcomm</td>\n      <td>android</td>\n      <td>4glte</td>\n    </tr>\n    <tr>\n      <th>41</th>\n      <td>0.179</td>\n      <td>32</td>\n      <td>32</td>\n      <td>6</td>\n      <td>128</td>\n      <td>8990</td>\n      <td>samsung</td>\n      <td>qualcomm</td>\n      <td>android</td>\n      <td>4glte</td>\n    </tr>\n    <tr>\n      <th>3</th>\n      <td>0.302</td>\n      <td>12</td>\n      <td>10</td>\n      <td>8</td>\n      <td>256</td>\n      <td>30599</td>\n      <td>samsung</td>\n      <td>qualcomm</td>\n      <td>android</td>\n      <td>4g</td>\n    </tr>\n    <tr>\n      <th>69</th>\n      <td>0.185</td>\n      <td>13</td>\n      <td>8</td>\n      <td>4</td>\n      <td>32</td>\n      <td>4190</td>\n      <td>samsung</td>\n      <td>qualcomm</td>\n      <td>android</td>\n      <td>4glte</td>\n    </tr>\n  </tbody>\n</table>\n</div>"
     },
     "metadata": {},
     "execution_count": 25
    }
   ],
   "source": [
    "x_test"
   ]
  },
  {
   "source": [
    "### Llenado de valores faltantes\n",
    "En ambos casos de usará el valor más frecuente: el promedio para las variables númericas, para las variables categoricas la moda."
   ],
   "cell_type": "markdown",
   "metadata": {}
  },
  {
   "cell_type": "code",
   "execution_count": 42,
   "metadata": {},
   "outputs": [],
   "source": [
    "# normalización de variables continuas\n",
    "estandarizador = StandardScaler()\n",
    "estandarizador.fit(df[columnas_numericas])\n",
    "# estandarizador.transform(df[columnas_numericas])\n",
    "imputador_numeric   = SimpleImputer(missing_values = np.nan, strategy = 'mean')\n",
    "# imputador_numeric.fit(df[columnas_numericas]).transform(df[columnas_numericas])"
   ]
  },
  {
   "cell_type": "code",
   "execution_count": 46,
   "metadata": {},
   "outputs": [],
   "source": [
    "# variables categoricas\n",
    "imputador_categoric = SimpleImputer(missing_values = None, strategy = 'most_frequent')\n",
    "# imputador_categoric.fit(df[columnas_categoricas]).transform(df[columnas_categoricas])"
   ]
  },
  {
   "cell_type": "code",
   "execution_count": 28,
   "metadata": {},
   "outputs": [
    {
     "output_type": "execute_result",
     "data": {
      "text/plain": [
       "array([[0., 0., 0., ..., 0., 0., 1.],\n",
       "       [1., 0., 0., ..., 0., 1., 0.],\n",
       "       [1., 0., 0., ..., 0., 1., 0.],\n",
       "       ...,\n",
       "       [0., 0., 1., ..., 0., 1., 0.],\n",
       "       [0., 1., 0., ..., 0., 1., 0.],\n",
       "       [0., 0., 1., ..., 0., 1., 0.]])"
      ]
     },
     "metadata": {},
     "execution_count": 28
    }
   ],
   "source": [
    "# codificación de variables categoricas\n",
    "# one hot encoder\n",
    "encoder = OneHotEncoder(handle_unknown = 'ignore', sparse = False)\n",
    "encoder.fit(df[columnas_categoricas]).transform(df[columnas_categoricas])"
   ]
  },
  {
   "source": [
    "## Creación de un pipeline  \n",
    "\n",
    "Para facilitarnos el trabajo, crearé un pipeline"
   ],
   "cell_type": "markdown",
   "metadata": {}
  },
  {
   "cell_type": "code",
   "execution_count": 54,
   "metadata": {},
   "outputs": [],
   "source": [
    "columnas_predictoras = df.columns.drop(columna_objetivo).values"
   ]
  },
  {
   "cell_type": "code",
   "execution_count": null,
   "metadata": {},
   "outputs": [],
   "source": [
    "# instancing\n",
    "tuberia = Pipeline(steps = [('imputacion_numericas', imputacion_numericas),\n",
    "                  ('imputacion_categoricas', imputacion_categoricas),\n",
    "                  ('standarizacion', estandarizador),\n",
    "                  ('codificacion_categoricas', 'codificacion_categoricas'),\n",
    "                  ('modelado', modelo)])\n",
    "# fitting\n",
    "tuberia.fit(df[columnas_predictoras], df[columna_objetivo]))\n",
    "# transforming\n",
    "# predict"
   ]
  },
  {
   "cell_type": "code",
   "execution_count": null,
   "metadata": {},
   "outputs": [],
   "source": [
    "df[columnas_categoricas]\n",
    "df[columnas_numericas]"
   ]
  },
  {
   "cell_type": "code",
   "execution_count": 52,
   "metadata": {},
   "outputs": [
    {
     "output_type": "execute_result",
     "data": {
      "text/plain": [
       "array(['marca', 'peso', 'camara_trasera', 'camara_frontal', 'procesador',\n",
       "       'ram', 'memoria', 'sistema_operativo', 'precio', 'tecnologia'],\n",
       "      dtype=object)"
      ]
     },
     "metadata": {},
     "execution_count": 52
    }
   ],
   "source": []
  },
  {
   "cell_type": "code",
   "execution_count": 51,
   "metadata": {},
   "outputs": [
    {
     "output_type": "execute_result",
     "data": {
      "text/plain": [
       "       marca       producto_nombre   peso  camara_trasera  camara_frontal  \\\n",
       "0    samsung        galaxy z fold2  0.282              12              10   \n",
       "1      apple     iphone 11 pro max  0.272              12              12   \n",
       "2      apple         iphone 11 pro  0.252              12              12   \n",
       "3    samsung  galaxy note 20 ultra  0.302              12              10   \n",
       "4    samsung         galaxy z flip  0.183              12              10   \n",
       "..       ...                   ...    ...             ...             ...   \n",
       "76  motorola          moto e6 plus  0.149              13               8   \n",
       "77  motorola          moto e6 play  0.190              13               8   \n",
       "78  motorola          moto e6 plus  0.149              13               8   \n",
       "79    huawei              honor 8a  0.176              13               8   \n",
       "80  motorola          moto e6 play  0.190              13               5   \n",
       "\n",
       "   procesador  ram  memoria sistema_operativo  precio tecnologia  \n",
       "0    qualcomm   12      256           android   46799         5g  \n",
       "1       apple    4      512               ios   33999      4glte  \n",
       "2       apple    4      512               ios   31279      4glte  \n",
       "3    qualcomm    8      256           android   30599         4g  \n",
       "4    qualcomm    8      256           android   29699      4glte  \n",
       "..        ...  ...      ...               ...     ...        ...  \n",
       "76   qualcomm    2       32           android    2990      4glte  \n",
       "77   qualcomm    1       16           android    2499      4glte  \n",
       "78   mediatek    2       32           android    2990      4glte  \n",
       "79   mediatek    2       32           android    3299      4glte  \n",
       "80   qualcomm    1       16           android    2499      4glte  \n",
       "\n",
       "[81 rows x 11 columns]"
      ],
      "text/html": "<div>\n<style scoped>\n    .dataframe tbody tr th:only-of-type {\n        vertical-align: middle;\n    }\n\n    .dataframe tbody tr th {\n        vertical-align: top;\n    }\n\n    .dataframe thead th {\n        text-align: right;\n    }\n</style>\n<table border=\"1\" class=\"dataframe\">\n  <thead>\n    <tr style=\"text-align: right;\">\n      <th></th>\n      <th>marca</th>\n      <th>producto_nombre</th>\n      <th>peso</th>\n      <th>camara_trasera</th>\n      <th>camara_frontal</th>\n      <th>procesador</th>\n      <th>ram</th>\n      <th>memoria</th>\n      <th>sistema_operativo</th>\n      <th>precio</th>\n      <th>tecnologia</th>\n    </tr>\n  </thead>\n  <tbody>\n    <tr>\n      <th>0</th>\n      <td>samsung</td>\n      <td>galaxy z fold2</td>\n      <td>0.282</td>\n      <td>12</td>\n      <td>10</td>\n      <td>qualcomm</td>\n      <td>12</td>\n      <td>256</td>\n      <td>android</td>\n      <td>46799</td>\n      <td>5g</td>\n    </tr>\n    <tr>\n      <th>1</th>\n      <td>apple</td>\n      <td>iphone 11 pro max</td>\n      <td>0.272</td>\n      <td>12</td>\n      <td>12</td>\n      <td>apple</td>\n      <td>4</td>\n      <td>512</td>\n      <td>ios</td>\n      <td>33999</td>\n      <td>4glte</td>\n    </tr>\n    <tr>\n      <th>2</th>\n      <td>apple</td>\n      <td>iphone 11 pro</td>\n      <td>0.252</td>\n      <td>12</td>\n      <td>12</td>\n      <td>apple</td>\n      <td>4</td>\n      <td>512</td>\n      <td>ios</td>\n      <td>31279</td>\n      <td>4glte</td>\n    </tr>\n    <tr>\n      <th>3</th>\n      <td>samsung</td>\n      <td>galaxy note 20 ultra</td>\n      <td>0.302</td>\n      <td>12</td>\n      <td>10</td>\n      <td>qualcomm</td>\n      <td>8</td>\n      <td>256</td>\n      <td>android</td>\n      <td>30599</td>\n      <td>4g</td>\n    </tr>\n    <tr>\n      <th>4</th>\n      <td>samsung</td>\n      <td>galaxy z flip</td>\n      <td>0.183</td>\n      <td>12</td>\n      <td>10</td>\n      <td>qualcomm</td>\n      <td>8</td>\n      <td>256</td>\n      <td>android</td>\n      <td>29699</td>\n      <td>4glte</td>\n    </tr>\n    <tr>\n      <th>...</th>\n      <td>...</td>\n      <td>...</td>\n      <td>...</td>\n      <td>...</td>\n      <td>...</td>\n      <td>...</td>\n      <td>...</td>\n      <td>...</td>\n      <td>...</td>\n      <td>...</td>\n      <td>...</td>\n    </tr>\n    <tr>\n      <th>76</th>\n      <td>motorola</td>\n      <td>moto e6 plus</td>\n      <td>0.149</td>\n      <td>13</td>\n      <td>8</td>\n      <td>qualcomm</td>\n      <td>2</td>\n      <td>32</td>\n      <td>android</td>\n      <td>2990</td>\n      <td>4glte</td>\n    </tr>\n    <tr>\n      <th>77</th>\n      <td>motorola</td>\n      <td>moto e6 play</td>\n      <td>0.190</td>\n      <td>13</td>\n      <td>8</td>\n      <td>qualcomm</td>\n      <td>1</td>\n      <td>16</td>\n      <td>android</td>\n      <td>2499</td>\n      <td>4glte</td>\n    </tr>\n    <tr>\n      <th>78</th>\n      <td>motorola</td>\n      <td>moto e6 plus</td>\n      <td>0.149</td>\n      <td>13</td>\n      <td>8</td>\n      <td>mediatek</td>\n      <td>2</td>\n      <td>32</td>\n      <td>android</td>\n      <td>2990</td>\n      <td>4glte</td>\n    </tr>\n    <tr>\n      <th>79</th>\n      <td>huawei</td>\n      <td>honor 8a</td>\n      <td>0.176</td>\n      <td>13</td>\n      <td>8</td>\n      <td>mediatek</td>\n      <td>2</td>\n      <td>32</td>\n      <td>android</td>\n      <td>3299</td>\n      <td>4glte</td>\n    </tr>\n    <tr>\n      <th>80</th>\n      <td>motorola</td>\n      <td>moto e6 play</td>\n      <td>0.190</td>\n      <td>13</td>\n      <td>5</td>\n      <td>qualcomm</td>\n      <td>1</td>\n      <td>16</td>\n      <td>android</td>\n      <td>2499</td>\n      <td>4glte</td>\n    </tr>\n  </tbody>\n</table>\n<p>81 rows × 11 columns</p>\n</div>"
     },
     "metadata": {},
     "execution_count": 51
    }
   ],
   "source": [
    "df"
   ]
  },
  {
   "cell_type": "code",
   "execution_count": null,
   "metadata": {},
   "outputs": [],
   "source": []
  }
 ]
}