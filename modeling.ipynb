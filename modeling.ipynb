{
 "metadata": {
  "orig_nbformat": 2,
  "kernelspec": {
   "name": "python3",
   "display_name": "Python 3",
   "language": "python"
  }
 },
 "nbformat": 4,
 "nbformat_minor": 2,
 "cells": [
  {
   "source": [
    "# Modelado\n",
    "Aquí modelaremos"
   ],
   "cell_type": "markdown",
   "metadata": {}
  },
  {
   "cell_type": "code",
   "execution_count": 1,
   "metadata": {},
   "outputs": [],
   "source": [
    "# dependencies\n",
    "import pandas as pd"
   ]
  },
  {
   "cell_type": "code",
   "execution_count": 2,
   "metadata": {},
   "outputs": [],
   "source": [
    "# data\n",
    "path = 'work/data/processed/celulares_procesasdos.csv'"
   ]
  },
  {
   "cell_type": "code",
   "execution_count": 3,
   "metadata": {},
   "outputs": [],
   "source": [
    "# loading\n",
    "df_inicio = pd.read_csv(path)"
   ]
  },
  {
   "cell_type": "code",
   "execution_count": 4,
   "metadata": {},
   "outputs": [
    {
     "output_type": "execute_result",
     "data": {
      "text/plain": [
       "        marca    producto_nombre             color   peso pantalla  \\\n",
       "0     samsung     galaxy z fold2             negro  0.282   amoled   \n",
       "1     samsung     galaxy z fold2            bronce  0.282   amoled   \n",
       "2       apple  iphone 11 pro max  verde medianoche  0.272     oled   \n",
       "3       apple  iphone 11 pro max     gris espacial  0.272     oled   \n",
       "4       apple  iphone 11 pro max             plata  0.272     oled   \n",
       "..        ...                ...               ...    ...      ...   \n",
       "122  motorola       moto e6 play             negro  0.190  ips-lcd   \n",
       "123  motorola       moto e6 plus              azul  0.149      lcd   \n",
       "124    huawei           honor 8a             verde  0.176      lcd   \n",
       "125  motorola       moto e6 play              azul  0.190  ips-lcd   \n",
       "126  motorola       moto e6 play             negro  0.190  ips-lcd   \n",
       "\n",
       "     camara_trasera  camara_frontal procesador  ram  memoria  \\\n",
       "0                12              10   qualcomm   12      256   \n",
       "1                12              10   qualcomm   12      256   \n",
       "2                12              12      apple    4      512   \n",
       "3                12              12      apple    4      512   \n",
       "4                12              12      apple    4      512   \n",
       "..              ...             ...        ...  ...      ...   \n",
       "122              13               8   qualcomm    1       16   \n",
       "123              13               8   mediatek    2       32   \n",
       "124              13               8   mediatek    2       32   \n",
       "125              13               5   qualcomm    1       16   \n",
       "126              13               5   qualcomm    1       16   \n",
       "\n",
       "    sistema_operativo  precio tecnologia  \n",
       "0             android   46799         5g  \n",
       "1             android   46799         5g  \n",
       "2                 ios   33999      4glte  \n",
       "3                 ios   33999      4glte  \n",
       "4                 ios   33999      4glte  \n",
       "..                ...     ...        ...  \n",
       "122           android    2499      4glte  \n",
       "123           android    2990      4glte  \n",
       "124           android    3299      4glte  \n",
       "125           android    2499      4glte  \n",
       "126           android    2499      4glte  \n",
       "\n",
       "[127 rows x 13 columns]"
      ],
      "text/html": "<div>\n<style scoped>\n    .dataframe tbody tr th:only-of-type {\n        vertical-align: middle;\n    }\n\n    .dataframe tbody tr th {\n        vertical-align: top;\n    }\n\n    .dataframe thead th {\n        text-align: right;\n    }\n</style>\n<table border=\"1\" class=\"dataframe\">\n  <thead>\n    <tr style=\"text-align: right;\">\n      <th></th>\n      <th>marca</th>\n      <th>producto_nombre</th>\n      <th>color</th>\n      <th>peso</th>\n      <th>pantalla</th>\n      <th>camara_trasera</th>\n      <th>camara_frontal</th>\n      <th>procesador</th>\n      <th>ram</th>\n      <th>memoria</th>\n      <th>sistema_operativo</th>\n      <th>precio</th>\n      <th>tecnologia</th>\n    </tr>\n  </thead>\n  <tbody>\n    <tr>\n      <th>0</th>\n      <td>samsung</td>\n      <td>galaxy z fold2</td>\n      <td>negro</td>\n      <td>0.282</td>\n      <td>amoled</td>\n      <td>12</td>\n      <td>10</td>\n      <td>qualcomm</td>\n      <td>12</td>\n      <td>256</td>\n      <td>android</td>\n      <td>46799</td>\n      <td>5g</td>\n    </tr>\n    <tr>\n      <th>1</th>\n      <td>samsung</td>\n      <td>galaxy z fold2</td>\n      <td>bronce</td>\n      <td>0.282</td>\n      <td>amoled</td>\n      <td>12</td>\n      <td>10</td>\n      <td>qualcomm</td>\n      <td>12</td>\n      <td>256</td>\n      <td>android</td>\n      <td>46799</td>\n      <td>5g</td>\n    </tr>\n    <tr>\n      <th>2</th>\n      <td>apple</td>\n      <td>iphone 11 pro max</td>\n      <td>verde medianoche</td>\n      <td>0.272</td>\n      <td>oled</td>\n      <td>12</td>\n      <td>12</td>\n      <td>apple</td>\n      <td>4</td>\n      <td>512</td>\n      <td>ios</td>\n      <td>33999</td>\n      <td>4glte</td>\n    </tr>\n    <tr>\n      <th>3</th>\n      <td>apple</td>\n      <td>iphone 11 pro max</td>\n      <td>gris espacial</td>\n      <td>0.272</td>\n      <td>oled</td>\n      <td>12</td>\n      <td>12</td>\n      <td>apple</td>\n      <td>4</td>\n      <td>512</td>\n      <td>ios</td>\n      <td>33999</td>\n      <td>4glte</td>\n    </tr>\n    <tr>\n      <th>4</th>\n      <td>apple</td>\n      <td>iphone 11 pro max</td>\n      <td>plata</td>\n      <td>0.272</td>\n      <td>oled</td>\n      <td>12</td>\n      <td>12</td>\n      <td>apple</td>\n      <td>4</td>\n      <td>512</td>\n      <td>ios</td>\n      <td>33999</td>\n      <td>4glte</td>\n    </tr>\n    <tr>\n      <th>...</th>\n      <td>...</td>\n      <td>...</td>\n      <td>...</td>\n      <td>...</td>\n      <td>...</td>\n      <td>...</td>\n      <td>...</td>\n      <td>...</td>\n      <td>...</td>\n      <td>...</td>\n      <td>...</td>\n      <td>...</td>\n      <td>...</td>\n    </tr>\n    <tr>\n      <th>122</th>\n      <td>motorola</td>\n      <td>moto e6 play</td>\n      <td>negro</td>\n      <td>0.190</td>\n      <td>ips-lcd</td>\n      <td>13</td>\n      <td>8</td>\n      <td>qualcomm</td>\n      <td>1</td>\n      <td>16</td>\n      <td>android</td>\n      <td>2499</td>\n      <td>4glte</td>\n    </tr>\n    <tr>\n      <th>123</th>\n      <td>motorola</td>\n      <td>moto e6 plus</td>\n      <td>azul</td>\n      <td>0.149</td>\n      <td>lcd</td>\n      <td>13</td>\n      <td>8</td>\n      <td>mediatek</td>\n      <td>2</td>\n      <td>32</td>\n      <td>android</td>\n      <td>2990</td>\n      <td>4glte</td>\n    </tr>\n    <tr>\n      <th>124</th>\n      <td>huawei</td>\n      <td>honor 8a</td>\n      <td>verde</td>\n      <td>0.176</td>\n      <td>lcd</td>\n      <td>13</td>\n      <td>8</td>\n      <td>mediatek</td>\n      <td>2</td>\n      <td>32</td>\n      <td>android</td>\n      <td>3299</td>\n      <td>4glte</td>\n    </tr>\n    <tr>\n      <th>125</th>\n      <td>motorola</td>\n      <td>moto e6 play</td>\n      <td>azul</td>\n      <td>0.190</td>\n      <td>ips-lcd</td>\n      <td>13</td>\n      <td>5</td>\n      <td>qualcomm</td>\n      <td>1</td>\n      <td>16</td>\n      <td>android</td>\n      <td>2499</td>\n      <td>4glte</td>\n    </tr>\n    <tr>\n      <th>126</th>\n      <td>motorola</td>\n      <td>moto e6 play</td>\n      <td>negro</td>\n      <td>0.190</td>\n      <td>ips-lcd</td>\n      <td>13</td>\n      <td>5</td>\n      <td>qualcomm</td>\n      <td>1</td>\n      <td>16</td>\n      <td>android</td>\n      <td>2499</td>\n      <td>4glte</td>\n    </tr>\n  </tbody>\n</table>\n<p>127 rows × 13 columns</p>\n</div>"
     },
     "metadata": {},
     "execution_count": 4
    }
   ],
   "source": [
    "df_inicio"
   ]
  },
  {
   "cell_type": "code",
   "execution_count": null,
   "metadata": {},
   "outputs": [],
   "source": []
  },
  {
   "cell_type": "code",
   "execution_count": null,
   "metadata": {},
   "outputs": [],
   "source": []
  }
 ]
}