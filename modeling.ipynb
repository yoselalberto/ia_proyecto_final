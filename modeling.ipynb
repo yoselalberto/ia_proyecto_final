{
 "metadata": {
  "orig_nbformat": 2,
  "kernelspec": {
   "name": "python3",
   "display_name": "Python 3",
   "language": "python"
  }
 },
 "nbformat": 4,
 "nbformat_minor": 2,
 "cells": [
  {
   "source": [
    "# Modelado\n",
    "Aquí modelaremos"
   ],
   "cell_type": "markdown",
   "metadata": {}
  },
  {
   "cell_type": "code",
   "execution_count": 30,
   "metadata": {},
   "outputs": [],
   "source": [
    "# dependencies\n",
    "import numpy  as np\n",
    "import pandas as pd\n",
    "from   sklearn.impute          import SimpleImputer\n",
    "from   sklearn.preprocessing   import OneHotEncoder, StandardScaler\n",
    "# from   sklearn.model_selection import train_test_split\n",
    "from   sklearn.pipeline        import Pipeline\n",
    "from   sklearn.tree            import DecisionTreeClassifier"
   ]
  },
  {
   "cell_type": "code",
   "execution_count": 2,
   "metadata": {},
   "outputs": [],
   "source": [
    "# data\n",
    "path = 'work/data/processed/celulares_procesasdos.csv'"
   ]
  },
  {
   "cell_type": "code",
   "execution_count": 3,
   "metadata": {},
   "outputs": [],
   "source": [
    "# loading\n",
    "df_inicio = pd.read_csv(path)"
   ]
  },
  {
   "cell_type": "code",
   "execution_count": 38,
   "metadata": {},
   "outputs": [],
   "source": [
    "# variables globales\n",
    "# estas columnas serán ignoradas durante el modelado\n",
    "columnas_ignorar     = {'color', 'pantalla'}\n",
    "# variable objetivo\n",
    "columna_objetivo     = 'producto_nombre'\n",
    "# columnas categoricas\n",
    "columnas_categoricas = ['marca', 'procesador', 'sistema_operativo', 'tecnologia']\n",
    "# columnas numericas\n",
    "columnas_numericas   = ['peso', 'camara_trasera', 'camara_frontal', 'ram', 'memoria', 'precio']\n",
    "# variables predictoras\n",
    "columnas_predictoras = columnas_numericas + columnas_categoricas"
   ]
  },
  {
   "cell_type": "code",
   "execution_count": 39,
   "metadata": {},
   "outputs": [],
   "source": [
    "# elimino columnas, duplicados, y reordeno las columnas\n",
    "df = df_inicio.drop(columns = columnas_ignorar).drop_duplicates().reset_index(drop = True)[columnas_predictoras + [columna_objetivo]]"
   ]
  },
  {
   "cell_type": "code",
   "execution_count": 40,
   "metadata": {},
   "outputs": [
    {
     "output_type": "execute_result",
     "data": {
      "text/plain": [
       "     peso  camara_trasera  camara_frontal  ram  memoria  precio     marca  \\\n",
       "0   0.282              12              10   12      256   46799   samsung   \n",
       "1   0.272              12              12    4      512   33999     apple   \n",
       "2   0.252              12              12    4      512   31279     apple   \n",
       "3   0.302              12              10    8      256   30599   samsung   \n",
       "4   0.183              12              10    8      256   29699   samsung   \n",
       "..    ...             ...             ...  ...      ...     ...       ...   \n",
       "76  0.149              13               8    2       32    2990  motorola   \n",
       "77  0.190              13               8    1       16    2499  motorola   \n",
       "78  0.149              13               8    2       32    2990  motorola   \n",
       "79  0.176              13               8    2       32    3299    huawei   \n",
       "80  0.190              13               5    1       16    2499  motorola   \n",
       "\n",
       "   procesador sistema_operativo tecnologia       producto_nombre  \n",
       "0    qualcomm           android         5g        galaxy z fold2  \n",
       "1       apple               ios      4glte     iphone 11 pro max  \n",
       "2       apple               ios      4glte         iphone 11 pro  \n",
       "3    qualcomm           android         4g  galaxy note 20 ultra  \n",
       "4    qualcomm           android      4glte         galaxy z flip  \n",
       "..        ...               ...        ...                   ...  \n",
       "76   qualcomm           android      4glte          moto e6 plus  \n",
       "77   qualcomm           android      4glte          moto e6 play  \n",
       "78   mediatek           android      4glte          moto e6 plus  \n",
       "79   mediatek           android      4glte              honor 8a  \n",
       "80   qualcomm           android      4glte          moto e6 play  \n",
       "\n",
       "[81 rows x 11 columns]"
      ],
      "text/html": "<div>\n<style scoped>\n    .dataframe tbody tr th:only-of-type {\n        vertical-align: middle;\n    }\n\n    .dataframe tbody tr th {\n        vertical-align: top;\n    }\n\n    .dataframe thead th {\n        text-align: right;\n    }\n</style>\n<table border=\"1\" class=\"dataframe\">\n  <thead>\n    <tr style=\"text-align: right;\">\n      <th></th>\n      <th>peso</th>\n      <th>camara_trasera</th>\n      <th>camara_frontal</th>\n      <th>ram</th>\n      <th>memoria</th>\n      <th>precio</th>\n      <th>marca</th>\n      <th>procesador</th>\n      <th>sistema_operativo</th>\n      <th>tecnologia</th>\n      <th>producto_nombre</th>\n    </tr>\n  </thead>\n  <tbody>\n    <tr>\n      <th>0</th>\n      <td>0.282</td>\n      <td>12</td>\n      <td>10</td>\n      <td>12</td>\n      <td>256</td>\n      <td>46799</td>\n      <td>samsung</td>\n      <td>qualcomm</td>\n      <td>android</td>\n      <td>5g</td>\n      <td>galaxy z fold2</td>\n    </tr>\n    <tr>\n      <th>1</th>\n      <td>0.272</td>\n      <td>12</td>\n      <td>12</td>\n      <td>4</td>\n      <td>512</td>\n      <td>33999</td>\n      <td>apple</td>\n      <td>apple</td>\n      <td>ios</td>\n      <td>4glte</td>\n      <td>iphone 11 pro max</td>\n    </tr>\n    <tr>\n      <th>2</th>\n      <td>0.252</td>\n      <td>12</td>\n      <td>12</td>\n      <td>4</td>\n      <td>512</td>\n      <td>31279</td>\n      <td>apple</td>\n      <td>apple</td>\n      <td>ios</td>\n      <td>4glte</td>\n      <td>iphone 11 pro</td>\n    </tr>\n    <tr>\n      <th>3</th>\n      <td>0.302</td>\n      <td>12</td>\n      <td>10</td>\n      <td>8</td>\n      <td>256</td>\n      <td>30599</td>\n      <td>samsung</td>\n      <td>qualcomm</td>\n      <td>android</td>\n      <td>4g</td>\n      <td>galaxy note 20 ultra</td>\n    </tr>\n    <tr>\n      <th>4</th>\n      <td>0.183</td>\n      <td>12</td>\n      <td>10</td>\n      <td>8</td>\n      <td>256</td>\n      <td>29699</td>\n      <td>samsung</td>\n      <td>qualcomm</td>\n      <td>android</td>\n      <td>4glte</td>\n      <td>galaxy z flip</td>\n    </tr>\n    <tr>\n      <th>...</th>\n      <td>...</td>\n      <td>...</td>\n      <td>...</td>\n      <td>...</td>\n      <td>...</td>\n      <td>...</td>\n      <td>...</td>\n      <td>...</td>\n      <td>...</td>\n      <td>...</td>\n      <td>...</td>\n    </tr>\n    <tr>\n      <th>76</th>\n      <td>0.149</td>\n      <td>13</td>\n      <td>8</td>\n      <td>2</td>\n      <td>32</td>\n      <td>2990</td>\n      <td>motorola</td>\n      <td>qualcomm</td>\n      <td>android</td>\n      <td>4glte</td>\n      <td>moto e6 plus</td>\n    </tr>\n    <tr>\n      <th>77</th>\n      <td>0.190</td>\n      <td>13</td>\n      <td>8</td>\n      <td>1</td>\n      <td>16</td>\n      <td>2499</td>\n      <td>motorola</td>\n      <td>qualcomm</td>\n      <td>android</td>\n      <td>4glte</td>\n      <td>moto e6 play</td>\n    </tr>\n    <tr>\n      <th>78</th>\n      <td>0.149</td>\n      <td>13</td>\n      <td>8</td>\n      <td>2</td>\n      <td>32</td>\n      <td>2990</td>\n      <td>motorola</td>\n      <td>mediatek</td>\n      <td>android</td>\n      <td>4glte</td>\n      <td>moto e6 plus</td>\n    </tr>\n    <tr>\n      <th>79</th>\n      <td>0.176</td>\n      <td>13</td>\n      <td>8</td>\n      <td>2</td>\n      <td>32</td>\n      <td>3299</td>\n      <td>huawei</td>\n      <td>mediatek</td>\n      <td>android</td>\n      <td>4glte</td>\n      <td>honor 8a</td>\n    </tr>\n    <tr>\n      <th>80</th>\n      <td>0.190</td>\n      <td>13</td>\n      <td>5</td>\n      <td>1</td>\n      <td>16</td>\n      <td>2499</td>\n      <td>motorola</td>\n      <td>qualcomm</td>\n      <td>android</td>\n      <td>4glte</td>\n      <td>moto e6 play</td>\n    </tr>\n  </tbody>\n</table>\n<p>81 rows × 11 columns</p>\n</div>"
     },
     "metadata": {},
     "execution_count": 40
    }
   ],
   "source": [
    "df"
   ]
  },
  {
   "source": [
    "## Train and test split\n",
    "Se ocuparán todos los datos para el modelado, se reportará el cross validation error."
   ],
   "cell_type": "markdown",
   "metadata": {}
  },
  {
   "cell_type": "code",
   "execution_count": 29,
   "metadata": {},
   "outputs": [],
   "source": [
    "predictores = df.drop(columns = columna_objetivo)\n",
    "objetivo    = df[[columna_objetivo]]"
   ]
  },
  {
   "cell_type": "code",
   "execution_count": 25,
   "metadata": {},
   "outputs": [
    {
     "output_type": "execute_result",
     "data": {
      "text/plain": [
       "         producto_nombre\n",
       "0         galaxy z fold2\n",
       "1      iphone 11 pro max\n",
       "2          iphone 11 pro\n",
       "3   galaxy note 20 ultra\n",
       "4          galaxy z flip\n",
       "..                   ...\n",
       "76          moto e6 plus\n",
       "77          moto e6 play\n",
       "78          moto e6 plus\n",
       "79              honor 8a\n",
       "80          moto e6 play\n",
       "\n",
       "[81 rows x 1 columns]"
      ],
      "text/html": "<div>\n<style scoped>\n    .dataframe tbody tr th:only-of-type {\n        vertical-align: middle;\n    }\n\n    .dataframe tbody tr th {\n        vertical-align: top;\n    }\n\n    .dataframe thead th {\n        text-align: right;\n    }\n</style>\n<table border=\"1\" class=\"dataframe\">\n  <thead>\n    <tr style=\"text-align: right;\">\n      <th></th>\n      <th>producto_nombre</th>\n    </tr>\n  </thead>\n  <tbody>\n    <tr>\n      <th>0</th>\n      <td>galaxy z fold2</td>\n    </tr>\n    <tr>\n      <th>1</th>\n      <td>iphone 11 pro max</td>\n    </tr>\n    <tr>\n      <th>2</th>\n      <td>iphone 11 pro</td>\n    </tr>\n    <tr>\n      <th>3</th>\n      <td>galaxy note 20 ultra</td>\n    </tr>\n    <tr>\n      <th>4</th>\n      <td>galaxy z flip</td>\n    </tr>\n    <tr>\n      <th>...</th>\n      <td>...</td>\n    </tr>\n    <tr>\n      <th>76</th>\n      <td>moto e6 plus</td>\n    </tr>\n    <tr>\n      <th>77</th>\n      <td>moto e6 play</td>\n    </tr>\n    <tr>\n      <th>78</th>\n      <td>moto e6 plus</td>\n    </tr>\n    <tr>\n      <th>79</th>\n      <td>honor 8a</td>\n    </tr>\n    <tr>\n      <th>80</th>\n      <td>moto e6 play</td>\n    </tr>\n  </tbody>\n</table>\n<p>81 rows × 1 columns</p>\n</div>"
     },
     "metadata": {},
     "execution_count": 25
    }
   ],
   "source": []
  },
  {
   "source": [
    "### Llenado de valores faltantes\n",
    "En ambos casos de usará el valor más frecuente: el promedio para las variables númericas, para las variables categoricas la moda."
   ],
   "cell_type": "markdown",
   "metadata": {}
  },
  {
   "cell_type": "code",
   "execution_count": 36,
   "metadata": {},
   "outputs": [],
   "source": [
    "imputador_numeric   = SimpleImputer(missing_values = np.nan, strategy = 'mean').fit(df[columnas_numericas])\n",
    "# imputador_numeric.transform(df[columnas_numericas])\n",
    "# normalización de variables continuas\n",
    "estandarizador = StandardScaler().fit(predictores[columnas_numericas])\n",
    "# estandarizador.transform(df[columnas_numericas])"
   ]
  },
  {
   "cell_type": "code",
   "execution_count": 103,
   "metadata": {},
   "outputs": [],
   "source": [
    "def feature_engineer_numeric(dataframe, columnas_numericas):\n",
    "    df = dataframe.copy()\n",
    "    # imputación\n",
    "    imputador_numeric   = SimpleImputer(missing_values = np.nan, strategy = 'mean').fit(df[columnas_numericas])\n",
    "    df_imputed = imputador_numeric.transform(df[columnas_numericas])    \n",
    "    # estandarización\n",
    "    estandarizador = StandardScaler().fit(df_imputed)\n",
    "    df_standarizado = estandarizador.transform(df_imputed)\n",
    "    # add names\n",
    "    df_nombres = pd.DataFrame(df_standarizado, columns = columnas_numericas).reset_index(drop = True)\n",
    "    df_salida  = pd.concat([df_nombres, dataframe.drop(columns = columnas_numericas)], axis = 1)\n",
    "    #\n",
    "    return df_salida\n"
   ]
  },
  {
   "cell_type": "code",
   "execution_count": 104,
   "metadata": {},
   "outputs": [],
   "source": [
    "# feature_engineer_numeric(df, columnas_numericas)\n",
    "# df.drop(columns = columnas_numericas)"
   ]
  },
  {
   "cell_type": "code",
   "execution_count": 79,
   "metadata": {},
   "outputs": [],
   "source": [
    "#"
   ]
  },
  {
   "cell_type": "code",
   "execution_count": 89,
   "metadata": {},
   "outputs": [
    {
     "output_type": "execute_result",
     "data": {
      "text/plain": [
       "array(['x0_apple', 'x0_huawei', 'x0_motorola', 'x0_nokia', 'x0_samsung',\n",
       "       'x0_tcl', 'x0_xiaomi', 'x1_apple', 'x1_arm', 'x1_mediatek',\n",
       "       'x1_qualcomm', 'x1_samsung', 'x2_android', 'x2_ios', 'x3_4g',\n",
       "       'x3_4glte', 'x3_5g'], dtype=object)"
      ]
     },
     "metadata": {},
     "execution_count": 89
    }
   ],
   "source": [
    "# variables categoricas\n",
    "# imputador_categoric = SimpleImputer(missing_values = None, strategy = 'most_frequent')\n",
    "# imputador_categoric.fit(df[columnas_categoricas]).transform(df[columnas_categoricas])\n",
    "# one hot encoder\n",
    "encoder = OneHotEncoder(handle_unknown = 'ignore', sparse = False).fit(df[columnas_categoricas])\n",
    "encoder.get_feature_names()\n",
    "# encoder.transform(df[columnas_categoricas])"
   ]
  },
  {
   "cell_type": "code",
   "execution_count": 105,
   "metadata": {},
   "outputs": [],
   "source": [
    "def feature_engineer_categoric(dataframe, columnas_categoricas):\n",
    "    df = dataframe.copy()\n",
    "    # imputacion\n",
    "    imputador_categoric = SimpleImputer(missing_values = None, strategy = 'most_frequent').fit(df[columnas_categoricas])\n",
    "    df_imputed = imputador_categoric.transform(df[columnas_categoricas])\n",
    "    # ohe\n",
    "    encoder = OneHotEncoder(handle_unknown = 'ignore', sparse = False).fit(df_imputed)\n",
    "    df_ohe = encoder.transform(df_imputed)\n",
    "    # add names\n",
    "    columnas_nombres = encoder.get_feature_names()\n",
    "    df_nombres = pd.DataFrame(df_ohe, columns = columnas_nombres).reset_index(drop = True)\n",
    "    # gather results\n",
    "    df_salida = pd.concat([dataframe.drop(columns = columnas_categoricas), df_nombres], axis = 1)\n",
    "    #\n",
    "    return df_salida\n"
   ]
  },
  {
   "cell_type": "code",
   "execution_count": 100,
   "metadata": {},
   "outputs": [],
   "source": [
    "# feature_engineeric_categoric(df, columnas_categoricas)"
   ]
  },
  {
   "cell_type": "code",
   "execution_count": 108,
   "metadata": {},
   "outputs": [],
   "source": [
    "def feature_engineer(dataframe, columnas_numericas, columnas_categoricas):\n",
    "    df_numeric   = feature_engineer_numeric(dataframe,    columnas_numericas)\n",
    "    df_categoric = feature_engineer_categoric(df_numeric, columnas_categoricas)\n",
    "    # salida\n",
    "    return df_categoric"
   ]
  },
  {
   "cell_type": "code",
   "execution_count": 109,
   "metadata": {},
   "outputs": [
    {
     "output_type": "execute_result",
     "data": {
      "text/plain": [
       "        peso  camara_trasera  camara_frontal       ram   memoria    precio  \\\n",
       "0   0.983220       -0.581741       -0.542740  3.385583  0.933778  3.588932   \n",
       "1   0.807257       -0.581741       -0.332396 -0.390420  3.106447  2.221551   \n",
       "2   0.455331       -0.581741       -0.332396 -0.390420  3.106447  1.930983   \n",
       "3   1.335146       -0.581741       -0.542740  1.497582  0.933778  1.858341   \n",
       "4  -0.758813       -0.581741       -0.542740  1.497582  0.933778  1.762197   \n",
       "..       ...             ...             ...       ...       ...       ...   \n",
       "76 -1.357087       -0.514038       -0.753084 -1.334421 -0.967307 -1.091034   \n",
       "77 -0.635639       -0.514038       -0.753084 -1.806421 -1.103099 -1.143486   \n",
       "78 -1.357087       -0.514038       -0.753084 -1.334421 -0.967307 -1.091034   \n",
       "79 -0.881987       -0.514038       -0.753084 -1.334421 -0.967307 -1.058025   \n",
       "80 -0.635639       -0.514038       -1.068600 -1.806421 -1.103099 -1.143486   \n",
       "\n",
       "         producto_nombre  x0_apple  x0_huawei  x0_motorola  ...  x1_apple  \\\n",
       "0         galaxy z fold2       0.0        0.0          0.0  ...       0.0   \n",
       "1      iphone 11 pro max       1.0        0.0          0.0  ...       1.0   \n",
       "2          iphone 11 pro       1.0        0.0          0.0  ...       1.0   \n",
       "3   galaxy note 20 ultra       0.0        0.0          0.0  ...       0.0   \n",
       "4          galaxy z flip       0.0        0.0          0.0  ...       0.0   \n",
       "..                   ...       ...        ...          ...  ...       ...   \n",
       "76          moto e6 plus       0.0        0.0          1.0  ...       0.0   \n",
       "77          moto e6 play       0.0        0.0          1.0  ...       0.0   \n",
       "78          moto e6 plus       0.0        0.0          1.0  ...       0.0   \n",
       "79              honor 8a       0.0        1.0          0.0  ...       0.0   \n",
       "80          moto e6 play       0.0        0.0          1.0  ...       0.0   \n",
       "\n",
       "    x1_arm  x1_mediatek  x1_qualcomm  x1_samsung  x2_android  x2_ios  x3_4g  \\\n",
       "0      0.0          0.0          1.0         0.0         1.0     0.0    0.0   \n",
       "1      0.0          0.0          0.0         0.0         0.0     1.0    0.0   \n",
       "2      0.0          0.0          0.0         0.0         0.0     1.0    0.0   \n",
       "3      0.0          0.0          1.0         0.0         1.0     0.0    1.0   \n",
       "4      0.0          0.0          1.0         0.0         1.0     0.0    0.0   \n",
       "..     ...          ...          ...         ...         ...     ...    ...   \n",
       "76     0.0          0.0          1.0         0.0         1.0     0.0    0.0   \n",
       "77     0.0          0.0          1.0         0.0         1.0     0.0    0.0   \n",
       "78     0.0          1.0          0.0         0.0         1.0     0.0    0.0   \n",
       "79     0.0          1.0          0.0         0.0         1.0     0.0    0.0   \n",
       "80     0.0          0.0          1.0         0.0         1.0     0.0    0.0   \n",
       "\n",
       "    x3_4glte  x3_5g  \n",
       "0        0.0    1.0  \n",
       "1        1.0    0.0  \n",
       "2        1.0    0.0  \n",
       "3        0.0    0.0  \n",
       "4        1.0    0.0  \n",
       "..       ...    ...  \n",
       "76       1.0    0.0  \n",
       "77       1.0    0.0  \n",
       "78       1.0    0.0  \n",
       "79       1.0    0.0  \n",
       "80       1.0    0.0  \n",
       "\n",
       "[81 rows x 24 columns]"
      ],
      "text/html": "<div>\n<style scoped>\n    .dataframe tbody tr th:only-of-type {\n        vertical-align: middle;\n    }\n\n    .dataframe tbody tr th {\n        vertical-align: top;\n    }\n\n    .dataframe thead th {\n        text-align: right;\n    }\n</style>\n<table border=\"1\" class=\"dataframe\">\n  <thead>\n    <tr style=\"text-align: right;\">\n      <th></th>\n      <th>peso</th>\n      <th>camara_trasera</th>\n      <th>camara_frontal</th>\n      <th>ram</th>\n      <th>memoria</th>\n      <th>precio</th>\n      <th>producto_nombre</th>\n      <th>x0_apple</th>\n      <th>x0_huawei</th>\n      <th>x0_motorola</th>\n      <th>...</th>\n      <th>x1_apple</th>\n      <th>x1_arm</th>\n      <th>x1_mediatek</th>\n      <th>x1_qualcomm</th>\n      <th>x1_samsung</th>\n      <th>x2_android</th>\n      <th>x2_ios</th>\n      <th>x3_4g</th>\n      <th>x3_4glte</th>\n      <th>x3_5g</th>\n    </tr>\n  </thead>\n  <tbody>\n    <tr>\n      <th>0</th>\n      <td>0.983220</td>\n      <td>-0.581741</td>\n      <td>-0.542740</td>\n      <td>3.385583</td>\n      <td>0.933778</td>\n      <td>3.588932</td>\n      <td>galaxy z fold2</td>\n      <td>0.0</td>\n      <td>0.0</td>\n      <td>0.0</td>\n      <td>...</td>\n      <td>0.0</td>\n      <td>0.0</td>\n      <td>0.0</td>\n      <td>1.0</td>\n      <td>0.0</td>\n      <td>1.0</td>\n      <td>0.0</td>\n      <td>0.0</td>\n      <td>0.0</td>\n      <td>1.0</td>\n    </tr>\n    <tr>\n      <th>1</th>\n      <td>0.807257</td>\n      <td>-0.581741</td>\n      <td>-0.332396</td>\n      <td>-0.390420</td>\n      <td>3.106447</td>\n      <td>2.221551</td>\n      <td>iphone 11 pro max</td>\n      <td>1.0</td>\n      <td>0.0</td>\n      <td>0.0</td>\n      <td>...</td>\n      <td>1.0</td>\n      <td>0.0</td>\n      <td>0.0</td>\n      <td>0.0</td>\n      <td>0.0</td>\n      <td>0.0</td>\n      <td>1.0</td>\n      <td>0.0</td>\n      <td>1.0</td>\n      <td>0.0</td>\n    </tr>\n    <tr>\n      <th>2</th>\n      <td>0.455331</td>\n      <td>-0.581741</td>\n      <td>-0.332396</td>\n      <td>-0.390420</td>\n      <td>3.106447</td>\n      <td>1.930983</td>\n      <td>iphone 11 pro</td>\n      <td>1.0</td>\n      <td>0.0</td>\n      <td>0.0</td>\n      <td>...</td>\n      <td>1.0</td>\n      <td>0.0</td>\n      <td>0.0</td>\n      <td>0.0</td>\n      <td>0.0</td>\n      <td>0.0</td>\n      <td>1.0</td>\n      <td>0.0</td>\n      <td>1.0</td>\n      <td>0.0</td>\n    </tr>\n    <tr>\n      <th>3</th>\n      <td>1.335146</td>\n      <td>-0.581741</td>\n      <td>-0.542740</td>\n      <td>1.497582</td>\n      <td>0.933778</td>\n      <td>1.858341</td>\n      <td>galaxy note 20 ultra</td>\n      <td>0.0</td>\n      <td>0.0</td>\n      <td>0.0</td>\n      <td>...</td>\n      <td>0.0</td>\n      <td>0.0</td>\n      <td>0.0</td>\n      <td>1.0</td>\n      <td>0.0</td>\n      <td>1.0</td>\n      <td>0.0</td>\n      <td>1.0</td>\n      <td>0.0</td>\n      <td>0.0</td>\n    </tr>\n    <tr>\n      <th>4</th>\n      <td>-0.758813</td>\n      <td>-0.581741</td>\n      <td>-0.542740</td>\n      <td>1.497582</td>\n      <td>0.933778</td>\n      <td>1.762197</td>\n      <td>galaxy z flip</td>\n      <td>0.0</td>\n      <td>0.0</td>\n      <td>0.0</td>\n      <td>...</td>\n      <td>0.0</td>\n      <td>0.0</td>\n      <td>0.0</td>\n      <td>1.0</td>\n      <td>0.0</td>\n      <td>1.0</td>\n      <td>0.0</td>\n      <td>0.0</td>\n      <td>1.0</td>\n      <td>0.0</td>\n    </tr>\n    <tr>\n      <th>...</th>\n      <td>...</td>\n      <td>...</td>\n      <td>...</td>\n      <td>...</td>\n      <td>...</td>\n      <td>...</td>\n      <td>...</td>\n      <td>...</td>\n      <td>...</td>\n      <td>...</td>\n      <td>...</td>\n      <td>...</td>\n      <td>...</td>\n      <td>...</td>\n      <td>...</td>\n      <td>...</td>\n      <td>...</td>\n      <td>...</td>\n      <td>...</td>\n      <td>...</td>\n      <td>...</td>\n    </tr>\n    <tr>\n      <th>76</th>\n      <td>-1.357087</td>\n      <td>-0.514038</td>\n      <td>-0.753084</td>\n      <td>-1.334421</td>\n      <td>-0.967307</td>\n      <td>-1.091034</td>\n      <td>moto e6 plus</td>\n      <td>0.0</td>\n      <td>0.0</td>\n      <td>1.0</td>\n      <td>...</td>\n      <td>0.0</td>\n      <td>0.0</td>\n      <td>0.0</td>\n      <td>1.0</td>\n      <td>0.0</td>\n      <td>1.0</td>\n      <td>0.0</td>\n      <td>0.0</td>\n      <td>1.0</td>\n      <td>0.0</td>\n    </tr>\n    <tr>\n      <th>77</th>\n      <td>-0.635639</td>\n      <td>-0.514038</td>\n      <td>-0.753084</td>\n      <td>-1.806421</td>\n      <td>-1.103099</td>\n      <td>-1.143486</td>\n      <td>moto e6 play</td>\n      <td>0.0</td>\n      <td>0.0</td>\n      <td>1.0</td>\n      <td>...</td>\n      <td>0.0</td>\n      <td>0.0</td>\n      <td>0.0</td>\n      <td>1.0</td>\n      <td>0.0</td>\n      <td>1.0</td>\n      <td>0.0</td>\n      <td>0.0</td>\n      <td>1.0</td>\n      <td>0.0</td>\n    </tr>\n    <tr>\n      <th>78</th>\n      <td>-1.357087</td>\n      <td>-0.514038</td>\n      <td>-0.753084</td>\n      <td>-1.334421</td>\n      <td>-0.967307</td>\n      <td>-1.091034</td>\n      <td>moto e6 plus</td>\n      <td>0.0</td>\n      <td>0.0</td>\n      <td>1.0</td>\n      <td>...</td>\n      <td>0.0</td>\n      <td>0.0</td>\n      <td>1.0</td>\n      <td>0.0</td>\n      <td>0.0</td>\n      <td>1.0</td>\n      <td>0.0</td>\n      <td>0.0</td>\n      <td>1.0</td>\n      <td>0.0</td>\n    </tr>\n    <tr>\n      <th>79</th>\n      <td>-0.881987</td>\n      <td>-0.514038</td>\n      <td>-0.753084</td>\n      <td>-1.334421</td>\n      <td>-0.967307</td>\n      <td>-1.058025</td>\n      <td>honor 8a</td>\n      <td>0.0</td>\n      <td>1.0</td>\n      <td>0.0</td>\n      <td>...</td>\n      <td>0.0</td>\n      <td>0.0</td>\n      <td>1.0</td>\n      <td>0.0</td>\n      <td>0.0</td>\n      <td>1.0</td>\n      <td>0.0</td>\n      <td>0.0</td>\n      <td>1.0</td>\n      <td>0.0</td>\n    </tr>\n    <tr>\n      <th>80</th>\n      <td>-0.635639</td>\n      <td>-0.514038</td>\n      <td>-1.068600</td>\n      <td>-1.806421</td>\n      <td>-1.103099</td>\n      <td>-1.143486</td>\n      <td>moto e6 play</td>\n      <td>0.0</td>\n      <td>0.0</td>\n      <td>1.0</td>\n      <td>...</td>\n      <td>0.0</td>\n      <td>0.0</td>\n      <td>0.0</td>\n      <td>1.0</td>\n      <td>0.0</td>\n      <td>1.0</td>\n      <td>0.0</td>\n      <td>0.0</td>\n      <td>1.0</td>\n      <td>0.0</td>\n    </tr>\n  </tbody>\n</table>\n<p>81 rows × 24 columns</p>\n</div>"
     },
     "metadata": {},
     "execution_count": 109
    }
   ],
   "source": [
    "feature_engineer(df, columnas_numericas, columnas_categoricas)"
   ]
  },
  {
   "source": [
    "## Creación de un pipeline  \n",
    "\n",
    "Para facilitarnos el trabajo, crearé un pipeline"
   ],
   "cell_type": "markdown",
   "metadata": {}
  },
  {
   "cell_type": "code",
   "execution_count": 54,
   "metadata": {},
   "outputs": [],
   "source": []
  },
  {
   "cell_type": "code",
   "execution_count": null,
   "metadata": {},
   "outputs": [],
   "source": []
  },
  {
   "cell_type": "code",
   "execution_count": null,
   "metadata": {},
   "outputs": [],
   "source": []
  },
  {
   "cell_type": "code",
   "execution_count": null,
   "metadata": {},
   "outputs": [],
   "source": [
    "df[columnas_categoricas]\n",
    "df[columnas_numericas]"
   ]
  },
  {
   "cell_type": "code",
   "execution_count": 52,
   "metadata": {},
   "outputs": [
    {
     "output_type": "execute_result",
     "data": {
      "text/plain": [
       "array(['marca', 'peso', 'camara_trasera', 'camara_frontal', 'procesador',\n",
       "       'ram', 'memoria', 'sistema_operativo', 'precio', 'tecnologia'],\n",
       "      dtype=object)"
      ]
     },
     "metadata": {},
     "execution_count": 52
    }
   ],
   "source": []
  },
  {
   "cell_type": "code",
   "execution_count": 37,
   "metadata": {},
   "outputs": [
    {
     "output_type": "execute_result",
     "data": {
      "text/plain": [
       "       marca procesador sistema_operativo tecnologia   peso  camara_trasera  \\\n",
       "0    samsung   qualcomm           android         5g  0.282              12   \n",
       "1      apple      apple               ios      4glte  0.272              12   \n",
       "2      apple      apple               ios      4glte  0.252              12   \n",
       "3    samsung   qualcomm           android         4g  0.302              12   \n",
       "4    samsung   qualcomm           android      4glte  0.183              12   \n",
       "..       ...        ...               ...        ...    ...             ...   \n",
       "76  motorola   qualcomm           android      4glte  0.149              13   \n",
       "77  motorola   qualcomm           android      4glte  0.190              13   \n",
       "78  motorola   mediatek           android      4glte  0.149              13   \n",
       "79    huawei   mediatek           android      4glte  0.176              13   \n",
       "80  motorola   qualcomm           android      4glte  0.190              13   \n",
       "\n",
       "    camara_frontal  ram  memoria  precio       producto_nombre  \n",
       "0               10   12      256   46799        galaxy z fold2  \n",
       "1               12    4      512   33999     iphone 11 pro max  \n",
       "2               12    4      512   31279         iphone 11 pro  \n",
       "3               10    8      256   30599  galaxy note 20 ultra  \n",
       "4               10    8      256   29699         galaxy z flip  \n",
       "..             ...  ...      ...     ...                   ...  \n",
       "76               8    2       32    2990          moto e6 plus  \n",
       "77               8    1       16    2499          moto e6 play  \n",
       "78               8    2       32    2990          moto e6 plus  \n",
       "79               8    2       32    3299              honor 8a  \n",
       "80               5    1       16    2499          moto e6 play  \n",
       "\n",
       "[81 rows x 11 columns]"
      ],
      "text/html": "<div>\n<style scoped>\n    .dataframe tbody tr th:only-of-type {\n        vertical-align: middle;\n    }\n\n    .dataframe tbody tr th {\n        vertical-align: top;\n    }\n\n    .dataframe thead th {\n        text-align: right;\n    }\n</style>\n<table border=\"1\" class=\"dataframe\">\n  <thead>\n    <tr style=\"text-align: right;\">\n      <th></th>\n      <th>marca</th>\n      <th>procesador</th>\n      <th>sistema_operativo</th>\n      <th>tecnologia</th>\n      <th>peso</th>\n      <th>camara_trasera</th>\n      <th>camara_frontal</th>\n      <th>ram</th>\n      <th>memoria</th>\n      <th>precio</th>\n      <th>producto_nombre</th>\n    </tr>\n  </thead>\n  <tbody>\n    <tr>\n      <th>0</th>\n      <td>samsung</td>\n      <td>qualcomm</td>\n      <td>android</td>\n      <td>5g</td>\n      <td>0.282</td>\n      <td>12</td>\n      <td>10</td>\n      <td>12</td>\n      <td>256</td>\n      <td>46799</td>\n      <td>galaxy z fold2</td>\n    </tr>\n    <tr>\n      <th>1</th>\n      <td>apple</td>\n      <td>apple</td>\n      <td>ios</td>\n      <td>4glte</td>\n      <td>0.272</td>\n      <td>12</td>\n      <td>12</td>\n      <td>4</td>\n      <td>512</td>\n      <td>33999</td>\n      <td>iphone 11 pro max</td>\n    </tr>\n    <tr>\n      <th>2</th>\n      <td>apple</td>\n      <td>apple</td>\n      <td>ios</td>\n      <td>4glte</td>\n      <td>0.252</td>\n      <td>12</td>\n      <td>12</td>\n      <td>4</td>\n      <td>512</td>\n      <td>31279</td>\n      <td>iphone 11 pro</td>\n    </tr>\n    <tr>\n      <th>3</th>\n      <td>samsung</td>\n      <td>qualcomm</td>\n      <td>android</td>\n      <td>4g</td>\n      <td>0.302</td>\n      <td>12</td>\n      <td>10</td>\n      <td>8</td>\n      <td>256</td>\n      <td>30599</td>\n      <td>galaxy note 20 ultra</td>\n    </tr>\n    <tr>\n      <th>4</th>\n      <td>samsung</td>\n      <td>qualcomm</td>\n      <td>android</td>\n      <td>4glte</td>\n      <td>0.183</td>\n      <td>12</td>\n      <td>10</td>\n      <td>8</td>\n      <td>256</td>\n      <td>29699</td>\n      <td>galaxy z flip</td>\n    </tr>\n    <tr>\n      <th>...</th>\n      <td>...</td>\n      <td>...</td>\n      <td>...</td>\n      <td>...</td>\n      <td>...</td>\n      <td>...</td>\n      <td>...</td>\n      <td>...</td>\n      <td>...</td>\n      <td>...</td>\n      <td>...</td>\n    </tr>\n    <tr>\n      <th>76</th>\n      <td>motorola</td>\n      <td>qualcomm</td>\n      <td>android</td>\n      <td>4glte</td>\n      <td>0.149</td>\n      <td>13</td>\n      <td>8</td>\n      <td>2</td>\n      <td>32</td>\n      <td>2990</td>\n      <td>moto e6 plus</td>\n    </tr>\n    <tr>\n      <th>77</th>\n      <td>motorola</td>\n      <td>qualcomm</td>\n      <td>android</td>\n      <td>4glte</td>\n      <td>0.190</td>\n      <td>13</td>\n      <td>8</td>\n      <td>1</td>\n      <td>16</td>\n      <td>2499</td>\n      <td>moto e6 play</td>\n    </tr>\n    <tr>\n      <th>78</th>\n      <td>motorola</td>\n      <td>mediatek</td>\n      <td>android</td>\n      <td>4glte</td>\n      <td>0.149</td>\n      <td>13</td>\n      <td>8</td>\n      <td>2</td>\n      <td>32</td>\n      <td>2990</td>\n      <td>moto e6 plus</td>\n    </tr>\n    <tr>\n      <th>79</th>\n      <td>huawei</td>\n      <td>mediatek</td>\n      <td>android</td>\n      <td>4glte</td>\n      <td>0.176</td>\n      <td>13</td>\n      <td>8</td>\n      <td>2</td>\n      <td>32</td>\n      <td>3299</td>\n      <td>honor 8a</td>\n    </tr>\n    <tr>\n      <th>80</th>\n      <td>motorola</td>\n      <td>qualcomm</td>\n      <td>android</td>\n      <td>4glte</td>\n      <td>0.190</td>\n      <td>13</td>\n      <td>5</td>\n      <td>1</td>\n      <td>16</td>\n      <td>2499</td>\n      <td>moto e6 play</td>\n    </tr>\n  </tbody>\n</table>\n<p>81 rows × 11 columns</p>\n</div>"
     },
     "metadata": {},
     "execution_count": 37
    }
   ],
   "source": [
    "df"
   ]
  },
  {
   "cell_type": "code",
   "execution_count": null,
   "metadata": {},
   "outputs": [],
   "source": []
  }
 ]
}