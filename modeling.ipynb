{
 "metadata": {
  "orig_nbformat": 2,
  "kernelspec": {
   "name": "python3",
   "display_name": "Python 3",
   "language": "python"
  }
 },
 "nbformat": 4,
 "nbformat_minor": 2,
 "cells": [
  {
   "source": [
    "# Modelado\n",
    "Aquí modelaremos"
   ],
   "cell_type": "markdown",
   "metadata": {}
  },
  {
   "cell_type": "code",
   "execution_count": 34,
   "metadata": {},
   "outputs": [],
   "source": [
    "# dependencies\n",
    "import numpy  as np\n",
    "import pandas as pd\n",
    "from   sklearn.impute import SimpleImputer\n",
    "from   sklearn.preprocessing import OneHotEncoder, StandardScaler"
   ]
  },
  {
   "cell_type": "code",
   "execution_count": 2,
   "metadata": {},
   "outputs": [],
   "source": [
    "# data\n",
    "path = 'work/data/processed/celulares_procesasdos.csv'"
   ]
  },
  {
   "cell_type": "code",
   "execution_count": 3,
   "metadata": {},
   "outputs": [],
   "source": [
    "# loading\n",
    "df_inicio = pd.read_csv(path)"
   ]
  },
  {
   "cell_type": "code",
   "execution_count": 4,
   "metadata": {},
   "outputs": [],
   "source": [
    "# conservo columnas a usar\n",
    "columnas_ignorar = {'color', 'pantalla'}\n",
    "df = df_inicio.drop(columns = columnas_ignorar).drop_duplicates().reset_index(drop = True)"
   ]
  },
  {
   "cell_type": "code",
   "execution_count": 5,
   "metadata": {},
   "outputs": [
    {
     "output_type": "execute_result",
     "data": {
      "text/plain": [
       "       marca       producto_nombre   peso  camara_trasera  camara_frontal  \\\n",
       "0    samsung        galaxy z fold2  0.282              12              10   \n",
       "1      apple     iphone 11 pro max  0.272              12              12   \n",
       "2      apple         iphone 11 pro  0.252              12              12   \n",
       "3    samsung  galaxy note 20 ultra  0.302              12              10   \n",
       "4    samsung         galaxy z flip  0.183              12              10   \n",
       "..       ...                   ...    ...             ...             ...   \n",
       "76  motorola          moto e6 plus  0.149              13               8   \n",
       "77  motorola          moto e6 play  0.190              13               8   \n",
       "78  motorola          moto e6 plus  0.149              13               8   \n",
       "79    huawei              honor 8a  0.176              13               8   \n",
       "80  motorola          moto e6 play  0.190              13               5   \n",
       "\n",
       "   procesador  ram  memoria sistema_operativo  precio tecnologia  \n",
       "0    qualcomm   12      256           android   46799         5g  \n",
       "1       apple    4      512               ios   33999      4glte  \n",
       "2       apple    4      512               ios   31279      4glte  \n",
       "3    qualcomm    8      256           android   30599         4g  \n",
       "4    qualcomm    8      256           android   29699      4glte  \n",
       "..        ...  ...      ...               ...     ...        ...  \n",
       "76   qualcomm    2       32           android    2990      4glte  \n",
       "77   qualcomm    1       16           android    2499      4glte  \n",
       "78   mediatek    2       32           android    2990      4glte  \n",
       "79   mediatek    2       32           android    3299      4glte  \n",
       "80   qualcomm    1       16           android    2499      4glte  \n",
       "\n",
       "[81 rows x 11 columns]"
      ],
      "text/html": "<div>\n<style scoped>\n    .dataframe tbody tr th:only-of-type {\n        vertical-align: middle;\n    }\n\n    .dataframe tbody tr th {\n        vertical-align: top;\n    }\n\n    .dataframe thead th {\n        text-align: right;\n    }\n</style>\n<table border=\"1\" class=\"dataframe\">\n  <thead>\n    <tr style=\"text-align: right;\">\n      <th></th>\n      <th>marca</th>\n      <th>producto_nombre</th>\n      <th>peso</th>\n      <th>camara_trasera</th>\n      <th>camara_frontal</th>\n      <th>procesador</th>\n      <th>ram</th>\n      <th>memoria</th>\n      <th>sistema_operativo</th>\n      <th>precio</th>\n      <th>tecnologia</th>\n    </tr>\n  </thead>\n  <tbody>\n    <tr>\n      <th>0</th>\n      <td>samsung</td>\n      <td>galaxy z fold2</td>\n      <td>0.282</td>\n      <td>12</td>\n      <td>10</td>\n      <td>qualcomm</td>\n      <td>12</td>\n      <td>256</td>\n      <td>android</td>\n      <td>46799</td>\n      <td>5g</td>\n    </tr>\n    <tr>\n      <th>1</th>\n      <td>apple</td>\n      <td>iphone 11 pro max</td>\n      <td>0.272</td>\n      <td>12</td>\n      <td>12</td>\n      <td>apple</td>\n      <td>4</td>\n      <td>512</td>\n      <td>ios</td>\n      <td>33999</td>\n      <td>4glte</td>\n    </tr>\n    <tr>\n      <th>2</th>\n      <td>apple</td>\n      <td>iphone 11 pro</td>\n      <td>0.252</td>\n      <td>12</td>\n      <td>12</td>\n      <td>apple</td>\n      <td>4</td>\n      <td>512</td>\n      <td>ios</td>\n      <td>31279</td>\n      <td>4glte</td>\n    </tr>\n    <tr>\n      <th>3</th>\n      <td>samsung</td>\n      <td>galaxy note 20 ultra</td>\n      <td>0.302</td>\n      <td>12</td>\n      <td>10</td>\n      <td>qualcomm</td>\n      <td>8</td>\n      <td>256</td>\n      <td>android</td>\n      <td>30599</td>\n      <td>4g</td>\n    </tr>\n    <tr>\n      <th>4</th>\n      <td>samsung</td>\n      <td>galaxy z flip</td>\n      <td>0.183</td>\n      <td>12</td>\n      <td>10</td>\n      <td>qualcomm</td>\n      <td>8</td>\n      <td>256</td>\n      <td>android</td>\n      <td>29699</td>\n      <td>4glte</td>\n    </tr>\n    <tr>\n      <th>...</th>\n      <td>...</td>\n      <td>...</td>\n      <td>...</td>\n      <td>...</td>\n      <td>...</td>\n      <td>...</td>\n      <td>...</td>\n      <td>...</td>\n      <td>...</td>\n      <td>...</td>\n      <td>...</td>\n    </tr>\n    <tr>\n      <th>76</th>\n      <td>motorola</td>\n      <td>moto e6 plus</td>\n      <td>0.149</td>\n      <td>13</td>\n      <td>8</td>\n      <td>qualcomm</td>\n      <td>2</td>\n      <td>32</td>\n      <td>android</td>\n      <td>2990</td>\n      <td>4glte</td>\n    </tr>\n    <tr>\n      <th>77</th>\n      <td>motorola</td>\n      <td>moto e6 play</td>\n      <td>0.190</td>\n      <td>13</td>\n      <td>8</td>\n      <td>qualcomm</td>\n      <td>1</td>\n      <td>16</td>\n      <td>android</td>\n      <td>2499</td>\n      <td>4glte</td>\n    </tr>\n    <tr>\n      <th>78</th>\n      <td>motorola</td>\n      <td>moto e6 plus</td>\n      <td>0.149</td>\n      <td>13</td>\n      <td>8</td>\n      <td>mediatek</td>\n      <td>2</td>\n      <td>32</td>\n      <td>android</td>\n      <td>2990</td>\n      <td>4glte</td>\n    </tr>\n    <tr>\n      <th>79</th>\n      <td>huawei</td>\n      <td>honor 8a</td>\n      <td>0.176</td>\n      <td>13</td>\n      <td>8</td>\n      <td>mediatek</td>\n      <td>2</td>\n      <td>32</td>\n      <td>android</td>\n      <td>3299</td>\n      <td>4glte</td>\n    </tr>\n    <tr>\n      <th>80</th>\n      <td>motorola</td>\n      <td>moto e6 play</td>\n      <td>0.190</td>\n      <td>13</td>\n      <td>5</td>\n      <td>qualcomm</td>\n      <td>1</td>\n      <td>16</td>\n      <td>android</td>\n      <td>2499</td>\n      <td>4glte</td>\n    </tr>\n  </tbody>\n</table>\n<p>81 rows × 11 columns</p>\n</div>"
     },
     "metadata": {},
     "execution_count": 5
    }
   ],
   "source": [
    "df"
   ]
  },
  {
   "cell_type": "code",
   "execution_count": 7,
   "metadata": {},
   "outputs": [],
   "source": [
    "# columnas categoricas\n",
    "columnas_categoricas = ['marca', 'procesador', 'sistema_operativo', 'tecnologia']\n",
    "# columnas numericas\n",
    "columnas_numericas = ['peso', 'camara_trasera', 'camara_frontal', 'ram', 'memoria', 'precio']"
   ]
  },
  {
   "source": [
    "### Llenado de valores faltantes\n",
    "En ambos casos de usará el valor más frecuente: el promedio para las variables númericas, para las variables categoricas la moda."
   ],
   "cell_type": "markdown",
   "metadata": {}
  },
  {
   "cell_type": "code",
   "execution_count": 39,
   "metadata": {},
   "outputs": [
    {
     "output_type": "execute_result",
     "data": {
      "text/plain": [
       "array([[2.8200e-01, 1.2000e+01, 1.0000e+01, 1.2000e+01, 2.5600e+02,\n",
       "        4.6799e+04],\n",
       "       [2.7200e-01, 1.2000e+01, 1.2000e+01, 4.0000e+00, 5.1200e+02,\n",
       "        3.3999e+04],\n",
       "       [2.5200e-01, 1.2000e+01, 1.2000e+01, 4.0000e+00, 5.1200e+02,\n",
       "        3.1279e+04],\n",
       "       [3.0200e-01, 1.2000e+01, 1.0000e+01, 8.0000e+00, 2.5600e+02,\n",
       "        3.0599e+04],\n",
       "       [1.8300e-01, 1.2000e+01, 1.0000e+01, 8.0000e+00, 2.5600e+02,\n",
       "        2.9699e+04],\n",
       "       [2.7200e-01, 1.2000e+01, 1.2000e+01, 4.0000e+00, 2.5600e+02,\n",
       "        2.8990e+04],\n",
       "       [3.1200e-01, 1.2000e+01, 1.0000e+01, 8.0000e+00, 2.5600e+02,\n",
       "        2.5990e+04],\n",
       "       [2.5200e-01, 1.2000e+01, 1.2000e+01, 4.0000e+00, 2.5600e+02,\n",
       "        2.5159e+04],\n",
       "       [2.5200e-01, 1.2000e+01, 1.2000e+01, 4.0000e+00, 2.5600e+02,\n",
       "        2.4990e+04],\n",
       "       [2.5200e-01, 1.2000e+01, 1.2000e+01, 4.0000e+00, 2.5600e+02,\n",
       "        2.4490e+04],\n",
       "       [3.0800e-01, 1.2000e+01, 7.0000e+00, 4.0000e+00, 5.1200e+02,\n",
       "        2.4303e+04],\n",
       "       [3.1200e-01, 1.2000e+01, 1.0000e+01, 8.0000e+00, 2.5600e+02,\n",
       "        2.4299e+04],\n",
       "       [2.5200e-01, 1.2000e+01, 1.2000e+01, 4.0000e+00, 6.4000e+01,\n",
       "        2.3799e+04],\n",
       "       [3.1200e-01, 1.2000e+01, 1.0000e+01, 8.0000e+00, 2.5600e+02,\n",
       "        2.2990e+04],\n",
       "       [2.5200e-01, 1.2000e+01, 1.2000e+01, 4.0000e+00, 2.5600e+02,\n",
       "        2.2990e+04],\n",
       "       [1.8600e-01, 1.0000e+01, 1.0000e+01, 8.0000e+00, 1.2800e+02,\n",
       "        2.2499e+04],\n",
       "       [3.0800e-01, 1.2000e+01, 7.0000e+00, 4.0000e+00, 5.1200e+02,\n",
       "        2.2247e+04],\n",
       "       [2.5200e-01, 1.2000e+01, 1.2000e+01, 4.0000e+00, 6.4000e+01,\n",
       "        2.2099e+04],\n",
       "       [3.1200e-01, 1.2000e+01, 1.0000e+01, 8.0000e+00, 2.5600e+02,\n",
       "        2.0990e+04],\n",
       "       [3.3200e-01, 1.2000e+01, 1.0000e+01, 8.0000e+00, 2.5600e+02,\n",
       "        1.9990e+04],\n",
       "       [1.8600e-01, 1.0000e+01, 1.0000e+01, 8.0000e+00, 2.5600e+02,\n",
       "        1.9990e+04],\n",
       "       [3.1200e-01, 1.2000e+01, 1.0000e+01, 8.0000e+00, 2.5600e+02,\n",
       "        1.9990e+04],\n",
       "       [1.8600e-01, 1.0000e+01, 1.0000e+01, 8.0000e+00, 1.2800e+02,\n",
       "        1.9990e+04],\n",
       "       [2.5200e-01, 1.2000e+01, 1.2000e+01, 4.0000e+00, 6.4000e+01,\n",
       "        1.9990e+04],\n",
       "       [3.0800e-01, 1.2000e+01, 7.0000e+00, 4.0000e+00, 2.5600e+02,\n",
       "        1.7990e+04],\n",
       "       [3.0800e-01, 1.2000e+01, 7.0000e+00, 4.0000e+00, 6.4000e+01,\n",
       "        1.7990e+04],\n",
       "       [3.0800e-01, 1.2000e+01, 7.0000e+00, 4.0000e+00, 2.5600e+02,\n",
       "        1.7599e+04],\n",
       "       [3.1200e-01, 1.6000e+01, 1.0000e+01, 1.2000e+01, 2.5600e+02,\n",
       "        1.6999e+04],\n",
       "       [3.0800e-01, 1.2000e+01, 7.0000e+00, 4.0000e+00, 2.5600e+02,\n",
       "        1.6990e+04],\n",
       "       [3.0800e-01, 1.2000e+01, 7.0000e+00, 4.0000e+00, 6.4000e+01,\n",
       "        1.5990e+04],\n",
       "       [1.8600e-01, 1.6000e+01, 1.0000e+01, 8.0000e+00, 1.2800e+02,\n",
       "        1.5990e+04],\n",
       "       [3.0000e-01, 1.2000e+01, 7.0000e+00, 4.0000e+00, 6.4000e+01,\n",
       "        1.5655e+04],\n",
       "       [3.1900e-01, 1.6000e+01, 1.0000e+01, 6.0000e+00, 1.2800e+02,\n",
       "        1.5299e+04],\n",
       "       [1.9000e-01, 6.4000e+01, 2.5000e+01, 6.0000e+00, 1.2800e+02,\n",
       "        1.4999e+04],\n",
       "       [3.0000e-01, 1.2000e+01, 7.0000e+00, 4.0000e+00, 6.4000e+01,\n",
       "        1.4990e+04],\n",
       "       [1.9900e-01, 3.2000e+01, 3.2000e+01, 6.0000e+00, 1.2800e+02,\n",
       "        1.1999e+04],\n",
       "       [1.9900e-01, 1.2000e+01, 3.2000e+01, 6.0000e+00, 1.2800e+02,\n",
       "        1.1999e+04],\n",
       "       [1.5000e-01, 7.0000e+00, 1.2000e+01, 4.0000e+00, 2.5600e+02,\n",
       "        1.1599e+04],\n",
       "       [2.1200e-01, 1.2000e+01, 8.0000e+00, 6.0000e+00, 1.2800e+02,\n",
       "        1.0990e+04],\n",
       "       [1.7900e-01, 3.2000e+01, 3.2000e+01, 6.0000e+00, 1.2800e+02,\n",
       "        9.9990e+03],\n",
       "       [1.9500e-01, 4.8000e+01, 2.0000e+01, 6.0000e+00, 1.2800e+02,\n",
       "        8.9990e+03],\n",
       "       [1.7900e-01, 3.2000e+01, 3.2000e+01, 6.0000e+00, 1.2800e+02,\n",
       "        8.9900e+03],\n",
       "       [1.7900e-01, 3.2000e+01, 3.2000e+01, 6.0000e+00, 1.2800e+02,\n",
       "        8.5900e+03],\n",
       "       [2.1500e-01, 3.2000e+01, 3.2000e+01, 4.0000e+00, 1.2800e+02,\n",
       "        7.9990e+03],\n",
       "       [2.3300e-01, 4.8000e+01, 3.2000e+01, 6.0000e+00, 1.2800e+02,\n",
       "        7.9990e+03],\n",
       "       [2.1600e-01, 2.0000e+01, 1.3000e+01, 6.0000e+00, 1.2800e+02,\n",
       "        7.9900e+03],\n",
       "       [2.4000e-01, 4.8000e+01, 2.5000e+01, 4.0000e+00, 1.2800e+02,\n",
       "        7.4900e+03],\n",
       "       [1.8500e-01, 4.8000e+01, 2.0000e+01, 4.0000e+00, 1.2800e+02,\n",
       "        6.9990e+03],\n",
       "       [2.6000e-01, 1.6000e+01, 4.8000e+01, 6.0000e+00, 3.2000e+01,\n",
       "        6.5900e+03],\n",
       "       [2.4000e-01, 4.8000e+01, 2.5000e+01, 4.0000e+00, 1.2800e+02,\n",
       "        6.5900e+03],\n",
       "       [1.9900e-01, 4.8000e+01, 1.3000e+01, 4.0000e+00, 1.2800e+02,\n",
       "        6.4990e+03],\n",
       "       [1.8500e-01, 4.8000e+01, 2.0000e+01, 4.0000e+00, 1.2800e+02,\n",
       "        6.4990e+03],\n",
       "       [2.7000e-01, 4.8000e+01, 2.5000e+01, 4.0000e+00, 1.2800e+02,\n",
       "        6.4990e+03],\n",
       "       [1.9800e-01, 3.2000e+01, 2.5000e+01, 4.0000e+00, 1.2800e+02,\n",
       "        6.4900e+03],\n",
       "       [1.9200e-01, 4.8000e+01, 1.3000e+01, 4.0000e+00, 6.4000e+01,\n",
       "        5.9990e+03],\n",
       "       [1.8800e-01, 5.0000e+00, 1.6000e+01, 4.0000e+00, 3.2000e+01,\n",
       "        5.9990e+03],\n",
       "       [1.9200e-01, 2.0000e+01, 1.6000e+01, 6.0000e+00, 1.2800e+02,\n",
       "        5.9990e+03],\n",
       "       [2.7000e-01, 4.8000e+01, 2.5000e+01, 4.0000e+00, 1.2800e+02,\n",
       "        5.9900e+03],\n",
       "       [1.8800e-01, 5.0000e+00, 1.6000e+01, 4.0000e+00, 3.2000e+01,\n",
       "        5.4900e+03],\n",
       "       [2.3000e-01, 1.2000e+01, 3.2000e+01, 4.0000e+00, 1.2800e+02,\n",
       "        5.4900e+03],\n",
       "       [2.0000e-01, 4.8000e+01, 2.5000e+01, 4.0000e+00, 6.4000e+01,\n",
       "        4.9990e+03],\n",
       "       [1.9200e-01, 4.8000e+01, 8.0000e+00, 4.0000e+00, 1.2800e+02,\n",
       "        4.9990e+03],\n",
       "       [1.8800e-01, 1.6000e+01, 4.8000e+01, 4.0000e+00, 3.2000e+01,\n",
       "        4.9990e+03],\n",
       "       [1.8500e-01, 1.3000e+01, 8.0000e+00, 4.0000e+00, 3.2000e+01,\n",
       "        4.9990e+03],\n",
       "       [1.8800e-01, 4.8000e+01, 2.5000e+01, 4.0000e+00, 6.4000e+01,\n",
       "        4.9900e+03],\n",
       "       [1.1000e-01, 1.3000e+01, 8.0000e+00, 3.0000e+00, 4.8000e+01,\n",
       "        4.9490e+03],\n",
       "       [1.8500e-01, 1.3000e+01, 8.0000e+00, 4.0000e+00, 3.2000e+01,\n",
       "        4.7690e+03],\n",
       "       [1.8800e-01, 4.8000e+01, 2.5000e+01, 4.0000e+00, 6.4000e+01,\n",
       "        4.5900e+03],\n",
       "       [1.1000e-01, 1.3000e+01, 8.0000e+00, 3.0000e+00, 3.2000e+01,\n",
       "        4.4900e+03],\n",
       "       [1.8500e-01, 1.3000e+01, 8.0000e+00, 4.0000e+00, 3.2000e+01,\n",
       "        4.1900e+03],\n",
       "       [1.6900e-01, 1.3000e+01, 8.0000e+00, 3.0000e+00, 3.2000e+01,\n",
       "        3.9990e+03],\n",
       "       [1.7900e-01, 1.6000e+01, 1.6000e+01, 3.0000e+00, 3.2000e+01,\n",
       "        3.9990e+03],\n",
       "       [1.7600e-01, 1.3000e+01, 8.0000e+00, 2.0000e+00, 3.2000e+01,\n",
       "        3.9990e+03],\n",
       "       [1.1000e-01, 1.3000e+01, 8.0000e+00, 3.0000e+00, 3.2000e+01,\n",
       "        3.9900e+03],\n",
       "       [1.8800e-01, 8.0000e+00, 1.3000e+01, 2.0000e+00, 3.2000e+01,\n",
       "        3.4900e+03],\n",
       "       [1.7600e-01, 8.0000e+00, 1.3000e+01, 2.0000e+00, 3.2000e+01,\n",
       "        3.2990e+03],\n",
       "       [1.4900e-01, 1.3000e+01, 8.0000e+00, 2.0000e+00, 3.2000e+01,\n",
       "        2.9900e+03],\n",
       "       [1.9000e-01, 1.3000e+01, 8.0000e+00, 1.0000e+00, 1.6000e+01,\n",
       "        2.4990e+03],\n",
       "       [1.4900e-01, 1.3000e+01, 8.0000e+00, 2.0000e+00, 3.2000e+01,\n",
       "        2.9900e+03],\n",
       "       [1.7600e-01, 1.3000e+01, 8.0000e+00, 2.0000e+00, 3.2000e+01,\n",
       "        3.2990e+03],\n",
       "       [1.9000e-01, 1.3000e+01, 5.0000e+00, 1.0000e+00, 1.6000e+01,\n",
       "        2.4990e+03]])"
      ]
     },
     "metadata": {},
     "execution_count": 39
    }
   ],
   "source": [
    "# normalización de variables continuas\n",
    "estandarizador = StandardScaler()\n",
    "estandarizador.fit(df[columnas_numericas])\n",
    "# estandarizador.transform(df[columnas_numericas])\n",
    "imputador_numeric   = SimpleImputer(missing_values = np.nan, strategy = 'mean')\n",
    "imputador_numeric.fit(df[columnas_numericas]).transform(df[columnas_numericas])\n",
    "# df[columnas_numericas]\n",
    "# imputador_categoric = SimpleImputer(mising_values = None, strategy = 'most_frequent')"
   ]
  },
  {
   "cell_type": "code",
   "execution_count": null,
   "metadata": {},
   "outputs": [],
   "source": []
  },
  {
   "cell_type": "code",
   "execution_count": 28,
   "metadata": {},
   "outputs": [
    {
     "output_type": "execute_result",
     "data": {
      "text/plain": [
       "array([[0., 0., 0., ..., 0., 0., 1.],\n",
       "       [1., 0., 0., ..., 0., 1., 0.],\n",
       "       [1., 0., 0., ..., 0., 1., 0.],\n",
       "       ...,\n",
       "       [0., 0., 1., ..., 0., 1., 0.],\n",
       "       [0., 1., 0., ..., 0., 1., 0.],\n",
       "       [0., 0., 1., ..., 0., 1., 0.]])"
      ]
     },
     "metadata": {},
     "execution_count": 28
    }
   ],
   "source": [
    "# codificación de variables categoricas\n",
    "# one hot encoder\n",
    "encoder = OneHotEncoder(handle_unknown = 'ignore', sparse = False)\n",
    "encoder.fit(df[columnas_categoricas]).transform(df[columnas_categoricas])"
   ]
  },
  {
   "cell_type": "code",
   "execution_count": 12,
   "metadata": {},
   "outputs": [
    {
     "output_type": "execute_result",
     "data": {
      "text/plain": [
       "       marca procesador sistema_operativo tecnologia\n",
       "0    samsung   qualcomm           android         5g\n",
       "1      apple      apple               ios      4glte\n",
       "2      apple      apple               ios      4glte\n",
       "3    samsung   qualcomm           android         4g\n",
       "4    samsung   qualcomm           android      4glte\n",
       "..       ...        ...               ...        ...\n",
       "76  motorola   qualcomm           android      4glte\n",
       "77  motorola   qualcomm           android      4glte\n",
       "78  motorola   mediatek           android      4glte\n",
       "79    huawei   mediatek           android      4glte\n",
       "80  motorola   qualcomm           android      4glte\n",
       "\n",
       "[81 rows x 4 columns]"
      ],
      "text/html": "<div>\n<style scoped>\n    .dataframe tbody tr th:only-of-type {\n        vertical-align: middle;\n    }\n\n    .dataframe tbody tr th {\n        vertical-align: top;\n    }\n\n    .dataframe thead th {\n        text-align: right;\n    }\n</style>\n<table border=\"1\" class=\"dataframe\">\n  <thead>\n    <tr style=\"text-align: right;\">\n      <th></th>\n      <th>marca</th>\n      <th>procesador</th>\n      <th>sistema_operativo</th>\n      <th>tecnologia</th>\n    </tr>\n  </thead>\n  <tbody>\n    <tr>\n      <th>0</th>\n      <td>samsung</td>\n      <td>qualcomm</td>\n      <td>android</td>\n      <td>5g</td>\n    </tr>\n    <tr>\n      <th>1</th>\n      <td>apple</td>\n      <td>apple</td>\n      <td>ios</td>\n      <td>4glte</td>\n    </tr>\n    <tr>\n      <th>2</th>\n      <td>apple</td>\n      <td>apple</td>\n      <td>ios</td>\n      <td>4glte</td>\n    </tr>\n    <tr>\n      <th>3</th>\n      <td>samsung</td>\n      <td>qualcomm</td>\n      <td>android</td>\n      <td>4g</td>\n    </tr>\n    <tr>\n      <th>4</th>\n      <td>samsung</td>\n      <td>qualcomm</td>\n      <td>android</td>\n      <td>4glte</td>\n    </tr>\n    <tr>\n      <th>...</th>\n      <td>...</td>\n      <td>...</td>\n      <td>...</td>\n      <td>...</td>\n    </tr>\n    <tr>\n      <th>76</th>\n      <td>motorola</td>\n      <td>qualcomm</td>\n      <td>android</td>\n      <td>4glte</td>\n    </tr>\n    <tr>\n      <th>77</th>\n      <td>motorola</td>\n      <td>qualcomm</td>\n      <td>android</td>\n      <td>4glte</td>\n    </tr>\n    <tr>\n      <th>78</th>\n      <td>motorola</td>\n      <td>mediatek</td>\n      <td>android</td>\n      <td>4glte</td>\n    </tr>\n    <tr>\n      <th>79</th>\n      <td>huawei</td>\n      <td>mediatek</td>\n      <td>android</td>\n      <td>4glte</td>\n    </tr>\n    <tr>\n      <th>80</th>\n      <td>motorola</td>\n      <td>qualcomm</td>\n      <td>android</td>\n      <td>4glte</td>\n    </tr>\n  </tbody>\n</table>\n<p>81 rows × 4 columns</p>\n</div>"
     },
     "metadata": {},
     "execution_count": 12
    }
   ],
   "source": [
    "df[columnas_categoricas]"
   ]
  },
  {
   "cell_type": "code",
   "execution_count": null,
   "metadata": {},
   "outputs": [],
   "source": []
  }
 ]
}